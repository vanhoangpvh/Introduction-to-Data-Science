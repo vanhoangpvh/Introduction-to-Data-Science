{
  "nbformat": 4,
  "nbformat_minor": 0,
  "metadata": {
    "colab": {
      "provenance": [],
      "collapsed_sections": [
        "wXTSveJrFB9Z",
        "LZoBCsPRKU5Q",
        "8Ax9w-6dKcgL",
        "JuAcDRsYT0sE",
        "mTuZHlQCLXkv"
      ]
    },
    "kernelspec": {
      "name": "python3",
      "display_name": "Python 3"
    },
    "language_info": {
      "name": "python"
    }
  },
  "cells": [
    {
      "cell_type": "markdown",
      "source": [
        "#Introduction to Data Science - 22KDL Lab 03: Principal Component Analysis:\n",
        "**Name:** Phan Văn Hoàng <br>\n",
        "**ID:** 22280033 <br>\n",
        "**Class:** 22KDL1\n"
      ],
      "metadata": {
        "id": "LsVU5iB1dKp3"
      }
    },
    {
      "cell_type": "markdown",
      "source": [
        "##**Problem Statement**:\n",
        "###Introduction:\n",
        "The objective of this report is to utilize a real-world dataset from a cancer regression dataset to implement Principal Component Analysis (PCA) and evaluate its efficacy in reducing the dimensionality of high-dimensional data while retaining its fundamental characteristics."
      ],
      "metadata": {
        "id": "xzaSAyBTd5UO"
      }
    },
    {
      "cell_type": "markdown",
      "source": [
        "## **Data description:**\n"
      ],
      "metadata": {
        "id": "6ov0ugvYNF91"
      }
    },
    {
      "cell_type": "markdown",
      "source": [
        "The dataset comprises two separate CSV files, both of which can be accessed using the `read_csv(file_path)` function in Python's `pandas` library. <br>\n",
        "\n"
      ],
      "metadata": {
        "id": "_-L0NyfZRJ8q"
      }
    },
    {
      "cell_type": "code",
      "source": [
        "import pandas as pd\n",
        "import numpy as np\n",
        "\n",
        "#Loading dataset\n",
        "df_household = pd.read_csv('avg-household-size.csv')\n",
        "df_cancer = pd.read_csv('cancer_reg.csv')\n"
      ],
      "metadata": {
        "id": "GK1CQ32UOB-I"
      },
      "execution_count": 158,
      "outputs": []
    },
    {
      "cell_type": "markdown",
      "source": [
        "The first dataset, named `df_household`, contains information on household size and geographical location. Each column within this dataset is described as follows:\n",
        "\n",
        "1. `statefips`: Represents the FIPS code corresponding to the state.\n",
        "2. `countyfips`: Indicates the FIPS code associated with the county or census area within the state.\n",
        "3. `avghouseholdsize`: The average household size in the region.\n",
        "4. `geography`: The geographical location, typically represented as the county or census area name followed by the state name."
      ],
      "metadata": {
        "id": "QgPfqV5_e_L3"
      }
    },
    {
      "cell_type": "code",
      "source": [
        "#Showing the features names from dataset 1\n",
        "df_household.keys()"
      ],
      "metadata": {
        "colab": {
          "base_uri": "https://localhost:8080/"
        },
        "id": "tXOFpnfnc-Gd",
        "outputId": "8418e258-cfc9-4b41-bc93-b2d039993c50"
      },
      "execution_count": 159,
      "outputs": [
        {
          "output_type": "execute_result",
          "data": {
            "text/plain": [
              "Index(['statefips', 'countyfips', 'avghouseholdsize', 'geography'], dtype='object')"
            ]
          },
          "metadata": {},
          "execution_count": 159
        }
      ]
    },
    {
      "cell_type": "markdown",
      "source": [
        "The second dataset, named `df_cancer`, contains health-related information for various regions. Each column within this dataset is detailed as follows:\n",
        "\n",
        "1. `avganncount`: Average number of cancer diagnoses per year\n",
        "2. `avgdeathsperyear`: Average number of deaths due to cancer per year\n",
        "3. `target_deathrate`: Cancer death rate (per 100,000 population)\n",
        "4. `incidencerate`: Cancer incidence rate\n",
        "5. `medincome`: Median income in the area\n",
        "6. `popest2015`: Estimated population in 2015\n",
        "7. `povertypercent`: Percentage of population below poverty level\n",
        "8. `studypercap`: Number of clinical trials related to cancer conducted per capita\n",
        "9. `binnedinc`: Binned average income\n",
        "10. `medianage`: Median age in the area\n",
        "11. `medianagemale`: Median age of males in the area\n",
        "12. `medianagefemale`: Median age of females in the area\n",
        "13. `geography`: Geographic location (County name)\n",
        "14. `percentmarried`: Percentage of population married\n",
        "15. `pctnohs18_24`: Percentage of population aged 18-24 with no high school diploma\n",
        "16. `pcths18_24`: Percentage of population aged 18-24 with high school diploma\n",
        "17. `pctsomecol18_24`: Percentage of population aged 18-24 with some college education\n",
        "18. `pctbachdeg18_24`: Percentage of population aged 18-24 with bachelor's degree\n",
        "19. `pcths25_over`: Percentage of population aged 25 and over with high school diploma\n",
        "20. `pctbachdeg25_over`: Percentage of population aged 25 and over with bachelor's degree\n",
        "21. `pctemployed16_over`: Percentage of population aged 16 and over employed\n",
        "22. `pctunemployed16_over`: Percentage of population aged 16 and over unemployed\n",
        "23. `pctprivatecoverage`: Percentage of population with private health coverage\n",
        "24. `pctprivatecoveragealone`: Percentage of population with private health coverage alone (no public assistance)\n",
        "25. `pctempprivcoverage`: Percentage of population with employer-based private health coverage\n",
        "26. `pctpubliccoverage`: Percentage of population with publicly provided health coverage\n",
        "27. `pctpubliccoveragealone`: Percentage of population with publicly provided health coverage alone\n",
        "28. `pctwhite`: Percentage of population White\n",
        "29. `pctblack`: Percentage of population Black\n",
        "30. `pctasian`: Percentage of population Asian\n",
        "31. `pctotherrace`: Percentage of population of other races\n",
        "32. `pctmarriedhouseholds`: Percentage of married households\n",
        "33. `birthrate`: Birth rate in the area\n",
        "\n",
        "\n",
        "\n",
        "\n",
        "\n"
      ],
      "metadata": {
        "id": "Dyst44Dwf6YV"
      }
    },
    {
      "cell_type": "code",
      "source": [
        "#Showing the features names from dataset 2\n",
        "df_cancer.keys()"
      ],
      "metadata": {
        "colab": {
          "base_uri": "https://localhost:8080/"
        },
        "id": "MFtbFRBSdW-V",
        "outputId": "732e06e5-184f-4b1b-b225-e7733e0d1c51"
      },
      "execution_count": 160,
      "outputs": [
        {
          "output_type": "execute_result",
          "data": {
            "text/plain": [
              "Index(['avganncount', 'avgdeathsperyear', 'target_deathrate', 'incidencerate',\n",
              "       'medincome', 'popest2015', 'povertypercent', 'studypercap', 'binnedinc',\n",
              "       'medianage', 'medianagemale', 'medianagefemale', 'geography',\n",
              "       'percentmarried', 'pctnohs18_24', 'pcths18_24', 'pctsomecol18_24',\n",
              "       'pctbachdeg18_24', 'pcths25_over', 'pctbachdeg25_over',\n",
              "       'pctemployed16_over', 'pctunemployed16_over', 'pctprivatecoverage',\n",
              "       'pctprivatecoveragealone', 'pctempprivcoverage', 'pctpubliccoverage',\n",
              "       'pctpubliccoveragealone', 'pctwhite', 'pctblack', 'pctasian',\n",
              "       'pctotherrace', 'pctmarriedhouseholds', 'birthrate'],\n",
              "      dtype='object')"
            ]
          },
          "metadata": {},
          "execution_count": 160
        }
      ]
    },
    {
      "cell_type": "markdown",
      "source": [
        "To gain a deeper understanding of the dataset, we utilized the `info()`,`head()`,`shape` and `describe()` functions in Python's `pandas` library. These functions provide valuable insights into the dataset's structure, the initial rows of data, the dimensions of the dataset and offer valuable insights into the numerical variables in the dataset."
      ],
      "metadata": {
        "id": "PODLzyeFHiGU"
      }
    },
    {
      "cell_type": "code",
      "source": [
        "#Getting information of dataset 1\n",
        "df_household.info()"
      ],
      "metadata": {
        "colab": {
          "base_uri": "https://localhost:8080/"
        },
        "id": "imF6epmyRry9",
        "outputId": "d12ce5e5-b2ff-4bf0-8693-b74dc9decbc4"
      },
      "execution_count": 161,
      "outputs": [
        {
          "output_type": "stream",
          "name": "stdout",
          "text": [
            "<class 'pandas.core.frame.DataFrame'>\n",
            "RangeIndex: 3220 entries, 0 to 3219\n",
            "Data columns (total 4 columns):\n",
            " #   Column            Non-Null Count  Dtype  \n",
            "---  ------            --------------  -----  \n",
            " 0   statefips         3220 non-null   int64  \n",
            " 1   countyfips        3220 non-null   int64  \n",
            " 2   avghouseholdsize  3220 non-null   float64\n",
            " 3   geography         3220 non-null   object \n",
            "dtypes: float64(1), int64(2), object(1)\n",
            "memory usage: 100.8+ KB\n"
          ]
        }
      ]
    },
    {
      "cell_type": "code",
      "source": [
        "#Getting information of dataset 2\n",
        "df_cancer.info()"
      ],
      "metadata": {
        "colab": {
          "base_uri": "https://localhost:8080/"
        },
        "id": "bAs2DWVkiOdS",
        "outputId": "b49a4e92-ab59-46e7-cdce-622f4dcbaafa"
      },
      "execution_count": 162,
      "outputs": [
        {
          "output_type": "stream",
          "name": "stdout",
          "text": [
            "<class 'pandas.core.frame.DataFrame'>\n",
            "RangeIndex: 3047 entries, 0 to 3046\n",
            "Data columns (total 33 columns):\n",
            " #   Column                   Non-Null Count  Dtype  \n",
            "---  ------                   --------------  -----  \n",
            " 0   avganncount              3047 non-null   float64\n",
            " 1   avgdeathsperyear         3047 non-null   int64  \n",
            " 2   target_deathrate         3047 non-null   float64\n",
            " 3   incidencerate            3047 non-null   float64\n",
            " 4   medincome                3047 non-null   int64  \n",
            " 5   popest2015               3047 non-null   int64  \n",
            " 6   povertypercent           3047 non-null   float64\n",
            " 7   studypercap              3047 non-null   float64\n",
            " 8   binnedinc                3047 non-null   object \n",
            " 9   medianage                3047 non-null   float64\n",
            " 10  medianagemale            3047 non-null   float64\n",
            " 11  medianagefemale          3047 non-null   float64\n",
            " 12  geography                3047 non-null   object \n",
            " 13  percentmarried           3047 non-null   float64\n",
            " 14  pctnohs18_24             3047 non-null   float64\n",
            " 15  pcths18_24               3047 non-null   float64\n",
            " 16  pctsomecol18_24          762 non-null    float64\n",
            " 17  pctbachdeg18_24          3047 non-null   float64\n",
            " 18  pcths25_over             3047 non-null   float64\n",
            " 19  pctbachdeg25_over        3047 non-null   float64\n",
            " 20  pctemployed16_over       2895 non-null   float64\n",
            " 21  pctunemployed16_over     3047 non-null   float64\n",
            " 22  pctprivatecoverage       3047 non-null   float64\n",
            " 23  pctprivatecoveragealone  2438 non-null   float64\n",
            " 24  pctempprivcoverage       3047 non-null   float64\n",
            " 25  pctpubliccoverage        3047 non-null   float64\n",
            " 26  pctpubliccoveragealone   3047 non-null   float64\n",
            " 27  pctwhite                 3047 non-null   float64\n",
            " 28  pctblack                 3047 non-null   float64\n",
            " 29  pctasian                 3047 non-null   float64\n",
            " 30  pctotherrace             3047 non-null   float64\n",
            " 31  pctmarriedhouseholds     3047 non-null   float64\n",
            " 32  birthrate                3047 non-null   float64\n",
            "dtypes: float64(28), int64(3), object(2)\n",
            "memory usage: 785.7+ KB\n"
          ]
        }
      ]
    },
    {
      "cell_type": "code",
      "source": [
        "#Getting the first 5 rows of the dataset 1\n",
        "df_household.head()"
      ],
      "metadata": {
        "colab": {
          "base_uri": "https://localhost:8080/",
          "height": 206
        },
        "id": "OP_ep3Z5U-qd",
        "outputId": "8644ae88-b600-48fe-ca49-96ac4faca0a1"
      },
      "execution_count": 163,
      "outputs": [
        {
          "output_type": "execute_result",
          "data": {
            "text/plain": [
              "   statefips  countyfips  avghouseholdsize                           geography\n",
              "0          2          13              2.43      Aleutians East Borough, Alaska\n",
              "1          2          16              3.59  Aleutians West Census Area, Alaska\n",
              "2          2          20              2.77      Anchorage Municipality, Alaska\n",
              "3          2          50              3.86          Bethel Census Area, Alaska\n",
              "4          2          60              2.50         Bristol Bay Borough, Alaska"
            ],
            "text/html": [
              "\n",
              "  <div id=\"df-4ab230d7-adfc-41fb-9779-11ccd3a35b25\" class=\"colab-df-container\">\n",
              "    <div>\n",
              "<style scoped>\n",
              "    .dataframe tbody tr th:only-of-type {\n",
              "        vertical-align: middle;\n",
              "    }\n",
              "\n",
              "    .dataframe tbody tr th {\n",
              "        vertical-align: top;\n",
              "    }\n",
              "\n",
              "    .dataframe thead th {\n",
              "        text-align: right;\n",
              "    }\n",
              "</style>\n",
              "<table border=\"1\" class=\"dataframe\">\n",
              "  <thead>\n",
              "    <tr style=\"text-align: right;\">\n",
              "      <th></th>\n",
              "      <th>statefips</th>\n",
              "      <th>countyfips</th>\n",
              "      <th>avghouseholdsize</th>\n",
              "      <th>geography</th>\n",
              "    </tr>\n",
              "  </thead>\n",
              "  <tbody>\n",
              "    <tr>\n",
              "      <th>0</th>\n",
              "      <td>2</td>\n",
              "      <td>13</td>\n",
              "      <td>2.43</td>\n",
              "      <td>Aleutians East Borough, Alaska</td>\n",
              "    </tr>\n",
              "    <tr>\n",
              "      <th>1</th>\n",
              "      <td>2</td>\n",
              "      <td>16</td>\n",
              "      <td>3.59</td>\n",
              "      <td>Aleutians West Census Area, Alaska</td>\n",
              "    </tr>\n",
              "    <tr>\n",
              "      <th>2</th>\n",
              "      <td>2</td>\n",
              "      <td>20</td>\n",
              "      <td>2.77</td>\n",
              "      <td>Anchorage Municipality, Alaska</td>\n",
              "    </tr>\n",
              "    <tr>\n",
              "      <th>3</th>\n",
              "      <td>2</td>\n",
              "      <td>50</td>\n",
              "      <td>3.86</td>\n",
              "      <td>Bethel Census Area, Alaska</td>\n",
              "    </tr>\n",
              "    <tr>\n",
              "      <th>4</th>\n",
              "      <td>2</td>\n",
              "      <td>60</td>\n",
              "      <td>2.50</td>\n",
              "      <td>Bristol Bay Borough, Alaska</td>\n",
              "    </tr>\n",
              "  </tbody>\n",
              "</table>\n",
              "</div>\n",
              "    <div class=\"colab-df-buttons\">\n",
              "\n",
              "  <div class=\"colab-df-container\">\n",
              "    <button class=\"colab-df-convert\" onclick=\"convertToInteractive('df-4ab230d7-adfc-41fb-9779-11ccd3a35b25')\"\n",
              "            title=\"Convert this dataframe to an interactive table.\"\n",
              "            style=\"display:none;\">\n",
              "\n",
              "  <svg xmlns=\"http://www.w3.org/2000/svg\" height=\"24px\" viewBox=\"0 -960 960 960\">\n",
              "    <path d=\"M120-120v-720h720v720H120Zm60-500h600v-160H180v160Zm220 220h160v-160H400v160Zm0 220h160v-160H400v160ZM180-400h160v-160H180v160Zm440 0h160v-160H620v160ZM180-180h160v-160H180v160Zm440 0h160v-160H620v160Z\"/>\n",
              "  </svg>\n",
              "    </button>\n",
              "\n",
              "  <style>\n",
              "    .colab-df-container {\n",
              "      display:flex;\n",
              "      gap: 12px;\n",
              "    }\n",
              "\n",
              "    .colab-df-convert {\n",
              "      background-color: #E8F0FE;\n",
              "      border: none;\n",
              "      border-radius: 50%;\n",
              "      cursor: pointer;\n",
              "      display: none;\n",
              "      fill: #1967D2;\n",
              "      height: 32px;\n",
              "      padding: 0 0 0 0;\n",
              "      width: 32px;\n",
              "    }\n",
              "\n",
              "    .colab-df-convert:hover {\n",
              "      background-color: #E2EBFA;\n",
              "      box-shadow: 0px 1px 2px rgba(60, 64, 67, 0.3), 0px 1px 3px 1px rgba(60, 64, 67, 0.15);\n",
              "      fill: #174EA6;\n",
              "    }\n",
              "\n",
              "    .colab-df-buttons div {\n",
              "      margin-bottom: 4px;\n",
              "    }\n",
              "\n",
              "    [theme=dark] .colab-df-convert {\n",
              "      background-color: #3B4455;\n",
              "      fill: #D2E3FC;\n",
              "    }\n",
              "\n",
              "    [theme=dark] .colab-df-convert:hover {\n",
              "      background-color: #434B5C;\n",
              "      box-shadow: 0px 1px 3px 1px rgba(0, 0, 0, 0.15);\n",
              "      filter: drop-shadow(0px 1px 2px rgba(0, 0, 0, 0.3));\n",
              "      fill: #FFFFFF;\n",
              "    }\n",
              "  </style>\n",
              "\n",
              "    <script>\n",
              "      const buttonEl =\n",
              "        document.querySelector('#df-4ab230d7-adfc-41fb-9779-11ccd3a35b25 button.colab-df-convert');\n",
              "      buttonEl.style.display =\n",
              "        google.colab.kernel.accessAllowed ? 'block' : 'none';\n",
              "\n",
              "      async function convertToInteractive(key) {\n",
              "        const element = document.querySelector('#df-4ab230d7-adfc-41fb-9779-11ccd3a35b25');\n",
              "        const dataTable =\n",
              "          await google.colab.kernel.invokeFunction('convertToInteractive',\n",
              "                                                    [key], {});\n",
              "        if (!dataTable) return;\n",
              "\n",
              "        const docLinkHtml = 'Like what you see? Visit the ' +\n",
              "          '<a target=\"_blank\" href=https://colab.research.google.com/notebooks/data_table.ipynb>data table notebook</a>'\n",
              "          + ' to learn more about interactive tables.';\n",
              "        element.innerHTML = '';\n",
              "        dataTable['output_type'] = 'display_data';\n",
              "        await google.colab.output.renderOutput(dataTable, element);\n",
              "        const docLink = document.createElement('div');\n",
              "        docLink.innerHTML = docLinkHtml;\n",
              "        element.appendChild(docLink);\n",
              "      }\n",
              "    </script>\n",
              "  </div>\n",
              "\n",
              "\n",
              "<div id=\"df-746979a6-2222-4d4c-b107-852e758399ba\">\n",
              "  <button class=\"colab-df-quickchart\" onclick=\"quickchart('df-746979a6-2222-4d4c-b107-852e758399ba')\"\n",
              "            title=\"Suggest charts\"\n",
              "            style=\"display:none;\">\n",
              "\n",
              "<svg xmlns=\"http://www.w3.org/2000/svg\" height=\"24px\"viewBox=\"0 0 24 24\"\n",
              "     width=\"24px\">\n",
              "    <g>\n",
              "        <path d=\"M19 3H5c-1.1 0-2 .9-2 2v14c0 1.1.9 2 2 2h14c1.1 0 2-.9 2-2V5c0-1.1-.9-2-2-2zM9 17H7v-7h2v7zm4 0h-2V7h2v10zm4 0h-2v-4h2v4z\"/>\n",
              "    </g>\n",
              "</svg>\n",
              "  </button>\n",
              "\n",
              "<style>\n",
              "  .colab-df-quickchart {\n",
              "      --bg-color: #E8F0FE;\n",
              "      --fill-color: #1967D2;\n",
              "      --hover-bg-color: #E2EBFA;\n",
              "      --hover-fill-color: #174EA6;\n",
              "      --disabled-fill-color: #AAA;\n",
              "      --disabled-bg-color: #DDD;\n",
              "  }\n",
              "\n",
              "  [theme=dark] .colab-df-quickchart {\n",
              "      --bg-color: #3B4455;\n",
              "      --fill-color: #D2E3FC;\n",
              "      --hover-bg-color: #434B5C;\n",
              "      --hover-fill-color: #FFFFFF;\n",
              "      --disabled-bg-color: #3B4455;\n",
              "      --disabled-fill-color: #666;\n",
              "  }\n",
              "\n",
              "  .colab-df-quickchart {\n",
              "    background-color: var(--bg-color);\n",
              "    border: none;\n",
              "    border-radius: 50%;\n",
              "    cursor: pointer;\n",
              "    display: none;\n",
              "    fill: var(--fill-color);\n",
              "    height: 32px;\n",
              "    padding: 0;\n",
              "    width: 32px;\n",
              "  }\n",
              "\n",
              "  .colab-df-quickchart:hover {\n",
              "    background-color: var(--hover-bg-color);\n",
              "    box-shadow: 0 1px 2px rgba(60, 64, 67, 0.3), 0 1px 3px 1px rgba(60, 64, 67, 0.15);\n",
              "    fill: var(--button-hover-fill-color);\n",
              "  }\n",
              "\n",
              "  .colab-df-quickchart-complete:disabled,\n",
              "  .colab-df-quickchart-complete:disabled:hover {\n",
              "    background-color: var(--disabled-bg-color);\n",
              "    fill: var(--disabled-fill-color);\n",
              "    box-shadow: none;\n",
              "  }\n",
              "\n",
              "  .colab-df-spinner {\n",
              "    border: 2px solid var(--fill-color);\n",
              "    border-color: transparent;\n",
              "    border-bottom-color: var(--fill-color);\n",
              "    animation:\n",
              "      spin 1s steps(1) infinite;\n",
              "  }\n",
              "\n",
              "  @keyframes spin {\n",
              "    0% {\n",
              "      border-color: transparent;\n",
              "      border-bottom-color: var(--fill-color);\n",
              "      border-left-color: var(--fill-color);\n",
              "    }\n",
              "    20% {\n",
              "      border-color: transparent;\n",
              "      border-left-color: var(--fill-color);\n",
              "      border-top-color: var(--fill-color);\n",
              "    }\n",
              "    30% {\n",
              "      border-color: transparent;\n",
              "      border-left-color: var(--fill-color);\n",
              "      border-top-color: var(--fill-color);\n",
              "      border-right-color: var(--fill-color);\n",
              "    }\n",
              "    40% {\n",
              "      border-color: transparent;\n",
              "      border-right-color: var(--fill-color);\n",
              "      border-top-color: var(--fill-color);\n",
              "    }\n",
              "    60% {\n",
              "      border-color: transparent;\n",
              "      border-right-color: var(--fill-color);\n",
              "    }\n",
              "    80% {\n",
              "      border-color: transparent;\n",
              "      border-right-color: var(--fill-color);\n",
              "      border-bottom-color: var(--fill-color);\n",
              "    }\n",
              "    90% {\n",
              "      border-color: transparent;\n",
              "      border-bottom-color: var(--fill-color);\n",
              "    }\n",
              "  }\n",
              "</style>\n",
              "\n",
              "  <script>\n",
              "    async function quickchart(key) {\n",
              "      const quickchartButtonEl =\n",
              "        document.querySelector('#' + key + ' button');\n",
              "      quickchartButtonEl.disabled = true;  // To prevent multiple clicks.\n",
              "      quickchartButtonEl.classList.add('colab-df-spinner');\n",
              "      try {\n",
              "        const charts = await google.colab.kernel.invokeFunction(\n",
              "            'suggestCharts', [key], {});\n",
              "      } catch (error) {\n",
              "        console.error('Error during call to suggestCharts:', error);\n",
              "      }\n",
              "      quickchartButtonEl.classList.remove('colab-df-spinner');\n",
              "      quickchartButtonEl.classList.add('colab-df-quickchart-complete');\n",
              "    }\n",
              "    (() => {\n",
              "      let quickchartButtonEl =\n",
              "        document.querySelector('#df-746979a6-2222-4d4c-b107-852e758399ba button');\n",
              "      quickchartButtonEl.style.display =\n",
              "        google.colab.kernel.accessAllowed ? 'block' : 'none';\n",
              "    })();\n",
              "  </script>\n",
              "</div>\n",
              "\n",
              "    </div>\n",
              "  </div>\n"
            ],
            "application/vnd.google.colaboratory.intrinsic+json": {
              "type": "dataframe",
              "variable_name": "df_household",
              "summary": "{\n  \"name\": \"df_household\",\n  \"rows\": 3220,\n  \"fields\": [\n    {\n      \"column\": \"statefips\",\n      \"properties\": {\n        \"dtype\": \"number\",\n        \"std\": 16,\n        \"min\": 1,\n        \"max\": 72,\n        \"num_unique_values\": 52,\n        \"samples\": [\n          25,\n          45,\n          50\n        ],\n        \"semantic_type\": \"\",\n        \"description\": \"\"\n      }\n    },\n    {\n      \"column\": \"countyfips\",\n      \"properties\": {\n        \"dtype\": \"number\",\n        \"std\": 106,\n        \"min\": 1,\n        \"max\": 840,\n        \"num_unique_values\": 325,\n        \"samples\": [\n          405,\n          161,\n          433\n        ],\n        \"semantic_type\": \"\",\n        \"description\": \"\"\n      }\n    },\n    {\n      \"column\": \"avghouseholdsize\",\n      \"properties\": {\n        \"dtype\": \"number\",\n        \"std\": 0.26765435265394455,\n        \"min\": 1.37,\n        \"max\": 4.73,\n        \"num_unique_values\": 175,\n        \"samples\": [\n          3.41,\n          1.97,\n          2.18\n        ],\n        \"semantic_type\": \"\",\n        \"description\": \"\"\n      }\n    },\n    {\n      \"column\": \"geography\",\n      \"properties\": {\n        \"dtype\": \"string\",\n        \"num_unique_values\": 3220,\n        \"samples\": [\n          \"Saguache County, Colorado\",\n          \"Polk County, Georgia\",\n          \"Sac County, Iowa\"\n        ],\n        \"semantic_type\": \"\",\n        \"description\": \"\"\n      }\n    }\n  ]\n}"
            }
          },
          "metadata": {},
          "execution_count": 163
        }
      ]
    },
    {
      "cell_type": "code",
      "source": [
        "#Getting the first 5 rows of the dataset 2\n",
        "df_cancer.head()"
      ],
      "metadata": {
        "colab": {
          "base_uri": "https://localhost:8080/",
          "height": 342
        },
        "id": "dFGRcMokiWeZ",
        "outputId": "844049cc-aa7a-4990-f9e2-46e9588dd96a"
      },
      "execution_count": 164,
      "outputs": [
        {
          "output_type": "execute_result",
          "data": {
            "text/plain": [
              "   avganncount  avgdeathsperyear  target_deathrate  incidencerate  medincome  \\\n",
              "0       1397.0               469             164.9          489.8      61898   \n",
              "1        173.0                70             161.3          411.6      48127   \n",
              "2        102.0                50             174.7          349.7      49348   \n",
              "3        427.0               202             194.8          430.4      44243   \n",
              "4         57.0                26             144.4          350.1      49955   \n",
              "\n",
              "   popest2015  povertypercent  studypercap           binnedinc  medianage  \\\n",
              "0      260131            11.2   499.748204   (61494.5, 125635]       39.3   \n",
              "1       43269            18.6    23.111234  (48021.6, 51046.4]       33.0   \n",
              "2       21026            14.6    47.560164  (48021.6, 51046.4]       45.0   \n",
              "3       75882            17.1   342.637253    (42724.4, 45201]       42.8   \n",
              "4       10321            12.5     0.000000  (48021.6, 51046.4]       48.3   \n",
              "\n",
              "   ...  pctprivatecoveragealone  pctempprivcoverage pctpubliccoverage  \\\n",
              "0  ...                      NaN                41.6              32.9   \n",
              "1  ...                     53.8                43.6              31.1   \n",
              "2  ...                     43.5                34.9              42.1   \n",
              "3  ...                     40.3                35.0              45.3   \n",
              "4  ...                     43.9                35.1              44.0   \n",
              "\n",
              "   pctpubliccoveragealone   pctwhite  pctblack  pctasian  pctotherrace  \\\n",
              "0                    14.0  81.780529  2.594728  4.821857      1.843479   \n",
              "1                    15.3  89.228509  0.969102  2.246233      3.741352   \n",
              "2                    21.1  90.922190  0.739673  0.465898      2.747358   \n",
              "3                    25.0  91.744686  0.782626  1.161359      1.362643   \n",
              "4                    22.7  94.104024  0.270192  0.665830      0.492135   \n",
              "\n",
              "   pctmarriedhouseholds  birthrate  \n",
              "0             52.856076   6.118831  \n",
              "1             45.372500   4.333096  \n",
              "2             54.444868   3.729488  \n",
              "3             51.021514   4.603841  \n",
              "4             54.027460   6.796657  \n",
              "\n",
              "[5 rows x 33 columns]"
            ],
            "text/html": [
              "\n",
              "  <div id=\"df-7a93a968-25d8-43c7-b5fc-59fa21b96554\" class=\"colab-df-container\">\n",
              "    <div>\n",
              "<style scoped>\n",
              "    .dataframe tbody tr th:only-of-type {\n",
              "        vertical-align: middle;\n",
              "    }\n",
              "\n",
              "    .dataframe tbody tr th {\n",
              "        vertical-align: top;\n",
              "    }\n",
              "\n",
              "    .dataframe thead th {\n",
              "        text-align: right;\n",
              "    }\n",
              "</style>\n",
              "<table border=\"1\" class=\"dataframe\">\n",
              "  <thead>\n",
              "    <tr style=\"text-align: right;\">\n",
              "      <th></th>\n",
              "      <th>avganncount</th>\n",
              "      <th>avgdeathsperyear</th>\n",
              "      <th>target_deathrate</th>\n",
              "      <th>incidencerate</th>\n",
              "      <th>medincome</th>\n",
              "      <th>popest2015</th>\n",
              "      <th>povertypercent</th>\n",
              "      <th>studypercap</th>\n",
              "      <th>binnedinc</th>\n",
              "      <th>medianage</th>\n",
              "      <th>...</th>\n",
              "      <th>pctprivatecoveragealone</th>\n",
              "      <th>pctempprivcoverage</th>\n",
              "      <th>pctpubliccoverage</th>\n",
              "      <th>pctpubliccoveragealone</th>\n",
              "      <th>pctwhite</th>\n",
              "      <th>pctblack</th>\n",
              "      <th>pctasian</th>\n",
              "      <th>pctotherrace</th>\n",
              "      <th>pctmarriedhouseholds</th>\n",
              "      <th>birthrate</th>\n",
              "    </tr>\n",
              "  </thead>\n",
              "  <tbody>\n",
              "    <tr>\n",
              "      <th>0</th>\n",
              "      <td>1397.0</td>\n",
              "      <td>469</td>\n",
              "      <td>164.9</td>\n",
              "      <td>489.8</td>\n",
              "      <td>61898</td>\n",
              "      <td>260131</td>\n",
              "      <td>11.2</td>\n",
              "      <td>499.748204</td>\n",
              "      <td>(61494.5, 125635]</td>\n",
              "      <td>39.3</td>\n",
              "      <td>...</td>\n",
              "      <td>NaN</td>\n",
              "      <td>41.6</td>\n",
              "      <td>32.9</td>\n",
              "      <td>14.0</td>\n",
              "      <td>81.780529</td>\n",
              "      <td>2.594728</td>\n",
              "      <td>4.821857</td>\n",
              "      <td>1.843479</td>\n",
              "      <td>52.856076</td>\n",
              "      <td>6.118831</td>\n",
              "    </tr>\n",
              "    <tr>\n",
              "      <th>1</th>\n",
              "      <td>173.0</td>\n",
              "      <td>70</td>\n",
              "      <td>161.3</td>\n",
              "      <td>411.6</td>\n",
              "      <td>48127</td>\n",
              "      <td>43269</td>\n",
              "      <td>18.6</td>\n",
              "      <td>23.111234</td>\n",
              "      <td>(48021.6, 51046.4]</td>\n",
              "      <td>33.0</td>\n",
              "      <td>...</td>\n",
              "      <td>53.8</td>\n",
              "      <td>43.6</td>\n",
              "      <td>31.1</td>\n",
              "      <td>15.3</td>\n",
              "      <td>89.228509</td>\n",
              "      <td>0.969102</td>\n",
              "      <td>2.246233</td>\n",
              "      <td>3.741352</td>\n",
              "      <td>45.372500</td>\n",
              "      <td>4.333096</td>\n",
              "    </tr>\n",
              "    <tr>\n",
              "      <th>2</th>\n",
              "      <td>102.0</td>\n",
              "      <td>50</td>\n",
              "      <td>174.7</td>\n",
              "      <td>349.7</td>\n",
              "      <td>49348</td>\n",
              "      <td>21026</td>\n",
              "      <td>14.6</td>\n",
              "      <td>47.560164</td>\n",
              "      <td>(48021.6, 51046.4]</td>\n",
              "      <td>45.0</td>\n",
              "      <td>...</td>\n",
              "      <td>43.5</td>\n",
              "      <td>34.9</td>\n",
              "      <td>42.1</td>\n",
              "      <td>21.1</td>\n",
              "      <td>90.922190</td>\n",
              "      <td>0.739673</td>\n",
              "      <td>0.465898</td>\n",
              "      <td>2.747358</td>\n",
              "      <td>54.444868</td>\n",
              "      <td>3.729488</td>\n",
              "    </tr>\n",
              "    <tr>\n",
              "      <th>3</th>\n",
              "      <td>427.0</td>\n",
              "      <td>202</td>\n",
              "      <td>194.8</td>\n",
              "      <td>430.4</td>\n",
              "      <td>44243</td>\n",
              "      <td>75882</td>\n",
              "      <td>17.1</td>\n",
              "      <td>342.637253</td>\n",
              "      <td>(42724.4, 45201]</td>\n",
              "      <td>42.8</td>\n",
              "      <td>...</td>\n",
              "      <td>40.3</td>\n",
              "      <td>35.0</td>\n",
              "      <td>45.3</td>\n",
              "      <td>25.0</td>\n",
              "      <td>91.744686</td>\n",
              "      <td>0.782626</td>\n",
              "      <td>1.161359</td>\n",
              "      <td>1.362643</td>\n",
              "      <td>51.021514</td>\n",
              "      <td>4.603841</td>\n",
              "    </tr>\n",
              "    <tr>\n",
              "      <th>4</th>\n",
              "      <td>57.0</td>\n",
              "      <td>26</td>\n",
              "      <td>144.4</td>\n",
              "      <td>350.1</td>\n",
              "      <td>49955</td>\n",
              "      <td>10321</td>\n",
              "      <td>12.5</td>\n",
              "      <td>0.000000</td>\n",
              "      <td>(48021.6, 51046.4]</td>\n",
              "      <td>48.3</td>\n",
              "      <td>...</td>\n",
              "      <td>43.9</td>\n",
              "      <td>35.1</td>\n",
              "      <td>44.0</td>\n",
              "      <td>22.7</td>\n",
              "      <td>94.104024</td>\n",
              "      <td>0.270192</td>\n",
              "      <td>0.665830</td>\n",
              "      <td>0.492135</td>\n",
              "      <td>54.027460</td>\n",
              "      <td>6.796657</td>\n",
              "    </tr>\n",
              "  </tbody>\n",
              "</table>\n",
              "<p>5 rows × 33 columns</p>\n",
              "</div>\n",
              "    <div class=\"colab-df-buttons\">\n",
              "\n",
              "  <div class=\"colab-df-container\">\n",
              "    <button class=\"colab-df-convert\" onclick=\"convertToInteractive('df-7a93a968-25d8-43c7-b5fc-59fa21b96554')\"\n",
              "            title=\"Convert this dataframe to an interactive table.\"\n",
              "            style=\"display:none;\">\n",
              "\n",
              "  <svg xmlns=\"http://www.w3.org/2000/svg\" height=\"24px\" viewBox=\"0 -960 960 960\">\n",
              "    <path d=\"M120-120v-720h720v720H120Zm60-500h600v-160H180v160Zm220 220h160v-160H400v160Zm0 220h160v-160H400v160ZM180-400h160v-160H180v160Zm440 0h160v-160H620v160ZM180-180h160v-160H180v160Zm440 0h160v-160H620v160Z\"/>\n",
              "  </svg>\n",
              "    </button>\n",
              "\n",
              "  <style>\n",
              "    .colab-df-container {\n",
              "      display:flex;\n",
              "      gap: 12px;\n",
              "    }\n",
              "\n",
              "    .colab-df-convert {\n",
              "      background-color: #E8F0FE;\n",
              "      border: none;\n",
              "      border-radius: 50%;\n",
              "      cursor: pointer;\n",
              "      display: none;\n",
              "      fill: #1967D2;\n",
              "      height: 32px;\n",
              "      padding: 0 0 0 0;\n",
              "      width: 32px;\n",
              "    }\n",
              "\n",
              "    .colab-df-convert:hover {\n",
              "      background-color: #E2EBFA;\n",
              "      box-shadow: 0px 1px 2px rgba(60, 64, 67, 0.3), 0px 1px 3px 1px rgba(60, 64, 67, 0.15);\n",
              "      fill: #174EA6;\n",
              "    }\n",
              "\n",
              "    .colab-df-buttons div {\n",
              "      margin-bottom: 4px;\n",
              "    }\n",
              "\n",
              "    [theme=dark] .colab-df-convert {\n",
              "      background-color: #3B4455;\n",
              "      fill: #D2E3FC;\n",
              "    }\n",
              "\n",
              "    [theme=dark] .colab-df-convert:hover {\n",
              "      background-color: #434B5C;\n",
              "      box-shadow: 0px 1px 3px 1px rgba(0, 0, 0, 0.15);\n",
              "      filter: drop-shadow(0px 1px 2px rgba(0, 0, 0, 0.3));\n",
              "      fill: #FFFFFF;\n",
              "    }\n",
              "  </style>\n",
              "\n",
              "    <script>\n",
              "      const buttonEl =\n",
              "        document.querySelector('#df-7a93a968-25d8-43c7-b5fc-59fa21b96554 button.colab-df-convert');\n",
              "      buttonEl.style.display =\n",
              "        google.colab.kernel.accessAllowed ? 'block' : 'none';\n",
              "\n",
              "      async function convertToInteractive(key) {\n",
              "        const element = document.querySelector('#df-7a93a968-25d8-43c7-b5fc-59fa21b96554');\n",
              "        const dataTable =\n",
              "          await google.colab.kernel.invokeFunction('convertToInteractive',\n",
              "                                                    [key], {});\n",
              "        if (!dataTable) return;\n",
              "\n",
              "        const docLinkHtml = 'Like what you see? Visit the ' +\n",
              "          '<a target=\"_blank\" href=https://colab.research.google.com/notebooks/data_table.ipynb>data table notebook</a>'\n",
              "          + ' to learn more about interactive tables.';\n",
              "        element.innerHTML = '';\n",
              "        dataTable['output_type'] = 'display_data';\n",
              "        await google.colab.output.renderOutput(dataTable, element);\n",
              "        const docLink = document.createElement('div');\n",
              "        docLink.innerHTML = docLinkHtml;\n",
              "        element.appendChild(docLink);\n",
              "      }\n",
              "    </script>\n",
              "  </div>\n",
              "\n",
              "\n",
              "<div id=\"df-6e07b7a8-0c06-4ae8-afbe-1d3b57a9aae9\">\n",
              "  <button class=\"colab-df-quickchart\" onclick=\"quickchart('df-6e07b7a8-0c06-4ae8-afbe-1d3b57a9aae9')\"\n",
              "            title=\"Suggest charts\"\n",
              "            style=\"display:none;\">\n",
              "\n",
              "<svg xmlns=\"http://www.w3.org/2000/svg\" height=\"24px\"viewBox=\"0 0 24 24\"\n",
              "     width=\"24px\">\n",
              "    <g>\n",
              "        <path d=\"M19 3H5c-1.1 0-2 .9-2 2v14c0 1.1.9 2 2 2h14c1.1 0 2-.9 2-2V5c0-1.1-.9-2-2-2zM9 17H7v-7h2v7zm4 0h-2V7h2v10zm4 0h-2v-4h2v4z\"/>\n",
              "    </g>\n",
              "</svg>\n",
              "  </button>\n",
              "\n",
              "<style>\n",
              "  .colab-df-quickchart {\n",
              "      --bg-color: #E8F0FE;\n",
              "      --fill-color: #1967D2;\n",
              "      --hover-bg-color: #E2EBFA;\n",
              "      --hover-fill-color: #174EA6;\n",
              "      --disabled-fill-color: #AAA;\n",
              "      --disabled-bg-color: #DDD;\n",
              "  }\n",
              "\n",
              "  [theme=dark] .colab-df-quickchart {\n",
              "      --bg-color: #3B4455;\n",
              "      --fill-color: #D2E3FC;\n",
              "      --hover-bg-color: #434B5C;\n",
              "      --hover-fill-color: #FFFFFF;\n",
              "      --disabled-bg-color: #3B4455;\n",
              "      --disabled-fill-color: #666;\n",
              "  }\n",
              "\n",
              "  .colab-df-quickchart {\n",
              "    background-color: var(--bg-color);\n",
              "    border: none;\n",
              "    border-radius: 50%;\n",
              "    cursor: pointer;\n",
              "    display: none;\n",
              "    fill: var(--fill-color);\n",
              "    height: 32px;\n",
              "    padding: 0;\n",
              "    width: 32px;\n",
              "  }\n",
              "\n",
              "  .colab-df-quickchart:hover {\n",
              "    background-color: var(--hover-bg-color);\n",
              "    box-shadow: 0 1px 2px rgba(60, 64, 67, 0.3), 0 1px 3px 1px rgba(60, 64, 67, 0.15);\n",
              "    fill: var(--button-hover-fill-color);\n",
              "  }\n",
              "\n",
              "  .colab-df-quickchart-complete:disabled,\n",
              "  .colab-df-quickchart-complete:disabled:hover {\n",
              "    background-color: var(--disabled-bg-color);\n",
              "    fill: var(--disabled-fill-color);\n",
              "    box-shadow: none;\n",
              "  }\n",
              "\n",
              "  .colab-df-spinner {\n",
              "    border: 2px solid var(--fill-color);\n",
              "    border-color: transparent;\n",
              "    border-bottom-color: var(--fill-color);\n",
              "    animation:\n",
              "      spin 1s steps(1) infinite;\n",
              "  }\n",
              "\n",
              "  @keyframes spin {\n",
              "    0% {\n",
              "      border-color: transparent;\n",
              "      border-bottom-color: var(--fill-color);\n",
              "      border-left-color: var(--fill-color);\n",
              "    }\n",
              "    20% {\n",
              "      border-color: transparent;\n",
              "      border-left-color: var(--fill-color);\n",
              "      border-top-color: var(--fill-color);\n",
              "    }\n",
              "    30% {\n",
              "      border-color: transparent;\n",
              "      border-left-color: var(--fill-color);\n",
              "      border-top-color: var(--fill-color);\n",
              "      border-right-color: var(--fill-color);\n",
              "    }\n",
              "    40% {\n",
              "      border-color: transparent;\n",
              "      border-right-color: var(--fill-color);\n",
              "      border-top-color: var(--fill-color);\n",
              "    }\n",
              "    60% {\n",
              "      border-color: transparent;\n",
              "      border-right-color: var(--fill-color);\n",
              "    }\n",
              "    80% {\n",
              "      border-color: transparent;\n",
              "      border-right-color: var(--fill-color);\n",
              "      border-bottom-color: var(--fill-color);\n",
              "    }\n",
              "    90% {\n",
              "      border-color: transparent;\n",
              "      border-bottom-color: var(--fill-color);\n",
              "    }\n",
              "  }\n",
              "</style>\n",
              "\n",
              "  <script>\n",
              "    async function quickchart(key) {\n",
              "      const quickchartButtonEl =\n",
              "        document.querySelector('#' + key + ' button');\n",
              "      quickchartButtonEl.disabled = true;  // To prevent multiple clicks.\n",
              "      quickchartButtonEl.classList.add('colab-df-spinner');\n",
              "      try {\n",
              "        const charts = await google.colab.kernel.invokeFunction(\n",
              "            'suggestCharts', [key], {});\n",
              "      } catch (error) {\n",
              "        console.error('Error during call to suggestCharts:', error);\n",
              "      }\n",
              "      quickchartButtonEl.classList.remove('colab-df-spinner');\n",
              "      quickchartButtonEl.classList.add('colab-df-quickchart-complete');\n",
              "    }\n",
              "    (() => {\n",
              "      let quickchartButtonEl =\n",
              "        document.querySelector('#df-6e07b7a8-0c06-4ae8-afbe-1d3b57a9aae9 button');\n",
              "      quickchartButtonEl.style.display =\n",
              "        google.colab.kernel.accessAllowed ? 'block' : 'none';\n",
              "    })();\n",
              "  </script>\n",
              "</div>\n",
              "\n",
              "    </div>\n",
              "  </div>\n"
            ],
            "application/vnd.google.colaboratory.intrinsic+json": {
              "type": "dataframe",
              "variable_name": "df_cancer"
            }
          },
          "metadata": {},
          "execution_count": 164
        }
      ]
    },
    {
      "cell_type": "code",
      "source": [
        "#Print the dimensions of the dataset 1\n",
        "df_household.shape"
      ],
      "metadata": {
        "colab": {
          "base_uri": "https://localhost:8080/"
        },
        "id": "gXBBknCL3JN0",
        "outputId": "43922f82-f3a1-4cd5-8758-df44529b48ab"
      },
      "execution_count": 165,
      "outputs": [
        {
          "output_type": "execute_result",
          "data": {
            "text/plain": [
              "(3220, 4)"
            ]
          },
          "metadata": {},
          "execution_count": 165
        }
      ]
    },
    {
      "cell_type": "code",
      "source": [
        "#Print the dimensions of the dataset 2\n",
        "df_cancer.shape"
      ],
      "metadata": {
        "colab": {
          "base_uri": "https://localhost:8080/"
        },
        "id": "AV9knc2ZiehK",
        "outputId": "affc40d2-303d-47bc-c33a-1c467dac3bda"
      },
      "execution_count": 166,
      "outputs": [
        {
          "output_type": "execute_result",
          "data": {
            "text/plain": [
              "(3047, 33)"
            ]
          },
          "metadata": {},
          "execution_count": 166
        }
      ]
    },
    {
      "cell_type": "code",
      "source": [
        "#Print the summary statistic of the dataset 1\n",
        "df_household.describe()"
      ],
      "metadata": {
        "colab": {
          "base_uri": "https://localhost:8080/",
          "height": 300
        },
        "id": "WZ-JrLmp9w9w",
        "outputId": "ec03e4ab-e307-475c-d866-965e0142cb82"
      },
      "execution_count": 167,
      "outputs": [
        {
          "output_type": "execute_result",
          "data": {
            "text/plain": [
              "         statefips   countyfips  avghouseholdsize\n",
              "count  3220.000000  3220.000000       3220.000000\n",
              "mean     31.290683   102.922050          2.540755\n",
              "std      16.277207   106.693846          0.267654\n",
              "min       1.000000     1.000000          1.370000\n",
              "25%      19.000000    35.000000          2.380000\n",
              "50%      30.000000    79.000000          2.510000\n",
              "75%      46.000000   133.000000          2.650000\n",
              "max      72.000000   840.000000          4.730000"
            ],
            "text/html": [
              "\n",
              "  <div id=\"df-09211072-7cba-49b8-8aca-94020ad1e999\" class=\"colab-df-container\">\n",
              "    <div>\n",
              "<style scoped>\n",
              "    .dataframe tbody tr th:only-of-type {\n",
              "        vertical-align: middle;\n",
              "    }\n",
              "\n",
              "    .dataframe tbody tr th {\n",
              "        vertical-align: top;\n",
              "    }\n",
              "\n",
              "    .dataframe thead th {\n",
              "        text-align: right;\n",
              "    }\n",
              "</style>\n",
              "<table border=\"1\" class=\"dataframe\">\n",
              "  <thead>\n",
              "    <tr style=\"text-align: right;\">\n",
              "      <th></th>\n",
              "      <th>statefips</th>\n",
              "      <th>countyfips</th>\n",
              "      <th>avghouseholdsize</th>\n",
              "    </tr>\n",
              "  </thead>\n",
              "  <tbody>\n",
              "    <tr>\n",
              "      <th>count</th>\n",
              "      <td>3220.000000</td>\n",
              "      <td>3220.000000</td>\n",
              "      <td>3220.000000</td>\n",
              "    </tr>\n",
              "    <tr>\n",
              "      <th>mean</th>\n",
              "      <td>31.290683</td>\n",
              "      <td>102.922050</td>\n",
              "      <td>2.540755</td>\n",
              "    </tr>\n",
              "    <tr>\n",
              "      <th>std</th>\n",
              "      <td>16.277207</td>\n",
              "      <td>106.693846</td>\n",
              "      <td>0.267654</td>\n",
              "    </tr>\n",
              "    <tr>\n",
              "      <th>min</th>\n",
              "      <td>1.000000</td>\n",
              "      <td>1.000000</td>\n",
              "      <td>1.370000</td>\n",
              "    </tr>\n",
              "    <tr>\n",
              "      <th>25%</th>\n",
              "      <td>19.000000</td>\n",
              "      <td>35.000000</td>\n",
              "      <td>2.380000</td>\n",
              "    </tr>\n",
              "    <tr>\n",
              "      <th>50%</th>\n",
              "      <td>30.000000</td>\n",
              "      <td>79.000000</td>\n",
              "      <td>2.510000</td>\n",
              "    </tr>\n",
              "    <tr>\n",
              "      <th>75%</th>\n",
              "      <td>46.000000</td>\n",
              "      <td>133.000000</td>\n",
              "      <td>2.650000</td>\n",
              "    </tr>\n",
              "    <tr>\n",
              "      <th>max</th>\n",
              "      <td>72.000000</td>\n",
              "      <td>840.000000</td>\n",
              "      <td>4.730000</td>\n",
              "    </tr>\n",
              "  </tbody>\n",
              "</table>\n",
              "</div>\n",
              "    <div class=\"colab-df-buttons\">\n",
              "\n",
              "  <div class=\"colab-df-container\">\n",
              "    <button class=\"colab-df-convert\" onclick=\"convertToInteractive('df-09211072-7cba-49b8-8aca-94020ad1e999')\"\n",
              "            title=\"Convert this dataframe to an interactive table.\"\n",
              "            style=\"display:none;\">\n",
              "\n",
              "  <svg xmlns=\"http://www.w3.org/2000/svg\" height=\"24px\" viewBox=\"0 -960 960 960\">\n",
              "    <path d=\"M120-120v-720h720v720H120Zm60-500h600v-160H180v160Zm220 220h160v-160H400v160Zm0 220h160v-160H400v160ZM180-400h160v-160H180v160Zm440 0h160v-160H620v160ZM180-180h160v-160H180v160Zm440 0h160v-160H620v160Z\"/>\n",
              "  </svg>\n",
              "    </button>\n",
              "\n",
              "  <style>\n",
              "    .colab-df-container {\n",
              "      display:flex;\n",
              "      gap: 12px;\n",
              "    }\n",
              "\n",
              "    .colab-df-convert {\n",
              "      background-color: #E8F0FE;\n",
              "      border: none;\n",
              "      border-radius: 50%;\n",
              "      cursor: pointer;\n",
              "      display: none;\n",
              "      fill: #1967D2;\n",
              "      height: 32px;\n",
              "      padding: 0 0 0 0;\n",
              "      width: 32px;\n",
              "    }\n",
              "\n",
              "    .colab-df-convert:hover {\n",
              "      background-color: #E2EBFA;\n",
              "      box-shadow: 0px 1px 2px rgba(60, 64, 67, 0.3), 0px 1px 3px 1px rgba(60, 64, 67, 0.15);\n",
              "      fill: #174EA6;\n",
              "    }\n",
              "\n",
              "    .colab-df-buttons div {\n",
              "      margin-bottom: 4px;\n",
              "    }\n",
              "\n",
              "    [theme=dark] .colab-df-convert {\n",
              "      background-color: #3B4455;\n",
              "      fill: #D2E3FC;\n",
              "    }\n",
              "\n",
              "    [theme=dark] .colab-df-convert:hover {\n",
              "      background-color: #434B5C;\n",
              "      box-shadow: 0px 1px 3px 1px rgba(0, 0, 0, 0.15);\n",
              "      filter: drop-shadow(0px 1px 2px rgba(0, 0, 0, 0.3));\n",
              "      fill: #FFFFFF;\n",
              "    }\n",
              "  </style>\n",
              "\n",
              "    <script>\n",
              "      const buttonEl =\n",
              "        document.querySelector('#df-09211072-7cba-49b8-8aca-94020ad1e999 button.colab-df-convert');\n",
              "      buttonEl.style.display =\n",
              "        google.colab.kernel.accessAllowed ? 'block' : 'none';\n",
              "\n",
              "      async function convertToInteractive(key) {\n",
              "        const element = document.querySelector('#df-09211072-7cba-49b8-8aca-94020ad1e999');\n",
              "        const dataTable =\n",
              "          await google.colab.kernel.invokeFunction('convertToInteractive',\n",
              "                                                    [key], {});\n",
              "        if (!dataTable) return;\n",
              "\n",
              "        const docLinkHtml = 'Like what you see? Visit the ' +\n",
              "          '<a target=\"_blank\" href=https://colab.research.google.com/notebooks/data_table.ipynb>data table notebook</a>'\n",
              "          + ' to learn more about interactive tables.';\n",
              "        element.innerHTML = '';\n",
              "        dataTable['output_type'] = 'display_data';\n",
              "        await google.colab.output.renderOutput(dataTable, element);\n",
              "        const docLink = document.createElement('div');\n",
              "        docLink.innerHTML = docLinkHtml;\n",
              "        element.appendChild(docLink);\n",
              "      }\n",
              "    </script>\n",
              "  </div>\n",
              "\n",
              "\n",
              "<div id=\"df-88b649c0-e014-42ce-a339-5aca02ac5851\">\n",
              "  <button class=\"colab-df-quickchart\" onclick=\"quickchart('df-88b649c0-e014-42ce-a339-5aca02ac5851')\"\n",
              "            title=\"Suggest charts\"\n",
              "            style=\"display:none;\">\n",
              "\n",
              "<svg xmlns=\"http://www.w3.org/2000/svg\" height=\"24px\"viewBox=\"0 0 24 24\"\n",
              "     width=\"24px\">\n",
              "    <g>\n",
              "        <path d=\"M19 3H5c-1.1 0-2 .9-2 2v14c0 1.1.9 2 2 2h14c1.1 0 2-.9 2-2V5c0-1.1-.9-2-2-2zM9 17H7v-7h2v7zm4 0h-2V7h2v10zm4 0h-2v-4h2v4z\"/>\n",
              "    </g>\n",
              "</svg>\n",
              "  </button>\n",
              "\n",
              "<style>\n",
              "  .colab-df-quickchart {\n",
              "      --bg-color: #E8F0FE;\n",
              "      --fill-color: #1967D2;\n",
              "      --hover-bg-color: #E2EBFA;\n",
              "      --hover-fill-color: #174EA6;\n",
              "      --disabled-fill-color: #AAA;\n",
              "      --disabled-bg-color: #DDD;\n",
              "  }\n",
              "\n",
              "  [theme=dark] .colab-df-quickchart {\n",
              "      --bg-color: #3B4455;\n",
              "      --fill-color: #D2E3FC;\n",
              "      --hover-bg-color: #434B5C;\n",
              "      --hover-fill-color: #FFFFFF;\n",
              "      --disabled-bg-color: #3B4455;\n",
              "      --disabled-fill-color: #666;\n",
              "  }\n",
              "\n",
              "  .colab-df-quickchart {\n",
              "    background-color: var(--bg-color);\n",
              "    border: none;\n",
              "    border-radius: 50%;\n",
              "    cursor: pointer;\n",
              "    display: none;\n",
              "    fill: var(--fill-color);\n",
              "    height: 32px;\n",
              "    padding: 0;\n",
              "    width: 32px;\n",
              "  }\n",
              "\n",
              "  .colab-df-quickchart:hover {\n",
              "    background-color: var(--hover-bg-color);\n",
              "    box-shadow: 0 1px 2px rgba(60, 64, 67, 0.3), 0 1px 3px 1px rgba(60, 64, 67, 0.15);\n",
              "    fill: var(--button-hover-fill-color);\n",
              "  }\n",
              "\n",
              "  .colab-df-quickchart-complete:disabled,\n",
              "  .colab-df-quickchart-complete:disabled:hover {\n",
              "    background-color: var(--disabled-bg-color);\n",
              "    fill: var(--disabled-fill-color);\n",
              "    box-shadow: none;\n",
              "  }\n",
              "\n",
              "  .colab-df-spinner {\n",
              "    border: 2px solid var(--fill-color);\n",
              "    border-color: transparent;\n",
              "    border-bottom-color: var(--fill-color);\n",
              "    animation:\n",
              "      spin 1s steps(1) infinite;\n",
              "  }\n",
              "\n",
              "  @keyframes spin {\n",
              "    0% {\n",
              "      border-color: transparent;\n",
              "      border-bottom-color: var(--fill-color);\n",
              "      border-left-color: var(--fill-color);\n",
              "    }\n",
              "    20% {\n",
              "      border-color: transparent;\n",
              "      border-left-color: var(--fill-color);\n",
              "      border-top-color: var(--fill-color);\n",
              "    }\n",
              "    30% {\n",
              "      border-color: transparent;\n",
              "      border-left-color: var(--fill-color);\n",
              "      border-top-color: var(--fill-color);\n",
              "      border-right-color: var(--fill-color);\n",
              "    }\n",
              "    40% {\n",
              "      border-color: transparent;\n",
              "      border-right-color: var(--fill-color);\n",
              "      border-top-color: var(--fill-color);\n",
              "    }\n",
              "    60% {\n",
              "      border-color: transparent;\n",
              "      border-right-color: var(--fill-color);\n",
              "    }\n",
              "    80% {\n",
              "      border-color: transparent;\n",
              "      border-right-color: var(--fill-color);\n",
              "      border-bottom-color: var(--fill-color);\n",
              "    }\n",
              "    90% {\n",
              "      border-color: transparent;\n",
              "      border-bottom-color: var(--fill-color);\n",
              "    }\n",
              "  }\n",
              "</style>\n",
              "\n",
              "  <script>\n",
              "    async function quickchart(key) {\n",
              "      const quickchartButtonEl =\n",
              "        document.querySelector('#' + key + ' button');\n",
              "      quickchartButtonEl.disabled = true;  // To prevent multiple clicks.\n",
              "      quickchartButtonEl.classList.add('colab-df-spinner');\n",
              "      try {\n",
              "        const charts = await google.colab.kernel.invokeFunction(\n",
              "            'suggestCharts', [key], {});\n",
              "      } catch (error) {\n",
              "        console.error('Error during call to suggestCharts:', error);\n",
              "      }\n",
              "      quickchartButtonEl.classList.remove('colab-df-spinner');\n",
              "      quickchartButtonEl.classList.add('colab-df-quickchart-complete');\n",
              "    }\n",
              "    (() => {\n",
              "      let quickchartButtonEl =\n",
              "        document.querySelector('#df-88b649c0-e014-42ce-a339-5aca02ac5851 button');\n",
              "      quickchartButtonEl.style.display =\n",
              "        google.colab.kernel.accessAllowed ? 'block' : 'none';\n",
              "    })();\n",
              "  </script>\n",
              "</div>\n",
              "\n",
              "    </div>\n",
              "  </div>\n"
            ],
            "application/vnd.google.colaboratory.intrinsic+json": {
              "type": "dataframe",
              "summary": "{\n  \"name\": \"df_household\",\n  \"rows\": 8,\n  \"fields\": [\n    {\n      \"column\": \"statefips\",\n      \"properties\": {\n        \"dtype\": \"number\",\n        \"std\": 1127.7547360704127,\n        \"min\": 1.0,\n        \"max\": 3220.0,\n        \"num_unique_values\": 8,\n        \"samples\": [\n          31.290683229813666,\n          30.0,\n          3220.0\n        ],\n        \"semantic_type\": \"\",\n        \"description\": \"\"\n      }\n    },\n    {\n      \"column\": \"countyfips\",\n      \"properties\": {\n        \"dtype\": \"number\",\n        \"std\": 1106.476121537751,\n        \"min\": 1.0,\n        \"max\": 3220.0,\n        \"num_unique_values\": 8,\n        \"samples\": [\n          102.922049689441,\n          79.0,\n          3220.0\n        ],\n        \"semantic_type\": \"\",\n        \"description\": \"\"\n      }\n    },\n    {\n      \"column\": \"avghouseholdsize\",\n      \"properties\": {\n        \"dtype\": \"number\",\n        \"std\": 1137.611845418119,\n        \"min\": 0.26765435265394455,\n        \"max\": 3220.0,\n        \"num_unique_values\": 8,\n        \"samples\": [\n          2.540754658385093,\n          2.51,\n          3220.0\n        ],\n        \"semantic_type\": \"\",\n        \"description\": \"\"\n      }\n    }\n  ]\n}"
            }
          },
          "metadata": {},
          "execution_count": 167
        }
      ]
    },
    {
      "cell_type": "code",
      "source": [
        "#Print the summary statistic of the dataset 2\n",
        "df_cancer.describe()"
      ],
      "metadata": {
        "colab": {
          "base_uri": "https://localhost:8080/",
          "height": 349
        },
        "id": "UzeWADGa95x5",
        "outputId": "e3213f05-3def-4c91-cfa6-5fde736021d0"
      },
      "execution_count": 168,
      "outputs": [
        {
          "output_type": "execute_result",
          "data": {
            "text/plain": [
              "        avganncount  avgdeathsperyear  target_deathrate  incidencerate  \\\n",
              "count   3047.000000       3047.000000       3047.000000    3047.000000   \n",
              "mean     606.338544        185.965868        178.664063     448.268586   \n",
              "std     1416.356223        504.134286         27.751511      54.560733   \n",
              "min        6.000000          3.000000         59.700000     201.300000   \n",
              "25%       76.000000         28.000000        161.200000     420.300000   \n",
              "50%      171.000000         61.000000        178.100000     453.549422   \n",
              "75%      518.000000        149.000000        195.200000     480.850000   \n",
              "max    38150.000000      14010.000000        362.800000    1206.900000   \n",
              "\n",
              "           medincome    popest2015  povertypercent  studypercap    medianage  \\\n",
              "count    3047.000000  3.047000e+03     3047.000000  3047.000000  3047.000000   \n",
              "mean    47063.281917  1.026374e+05       16.878175   155.399415    45.272333   \n",
              "std     12040.090836  3.290592e+05        6.409087   529.628366    45.304480   \n",
              "min     22640.000000  8.270000e+02        3.200000     0.000000    22.300000   \n",
              "25%     38882.500000  1.168400e+04       12.150000     0.000000    37.700000   \n",
              "50%     45207.000000  2.664300e+04       15.900000     0.000000    41.000000   \n",
              "75%     52492.000000  6.867100e+04       20.400000    83.650776    44.000000   \n",
              "max    125635.000000  1.017029e+07       47.400000  9762.308998   624.000000   \n",
              "\n",
              "       medianagemale  ...  pctprivatecoveragealone  pctempprivcoverage  \\\n",
              "count    3047.000000  ...              2438.000000         3047.000000   \n",
              "mean       39.570725  ...                48.453774           41.196324   \n",
              "std         5.226017  ...                10.083006            9.447687   \n",
              "min        22.400000  ...                15.700000           13.500000   \n",
              "25%        36.350000  ...                41.000000           34.500000   \n",
              "50%        39.600000  ...                48.700000           41.100000   \n",
              "75%        42.500000  ...                55.600000           47.700000   \n",
              "max        64.700000  ...                78.900000           70.700000   \n",
              "\n",
              "       pctpubliccoverage  pctpubliccoveragealone     pctwhite     pctblack  \\\n",
              "count        3047.000000             3047.000000  3047.000000  3047.000000   \n",
              "mean           36.252642               19.240072    83.645286     9.107978   \n",
              "std             7.841741                6.113041    16.380025    14.534538   \n",
              "min            11.200000                2.600000    10.199155     0.000000   \n",
              "25%            30.900000               14.850000    77.296180     0.620675   \n",
              "50%            36.300000               18.800000    90.059774     2.247576   \n",
              "75%            41.550000               23.100000    95.451693    10.509732   \n",
              "max            65.100000               46.600000   100.000000    85.947799   \n",
              "\n",
              "          pctasian  pctotherrace  pctmarriedhouseholds    birthrate  \n",
              "count  3047.000000   3047.000000           3047.000000  3047.000000  \n",
              "mean      1.253965      1.983523             51.243872     5.640306  \n",
              "std       2.610276      3.517710              6.572814     1.985816  \n",
              "min       0.000000      0.000000             22.992490     0.000000  \n",
              "25%       0.254199      0.295172             47.763063     4.521419  \n",
              "50%       0.549812      0.826185             51.669941     5.381478  \n",
              "75%       1.221037      2.177960             55.395132     6.493677  \n",
              "max      42.619425     41.930251             78.075397    21.326165  \n",
              "\n",
              "[8 rows x 31 columns]"
            ],
            "text/html": [
              "\n",
              "  <div id=\"df-cf33bce3-6d4c-4a02-a4c0-408c85631ae9\" class=\"colab-df-container\">\n",
              "    <div>\n",
              "<style scoped>\n",
              "    .dataframe tbody tr th:only-of-type {\n",
              "        vertical-align: middle;\n",
              "    }\n",
              "\n",
              "    .dataframe tbody tr th {\n",
              "        vertical-align: top;\n",
              "    }\n",
              "\n",
              "    .dataframe thead th {\n",
              "        text-align: right;\n",
              "    }\n",
              "</style>\n",
              "<table border=\"1\" class=\"dataframe\">\n",
              "  <thead>\n",
              "    <tr style=\"text-align: right;\">\n",
              "      <th></th>\n",
              "      <th>avganncount</th>\n",
              "      <th>avgdeathsperyear</th>\n",
              "      <th>target_deathrate</th>\n",
              "      <th>incidencerate</th>\n",
              "      <th>medincome</th>\n",
              "      <th>popest2015</th>\n",
              "      <th>povertypercent</th>\n",
              "      <th>studypercap</th>\n",
              "      <th>medianage</th>\n",
              "      <th>medianagemale</th>\n",
              "      <th>...</th>\n",
              "      <th>pctprivatecoveragealone</th>\n",
              "      <th>pctempprivcoverage</th>\n",
              "      <th>pctpubliccoverage</th>\n",
              "      <th>pctpubliccoveragealone</th>\n",
              "      <th>pctwhite</th>\n",
              "      <th>pctblack</th>\n",
              "      <th>pctasian</th>\n",
              "      <th>pctotherrace</th>\n",
              "      <th>pctmarriedhouseholds</th>\n",
              "      <th>birthrate</th>\n",
              "    </tr>\n",
              "  </thead>\n",
              "  <tbody>\n",
              "    <tr>\n",
              "      <th>count</th>\n",
              "      <td>3047.000000</td>\n",
              "      <td>3047.000000</td>\n",
              "      <td>3047.000000</td>\n",
              "      <td>3047.000000</td>\n",
              "      <td>3047.000000</td>\n",
              "      <td>3.047000e+03</td>\n",
              "      <td>3047.000000</td>\n",
              "      <td>3047.000000</td>\n",
              "      <td>3047.000000</td>\n",
              "      <td>3047.000000</td>\n",
              "      <td>...</td>\n",
              "      <td>2438.000000</td>\n",
              "      <td>3047.000000</td>\n",
              "      <td>3047.000000</td>\n",
              "      <td>3047.000000</td>\n",
              "      <td>3047.000000</td>\n",
              "      <td>3047.000000</td>\n",
              "      <td>3047.000000</td>\n",
              "      <td>3047.000000</td>\n",
              "      <td>3047.000000</td>\n",
              "      <td>3047.000000</td>\n",
              "    </tr>\n",
              "    <tr>\n",
              "      <th>mean</th>\n",
              "      <td>606.338544</td>\n",
              "      <td>185.965868</td>\n",
              "      <td>178.664063</td>\n",
              "      <td>448.268586</td>\n",
              "      <td>47063.281917</td>\n",
              "      <td>1.026374e+05</td>\n",
              "      <td>16.878175</td>\n",
              "      <td>155.399415</td>\n",
              "      <td>45.272333</td>\n",
              "      <td>39.570725</td>\n",
              "      <td>...</td>\n",
              "      <td>48.453774</td>\n",
              "      <td>41.196324</td>\n",
              "      <td>36.252642</td>\n",
              "      <td>19.240072</td>\n",
              "      <td>83.645286</td>\n",
              "      <td>9.107978</td>\n",
              "      <td>1.253965</td>\n",
              "      <td>1.983523</td>\n",
              "      <td>51.243872</td>\n",
              "      <td>5.640306</td>\n",
              "    </tr>\n",
              "    <tr>\n",
              "      <th>std</th>\n",
              "      <td>1416.356223</td>\n",
              "      <td>504.134286</td>\n",
              "      <td>27.751511</td>\n",
              "      <td>54.560733</td>\n",
              "      <td>12040.090836</td>\n",
              "      <td>3.290592e+05</td>\n",
              "      <td>6.409087</td>\n",
              "      <td>529.628366</td>\n",
              "      <td>45.304480</td>\n",
              "      <td>5.226017</td>\n",
              "      <td>...</td>\n",
              "      <td>10.083006</td>\n",
              "      <td>9.447687</td>\n",
              "      <td>7.841741</td>\n",
              "      <td>6.113041</td>\n",
              "      <td>16.380025</td>\n",
              "      <td>14.534538</td>\n",
              "      <td>2.610276</td>\n",
              "      <td>3.517710</td>\n",
              "      <td>6.572814</td>\n",
              "      <td>1.985816</td>\n",
              "    </tr>\n",
              "    <tr>\n",
              "      <th>min</th>\n",
              "      <td>6.000000</td>\n",
              "      <td>3.000000</td>\n",
              "      <td>59.700000</td>\n",
              "      <td>201.300000</td>\n",
              "      <td>22640.000000</td>\n",
              "      <td>8.270000e+02</td>\n",
              "      <td>3.200000</td>\n",
              "      <td>0.000000</td>\n",
              "      <td>22.300000</td>\n",
              "      <td>22.400000</td>\n",
              "      <td>...</td>\n",
              "      <td>15.700000</td>\n",
              "      <td>13.500000</td>\n",
              "      <td>11.200000</td>\n",
              "      <td>2.600000</td>\n",
              "      <td>10.199155</td>\n",
              "      <td>0.000000</td>\n",
              "      <td>0.000000</td>\n",
              "      <td>0.000000</td>\n",
              "      <td>22.992490</td>\n",
              "      <td>0.000000</td>\n",
              "    </tr>\n",
              "    <tr>\n",
              "      <th>25%</th>\n",
              "      <td>76.000000</td>\n",
              "      <td>28.000000</td>\n",
              "      <td>161.200000</td>\n",
              "      <td>420.300000</td>\n",
              "      <td>38882.500000</td>\n",
              "      <td>1.168400e+04</td>\n",
              "      <td>12.150000</td>\n",
              "      <td>0.000000</td>\n",
              "      <td>37.700000</td>\n",
              "      <td>36.350000</td>\n",
              "      <td>...</td>\n",
              "      <td>41.000000</td>\n",
              "      <td>34.500000</td>\n",
              "      <td>30.900000</td>\n",
              "      <td>14.850000</td>\n",
              "      <td>77.296180</td>\n",
              "      <td>0.620675</td>\n",
              "      <td>0.254199</td>\n",
              "      <td>0.295172</td>\n",
              "      <td>47.763063</td>\n",
              "      <td>4.521419</td>\n",
              "    </tr>\n",
              "    <tr>\n",
              "      <th>50%</th>\n",
              "      <td>171.000000</td>\n",
              "      <td>61.000000</td>\n",
              "      <td>178.100000</td>\n",
              "      <td>453.549422</td>\n",
              "      <td>45207.000000</td>\n",
              "      <td>2.664300e+04</td>\n",
              "      <td>15.900000</td>\n",
              "      <td>0.000000</td>\n",
              "      <td>41.000000</td>\n",
              "      <td>39.600000</td>\n",
              "      <td>...</td>\n",
              "      <td>48.700000</td>\n",
              "      <td>41.100000</td>\n",
              "      <td>36.300000</td>\n",
              "      <td>18.800000</td>\n",
              "      <td>90.059774</td>\n",
              "      <td>2.247576</td>\n",
              "      <td>0.549812</td>\n",
              "      <td>0.826185</td>\n",
              "      <td>51.669941</td>\n",
              "      <td>5.381478</td>\n",
              "    </tr>\n",
              "    <tr>\n",
              "      <th>75%</th>\n",
              "      <td>518.000000</td>\n",
              "      <td>149.000000</td>\n",
              "      <td>195.200000</td>\n",
              "      <td>480.850000</td>\n",
              "      <td>52492.000000</td>\n",
              "      <td>6.867100e+04</td>\n",
              "      <td>20.400000</td>\n",
              "      <td>83.650776</td>\n",
              "      <td>44.000000</td>\n",
              "      <td>42.500000</td>\n",
              "      <td>...</td>\n",
              "      <td>55.600000</td>\n",
              "      <td>47.700000</td>\n",
              "      <td>41.550000</td>\n",
              "      <td>23.100000</td>\n",
              "      <td>95.451693</td>\n",
              "      <td>10.509732</td>\n",
              "      <td>1.221037</td>\n",
              "      <td>2.177960</td>\n",
              "      <td>55.395132</td>\n",
              "      <td>6.493677</td>\n",
              "    </tr>\n",
              "    <tr>\n",
              "      <th>max</th>\n",
              "      <td>38150.000000</td>\n",
              "      <td>14010.000000</td>\n",
              "      <td>362.800000</td>\n",
              "      <td>1206.900000</td>\n",
              "      <td>125635.000000</td>\n",
              "      <td>1.017029e+07</td>\n",
              "      <td>47.400000</td>\n",
              "      <td>9762.308998</td>\n",
              "      <td>624.000000</td>\n",
              "      <td>64.700000</td>\n",
              "      <td>...</td>\n",
              "      <td>78.900000</td>\n",
              "      <td>70.700000</td>\n",
              "      <td>65.100000</td>\n",
              "      <td>46.600000</td>\n",
              "      <td>100.000000</td>\n",
              "      <td>85.947799</td>\n",
              "      <td>42.619425</td>\n",
              "      <td>41.930251</td>\n",
              "      <td>78.075397</td>\n",
              "      <td>21.326165</td>\n",
              "    </tr>\n",
              "  </tbody>\n",
              "</table>\n",
              "<p>8 rows × 31 columns</p>\n",
              "</div>\n",
              "    <div class=\"colab-df-buttons\">\n",
              "\n",
              "  <div class=\"colab-df-container\">\n",
              "    <button class=\"colab-df-convert\" onclick=\"convertToInteractive('df-cf33bce3-6d4c-4a02-a4c0-408c85631ae9')\"\n",
              "            title=\"Convert this dataframe to an interactive table.\"\n",
              "            style=\"display:none;\">\n",
              "\n",
              "  <svg xmlns=\"http://www.w3.org/2000/svg\" height=\"24px\" viewBox=\"0 -960 960 960\">\n",
              "    <path d=\"M120-120v-720h720v720H120Zm60-500h600v-160H180v160Zm220 220h160v-160H400v160Zm0 220h160v-160H400v160ZM180-400h160v-160H180v160Zm440 0h160v-160H620v160ZM180-180h160v-160H180v160Zm440 0h160v-160H620v160Z\"/>\n",
              "  </svg>\n",
              "    </button>\n",
              "\n",
              "  <style>\n",
              "    .colab-df-container {\n",
              "      display:flex;\n",
              "      gap: 12px;\n",
              "    }\n",
              "\n",
              "    .colab-df-convert {\n",
              "      background-color: #E8F0FE;\n",
              "      border: none;\n",
              "      border-radius: 50%;\n",
              "      cursor: pointer;\n",
              "      display: none;\n",
              "      fill: #1967D2;\n",
              "      height: 32px;\n",
              "      padding: 0 0 0 0;\n",
              "      width: 32px;\n",
              "    }\n",
              "\n",
              "    .colab-df-convert:hover {\n",
              "      background-color: #E2EBFA;\n",
              "      box-shadow: 0px 1px 2px rgba(60, 64, 67, 0.3), 0px 1px 3px 1px rgba(60, 64, 67, 0.15);\n",
              "      fill: #174EA6;\n",
              "    }\n",
              "\n",
              "    .colab-df-buttons div {\n",
              "      margin-bottom: 4px;\n",
              "    }\n",
              "\n",
              "    [theme=dark] .colab-df-convert {\n",
              "      background-color: #3B4455;\n",
              "      fill: #D2E3FC;\n",
              "    }\n",
              "\n",
              "    [theme=dark] .colab-df-convert:hover {\n",
              "      background-color: #434B5C;\n",
              "      box-shadow: 0px 1px 3px 1px rgba(0, 0, 0, 0.15);\n",
              "      filter: drop-shadow(0px 1px 2px rgba(0, 0, 0, 0.3));\n",
              "      fill: #FFFFFF;\n",
              "    }\n",
              "  </style>\n",
              "\n",
              "    <script>\n",
              "      const buttonEl =\n",
              "        document.querySelector('#df-cf33bce3-6d4c-4a02-a4c0-408c85631ae9 button.colab-df-convert');\n",
              "      buttonEl.style.display =\n",
              "        google.colab.kernel.accessAllowed ? 'block' : 'none';\n",
              "\n",
              "      async function convertToInteractive(key) {\n",
              "        const element = document.querySelector('#df-cf33bce3-6d4c-4a02-a4c0-408c85631ae9');\n",
              "        const dataTable =\n",
              "          await google.colab.kernel.invokeFunction('convertToInteractive',\n",
              "                                                    [key], {});\n",
              "        if (!dataTable) return;\n",
              "\n",
              "        const docLinkHtml = 'Like what you see? Visit the ' +\n",
              "          '<a target=\"_blank\" href=https://colab.research.google.com/notebooks/data_table.ipynb>data table notebook</a>'\n",
              "          + ' to learn more about interactive tables.';\n",
              "        element.innerHTML = '';\n",
              "        dataTable['output_type'] = 'display_data';\n",
              "        await google.colab.output.renderOutput(dataTable, element);\n",
              "        const docLink = document.createElement('div');\n",
              "        docLink.innerHTML = docLinkHtml;\n",
              "        element.appendChild(docLink);\n",
              "      }\n",
              "    </script>\n",
              "  </div>\n",
              "\n",
              "\n",
              "<div id=\"df-992377f1-9e25-4182-bab2-32363a3ae716\">\n",
              "  <button class=\"colab-df-quickchart\" onclick=\"quickchart('df-992377f1-9e25-4182-bab2-32363a3ae716')\"\n",
              "            title=\"Suggest charts\"\n",
              "            style=\"display:none;\">\n",
              "\n",
              "<svg xmlns=\"http://www.w3.org/2000/svg\" height=\"24px\"viewBox=\"0 0 24 24\"\n",
              "     width=\"24px\">\n",
              "    <g>\n",
              "        <path d=\"M19 3H5c-1.1 0-2 .9-2 2v14c0 1.1.9 2 2 2h14c1.1 0 2-.9 2-2V5c0-1.1-.9-2-2-2zM9 17H7v-7h2v7zm4 0h-2V7h2v10zm4 0h-2v-4h2v4z\"/>\n",
              "    </g>\n",
              "</svg>\n",
              "  </button>\n",
              "\n",
              "<style>\n",
              "  .colab-df-quickchart {\n",
              "      --bg-color: #E8F0FE;\n",
              "      --fill-color: #1967D2;\n",
              "      --hover-bg-color: #E2EBFA;\n",
              "      --hover-fill-color: #174EA6;\n",
              "      --disabled-fill-color: #AAA;\n",
              "      --disabled-bg-color: #DDD;\n",
              "  }\n",
              "\n",
              "  [theme=dark] .colab-df-quickchart {\n",
              "      --bg-color: #3B4455;\n",
              "      --fill-color: #D2E3FC;\n",
              "      --hover-bg-color: #434B5C;\n",
              "      --hover-fill-color: #FFFFFF;\n",
              "      --disabled-bg-color: #3B4455;\n",
              "      --disabled-fill-color: #666;\n",
              "  }\n",
              "\n",
              "  .colab-df-quickchart {\n",
              "    background-color: var(--bg-color);\n",
              "    border: none;\n",
              "    border-radius: 50%;\n",
              "    cursor: pointer;\n",
              "    display: none;\n",
              "    fill: var(--fill-color);\n",
              "    height: 32px;\n",
              "    padding: 0;\n",
              "    width: 32px;\n",
              "  }\n",
              "\n",
              "  .colab-df-quickchart:hover {\n",
              "    background-color: var(--hover-bg-color);\n",
              "    box-shadow: 0 1px 2px rgba(60, 64, 67, 0.3), 0 1px 3px 1px rgba(60, 64, 67, 0.15);\n",
              "    fill: var(--button-hover-fill-color);\n",
              "  }\n",
              "\n",
              "  .colab-df-quickchart-complete:disabled,\n",
              "  .colab-df-quickchart-complete:disabled:hover {\n",
              "    background-color: var(--disabled-bg-color);\n",
              "    fill: var(--disabled-fill-color);\n",
              "    box-shadow: none;\n",
              "  }\n",
              "\n",
              "  .colab-df-spinner {\n",
              "    border: 2px solid var(--fill-color);\n",
              "    border-color: transparent;\n",
              "    border-bottom-color: var(--fill-color);\n",
              "    animation:\n",
              "      spin 1s steps(1) infinite;\n",
              "  }\n",
              "\n",
              "  @keyframes spin {\n",
              "    0% {\n",
              "      border-color: transparent;\n",
              "      border-bottom-color: var(--fill-color);\n",
              "      border-left-color: var(--fill-color);\n",
              "    }\n",
              "    20% {\n",
              "      border-color: transparent;\n",
              "      border-left-color: var(--fill-color);\n",
              "      border-top-color: var(--fill-color);\n",
              "    }\n",
              "    30% {\n",
              "      border-color: transparent;\n",
              "      border-left-color: var(--fill-color);\n",
              "      border-top-color: var(--fill-color);\n",
              "      border-right-color: var(--fill-color);\n",
              "    }\n",
              "    40% {\n",
              "      border-color: transparent;\n",
              "      border-right-color: var(--fill-color);\n",
              "      border-top-color: var(--fill-color);\n",
              "    }\n",
              "    60% {\n",
              "      border-color: transparent;\n",
              "      border-right-color: var(--fill-color);\n",
              "    }\n",
              "    80% {\n",
              "      border-color: transparent;\n",
              "      border-right-color: var(--fill-color);\n",
              "      border-bottom-color: var(--fill-color);\n",
              "    }\n",
              "    90% {\n",
              "      border-color: transparent;\n",
              "      border-bottom-color: var(--fill-color);\n",
              "    }\n",
              "  }\n",
              "</style>\n",
              "\n",
              "  <script>\n",
              "    async function quickchart(key) {\n",
              "      const quickchartButtonEl =\n",
              "        document.querySelector('#' + key + ' button');\n",
              "      quickchartButtonEl.disabled = true;  // To prevent multiple clicks.\n",
              "      quickchartButtonEl.classList.add('colab-df-spinner');\n",
              "      try {\n",
              "        const charts = await google.colab.kernel.invokeFunction(\n",
              "            'suggestCharts', [key], {});\n",
              "      } catch (error) {\n",
              "        console.error('Error during call to suggestCharts:', error);\n",
              "      }\n",
              "      quickchartButtonEl.classList.remove('colab-df-spinner');\n",
              "      quickchartButtonEl.classList.add('colab-df-quickchart-complete');\n",
              "    }\n",
              "    (() => {\n",
              "      let quickchartButtonEl =\n",
              "        document.querySelector('#df-992377f1-9e25-4182-bab2-32363a3ae716 button');\n",
              "      quickchartButtonEl.style.display =\n",
              "        google.colab.kernel.accessAllowed ? 'block' : 'none';\n",
              "    })();\n",
              "  </script>\n",
              "</div>\n",
              "\n",
              "    </div>\n",
              "  </div>\n"
            ],
            "application/vnd.google.colaboratory.intrinsic+json": {
              "type": "dataframe"
            }
          },
          "metadata": {},
          "execution_count": 168
        }
      ]
    },
    {
      "cell_type": "markdown",
      "source": [
        "##**Data Preprocessing:**"
      ],
      "metadata": {
        "id": "0F5B1luax3kl"
      }
    },
    {
      "cell_type": "markdown",
      "source": [
        "### Encode categorical features"
      ],
      "metadata": {
        "id": "k1o0hmdM-qne"
      }
    },
    {
      "cell_type": "markdown",
      "source": [
        "As part of the data preprocessing steps, we extracted a list of column names corresponding to categorical features present in the dataset. This allows us to identify and distinguish categorical variables from numerical ones.\n"
      ],
      "metadata": {
        "id": "DlfKxfkf_458"
      }
    },
    {
      "cell_type": "code",
      "source": [
        "#Get the datatype of dataset 1\n",
        "data_types_1 = df_household.dtypes\n",
        "\n",
        "# Get the categorical features (select columns with the data types are 'object' or 'category' and convert the features names to the list)\n",
        "categorical_features_1 = data_types_1[data_types_1 == 'object'].index.tolist()\n",
        "categorical_features_1.extend(data_types_1[data_types_1 == 'category'].index.tolist())\n",
        "\n",
        "# Print the list of categorical features\n",
        "print(\"Categorical Features from dataset 1:\", categorical_features_1)"
      ],
      "metadata": {
        "colab": {
          "base_uri": "https://localhost:8080/"
        },
        "id": "cif8gpN7ugj5",
        "outputId": "f75e271e-bf29-43db-ffbe-d2abba52939a"
      },
      "execution_count": 169,
      "outputs": [
        {
          "output_type": "stream",
          "name": "stdout",
          "text": [
            "Categorical Features from dataset 1: ['geography']\n"
          ]
        }
      ]
    },
    {
      "cell_type": "code",
      "source": [
        "#Get the datatype of dataset 2\n",
        "data_types_2 = df_cancer.dtypes\n",
        "\n",
        "# Get the categorical features (select columns with the data types are 'object' or 'category' and convert the features names to the list)\n",
        "categorical_features_2 = data_types_2[data_types_2 == 'object'].index.tolist()\n",
        "categorical_features_2.extend(data_types_2[data_types_2 == 'category'].index.tolist())\n",
        "\n",
        "# Print the list of categorical features\n",
        "print(\"Categorical Features from dataset 2:\", categorical_features_2)"
      ],
      "metadata": {
        "colab": {
          "base_uri": "https://localhost:8080/"
        },
        "id": "xFneDB1O-wBZ",
        "outputId": "e48427c2-61f5-4cc2-b64b-d776fdc01aac"
      },
      "execution_count": 170,
      "outputs": [
        {
          "output_type": "stream",
          "name": "stdout",
          "text": [
            "Categorical Features from dataset 2: ['binnedinc', 'geography']\n"
          ]
        }
      ]
    },
    {
      "cell_type": "markdown",
      "source": [
        "Before encoding, we looked at the number of categories in both dataset 1 and 2."
      ],
      "metadata": {
        "id": "cpxR1J6aEOQJ"
      }
    },
    {
      "cell_type": "code",
      "source": [
        "# Dataset 1 (geography)\n",
        "import numpy as np\n",
        "np.unique(df_household.geography)"
      ],
      "metadata": {
        "colab": {
          "base_uri": "https://localhost:8080/"
        },
        "id": "vwNrT0zlEcW4",
        "outputId": "7ca95b78-bfee-47d8-ccdc-28b669ad2a2d"
      },
      "execution_count": 171,
      "outputs": [
        {
          "output_type": "execute_result",
          "data": {
            "text/plain": [
              "array(['Abbeville County, South Carolina', 'Acadia Parish, Louisiana',\n",
              "       'Accomack County, Virginia', ..., 'Zapata County, Texas',\n",
              "       'Zavala County, Texas', 'Ziebach County, South Dakota'],\n",
              "      dtype=object)"
            ]
          },
          "metadata": {},
          "execution_count": 171
        }
      ]
    },
    {
      "cell_type": "code",
      "source": [
        "#Dataset 2 (geography)\n",
        "import numpy as np\n",
        "np.unique(df_cancer.geography)"
      ],
      "metadata": {
        "colab": {
          "base_uri": "https://localhost:8080/"
        },
        "id": "Xz18Y-hfEv2N",
        "outputId": "51e73356-46b0-41d0-81e8-4846ccf9cd96"
      },
      "execution_count": 172,
      "outputs": [
        {
          "output_type": "execute_result",
          "data": {
            "text/plain": [
              "array(['Abbeville County, South Carolina', 'Acadia Parish, Louisiana',\n",
              "       'Accomack County, Virginia', ..., 'Yuma County, Colorado',\n",
              "       'Zapata County, Texas', 'Zavala County, Texas'], dtype=object)"
            ]
          },
          "metadata": {},
          "execution_count": 172
        }
      ]
    },
    {
      "cell_type": "code",
      "source": [
        "#Dataset 2 (binnedinc)\n",
        "import numpy as np\n",
        "np.unique(df_cancer.binnedinc)"
      ],
      "metadata": {
        "colab": {
          "base_uri": "https://localhost:8080/"
        },
        "id": "ej4sTsUYFBqZ",
        "outputId": "718c011f-334a-4afc-b41a-162edd976b5a"
      },
      "execution_count": 173,
      "outputs": [
        {
          "output_type": "execute_result",
          "data": {
            "text/plain": [
              "array(['(34218.1, 37413.8]', '(37413.8, 40362.7]', '(40362.7, 42724.4]',\n",
              "       '(42724.4, 45201]', '(45201, 48021.6]', '(48021.6, 51046.4]',\n",
              "       '(51046.4, 54545.6]', '(54545.6, 61494.5]', '(61494.5, 125635]',\n",
              "       '[22640, 34218.1]'], dtype=object)"
            ]
          },
          "metadata": {},
          "execution_count": 173
        }
      ]
    },
    {
      "cell_type": "markdown",
      "source": [
        "Due to the presence of categorical features with a large number of unique categories in both dataset 1 and dataset 2, encoding them would lead to a significant increase in dimensionality. We opted to drop all these categorical features before implementing PCA.\""
      ],
      "metadata": {
        "id": "dqDqa3i1D_NA"
      }
    },
    {
      "cell_type": "code",
      "source": [
        "df_household = df_household.drop(columns = 'geography')\n",
        "df_cancer = df_cancer.drop(columns =['geography', 'binnedinc'])"
      ],
      "metadata": {
        "id": "nrPuAYSv8XYB"
      },
      "execution_count": 174,
      "outputs": []
    },
    {
      "cell_type": "markdown",
      "source": [
        "### Handling missing and duplicated values"
      ],
      "metadata": {
        "id": "pggSZuaepW_Y"
      }
    },
    {
      "cell_type": "markdown",
      "source": [
        "To ensure the integrity and reliability of the dataset, we will identify any missing values present in the dataset using `isnull()`."
      ],
      "metadata": {
        "id": "sSx_Sx7IKSAE"
      }
    },
    {
      "cell_type": "code",
      "source": [
        "# Check missing values in dataset 1\n",
        "df_household.isnull().sum()\n",
        "\n",
        "# -> There are no missing values in dataset 1"
      ],
      "metadata": {
        "colab": {
          "base_uri": "https://localhost:8080/"
        },
        "id": "ZdkzpdxxpgS2",
        "outputId": "6811c4c2-3681-4b32-caa5-a8c1a2afd790"
      },
      "execution_count": 175,
      "outputs": [
        {
          "output_type": "execute_result",
          "data": {
            "text/plain": [
              "statefips           0\n",
              "countyfips          0\n",
              "avghouseholdsize    0\n",
              "dtype: int64"
            ]
          },
          "metadata": {},
          "execution_count": 175
        }
      ]
    },
    {
      "cell_type": "code",
      "source": [
        "# Check missing values in dataset 2\n",
        "df_cancer.isnull().sum()"
      ],
      "metadata": {
        "colab": {
          "base_uri": "https://localhost:8080/"
        },
        "id": "o-A0lPnIlG5E",
        "outputId": "0cc0e445-d1cb-4d46-f19b-337ea018a4db"
      },
      "execution_count": 176,
      "outputs": [
        {
          "output_type": "execute_result",
          "data": {
            "text/plain": [
              "avganncount                   0\n",
              "avgdeathsperyear              0\n",
              "target_deathrate              0\n",
              "incidencerate                 0\n",
              "medincome                     0\n",
              "popest2015                    0\n",
              "povertypercent                0\n",
              "studypercap                   0\n",
              "medianage                     0\n",
              "medianagemale                 0\n",
              "medianagefemale               0\n",
              "percentmarried                0\n",
              "pctnohs18_24                  0\n",
              "pcths18_24                    0\n",
              "pctsomecol18_24            2285\n",
              "pctbachdeg18_24               0\n",
              "pcths25_over                  0\n",
              "pctbachdeg25_over             0\n",
              "pctemployed16_over          152\n",
              "pctunemployed16_over          0\n",
              "pctprivatecoverage            0\n",
              "pctprivatecoveragealone     609\n",
              "pctempprivcoverage            0\n",
              "pctpubliccoverage             0\n",
              "pctpubliccoveragealone        0\n",
              "pctwhite                      0\n",
              "pctblack                      0\n",
              "pctasian                      0\n",
              "pctotherrace                  0\n",
              "pctmarriedhouseholds          0\n",
              "birthrate                     0\n",
              "dtype: int64"
            ]
          },
          "metadata": {},
          "execution_count": 176
        }
      ]
    },
    {
      "cell_type": "markdown",
      "source": [
        "There are missing values from `pctsomecol18_24 `, `pctemployed16_over` and `pctprivatecoveragealone` column."
      ],
      "metadata": {
        "id": "HQmlwTOMlmqd"
      }
    },
    {
      "cell_type": "markdown",
      "source": [
        "Given that approximately half of the dataset 2 (`df_cancer`) contains missing values, removing rows or columns with missing values would result in significant data loss. Therefore, to preserve as much information as possible, we chose to handle missing values by replacing them with the mean using the `fillna()`function from the `pandas` library"
      ],
      "metadata": {
        "id": "o1UX7bDlmdPT"
      }
    },
    {
      "cell_type": "code",
      "source": [
        "import pandas as pd\n",
        "\n",
        "# Impute missing values with mean from dataset 2 (df_cancer)\n",
        "df_cancer = df_cancer.fillna(df_cancer.mean())\n",
        "\n",
        "df_cancer.head()"
      ],
      "metadata": {
        "colab": {
          "base_uri": "https://localhost:8080/",
          "height": 255
        },
        "id": "H8VafvCnnmcU",
        "outputId": "00340a0f-88d5-4bf7-cd2c-7c0f0944baf0"
      },
      "execution_count": 177,
      "outputs": [
        {
          "output_type": "execute_result",
          "data": {
            "text/plain": [
              "   avganncount  avgdeathsperyear  target_deathrate  incidencerate  medincome  \\\n",
              "0       1397.0               469             164.9          489.8      61898   \n",
              "1        173.0                70             161.3          411.6      48127   \n",
              "2        102.0                50             174.7          349.7      49348   \n",
              "3        427.0               202             194.8          430.4      44243   \n",
              "4         57.0                26             144.4          350.1      49955   \n",
              "\n",
              "   popest2015  povertypercent  studypercap  medianage  medianagemale  ...  \\\n",
              "0      260131            11.2   499.748204       39.3           36.9  ...   \n",
              "1       43269            18.6    23.111234       33.0           32.2  ...   \n",
              "2       21026            14.6    47.560164       45.0           44.0  ...   \n",
              "3       75882            17.1   342.637253       42.8           42.2  ...   \n",
              "4       10321            12.5     0.000000       48.3           47.8  ...   \n",
              "\n",
              "   pctprivatecoveragealone  pctempprivcoverage  pctpubliccoverage  \\\n",
              "0                48.453774                41.6               32.9   \n",
              "1                53.800000                43.6               31.1   \n",
              "2                43.500000                34.9               42.1   \n",
              "3                40.300000                35.0               45.3   \n",
              "4                43.900000                35.1               44.0   \n",
              "\n",
              "   pctpubliccoveragealone   pctwhite  pctblack  pctasian  pctotherrace  \\\n",
              "0                    14.0  81.780529  2.594728  4.821857      1.843479   \n",
              "1                    15.3  89.228509  0.969102  2.246233      3.741352   \n",
              "2                    21.1  90.922190  0.739673  0.465898      2.747358   \n",
              "3                    25.0  91.744686  0.782626  1.161359      1.362643   \n",
              "4                    22.7  94.104024  0.270192  0.665830      0.492135   \n",
              "\n",
              "   pctmarriedhouseholds  birthrate  \n",
              "0             52.856076   6.118831  \n",
              "1             45.372500   4.333096  \n",
              "2             54.444868   3.729488  \n",
              "3             51.021514   4.603841  \n",
              "4             54.027460   6.796657  \n",
              "\n",
              "[5 rows x 31 columns]"
            ],
            "text/html": [
              "\n",
              "  <div id=\"df-f5deb5b2-5eeb-425e-80a9-abd776661e40\" class=\"colab-df-container\">\n",
              "    <div>\n",
              "<style scoped>\n",
              "    .dataframe tbody tr th:only-of-type {\n",
              "        vertical-align: middle;\n",
              "    }\n",
              "\n",
              "    .dataframe tbody tr th {\n",
              "        vertical-align: top;\n",
              "    }\n",
              "\n",
              "    .dataframe thead th {\n",
              "        text-align: right;\n",
              "    }\n",
              "</style>\n",
              "<table border=\"1\" class=\"dataframe\">\n",
              "  <thead>\n",
              "    <tr style=\"text-align: right;\">\n",
              "      <th></th>\n",
              "      <th>avganncount</th>\n",
              "      <th>avgdeathsperyear</th>\n",
              "      <th>target_deathrate</th>\n",
              "      <th>incidencerate</th>\n",
              "      <th>medincome</th>\n",
              "      <th>popest2015</th>\n",
              "      <th>povertypercent</th>\n",
              "      <th>studypercap</th>\n",
              "      <th>medianage</th>\n",
              "      <th>medianagemale</th>\n",
              "      <th>...</th>\n",
              "      <th>pctprivatecoveragealone</th>\n",
              "      <th>pctempprivcoverage</th>\n",
              "      <th>pctpubliccoverage</th>\n",
              "      <th>pctpubliccoveragealone</th>\n",
              "      <th>pctwhite</th>\n",
              "      <th>pctblack</th>\n",
              "      <th>pctasian</th>\n",
              "      <th>pctotherrace</th>\n",
              "      <th>pctmarriedhouseholds</th>\n",
              "      <th>birthrate</th>\n",
              "    </tr>\n",
              "  </thead>\n",
              "  <tbody>\n",
              "    <tr>\n",
              "      <th>0</th>\n",
              "      <td>1397.0</td>\n",
              "      <td>469</td>\n",
              "      <td>164.9</td>\n",
              "      <td>489.8</td>\n",
              "      <td>61898</td>\n",
              "      <td>260131</td>\n",
              "      <td>11.2</td>\n",
              "      <td>499.748204</td>\n",
              "      <td>39.3</td>\n",
              "      <td>36.9</td>\n",
              "      <td>...</td>\n",
              "      <td>48.453774</td>\n",
              "      <td>41.6</td>\n",
              "      <td>32.9</td>\n",
              "      <td>14.0</td>\n",
              "      <td>81.780529</td>\n",
              "      <td>2.594728</td>\n",
              "      <td>4.821857</td>\n",
              "      <td>1.843479</td>\n",
              "      <td>52.856076</td>\n",
              "      <td>6.118831</td>\n",
              "    </tr>\n",
              "    <tr>\n",
              "      <th>1</th>\n",
              "      <td>173.0</td>\n",
              "      <td>70</td>\n",
              "      <td>161.3</td>\n",
              "      <td>411.6</td>\n",
              "      <td>48127</td>\n",
              "      <td>43269</td>\n",
              "      <td>18.6</td>\n",
              "      <td>23.111234</td>\n",
              "      <td>33.0</td>\n",
              "      <td>32.2</td>\n",
              "      <td>...</td>\n",
              "      <td>53.800000</td>\n",
              "      <td>43.6</td>\n",
              "      <td>31.1</td>\n",
              "      <td>15.3</td>\n",
              "      <td>89.228509</td>\n",
              "      <td>0.969102</td>\n",
              "      <td>2.246233</td>\n",
              "      <td>3.741352</td>\n",
              "      <td>45.372500</td>\n",
              "      <td>4.333096</td>\n",
              "    </tr>\n",
              "    <tr>\n",
              "      <th>2</th>\n",
              "      <td>102.0</td>\n",
              "      <td>50</td>\n",
              "      <td>174.7</td>\n",
              "      <td>349.7</td>\n",
              "      <td>49348</td>\n",
              "      <td>21026</td>\n",
              "      <td>14.6</td>\n",
              "      <td>47.560164</td>\n",
              "      <td>45.0</td>\n",
              "      <td>44.0</td>\n",
              "      <td>...</td>\n",
              "      <td>43.500000</td>\n",
              "      <td>34.9</td>\n",
              "      <td>42.1</td>\n",
              "      <td>21.1</td>\n",
              "      <td>90.922190</td>\n",
              "      <td>0.739673</td>\n",
              "      <td>0.465898</td>\n",
              "      <td>2.747358</td>\n",
              "      <td>54.444868</td>\n",
              "      <td>3.729488</td>\n",
              "    </tr>\n",
              "    <tr>\n",
              "      <th>3</th>\n",
              "      <td>427.0</td>\n",
              "      <td>202</td>\n",
              "      <td>194.8</td>\n",
              "      <td>430.4</td>\n",
              "      <td>44243</td>\n",
              "      <td>75882</td>\n",
              "      <td>17.1</td>\n",
              "      <td>342.637253</td>\n",
              "      <td>42.8</td>\n",
              "      <td>42.2</td>\n",
              "      <td>...</td>\n",
              "      <td>40.300000</td>\n",
              "      <td>35.0</td>\n",
              "      <td>45.3</td>\n",
              "      <td>25.0</td>\n",
              "      <td>91.744686</td>\n",
              "      <td>0.782626</td>\n",
              "      <td>1.161359</td>\n",
              "      <td>1.362643</td>\n",
              "      <td>51.021514</td>\n",
              "      <td>4.603841</td>\n",
              "    </tr>\n",
              "    <tr>\n",
              "      <th>4</th>\n",
              "      <td>57.0</td>\n",
              "      <td>26</td>\n",
              "      <td>144.4</td>\n",
              "      <td>350.1</td>\n",
              "      <td>49955</td>\n",
              "      <td>10321</td>\n",
              "      <td>12.5</td>\n",
              "      <td>0.000000</td>\n",
              "      <td>48.3</td>\n",
              "      <td>47.8</td>\n",
              "      <td>...</td>\n",
              "      <td>43.900000</td>\n",
              "      <td>35.1</td>\n",
              "      <td>44.0</td>\n",
              "      <td>22.7</td>\n",
              "      <td>94.104024</td>\n",
              "      <td>0.270192</td>\n",
              "      <td>0.665830</td>\n",
              "      <td>0.492135</td>\n",
              "      <td>54.027460</td>\n",
              "      <td>6.796657</td>\n",
              "    </tr>\n",
              "  </tbody>\n",
              "</table>\n",
              "<p>5 rows × 31 columns</p>\n",
              "</div>\n",
              "    <div class=\"colab-df-buttons\">\n",
              "\n",
              "  <div class=\"colab-df-container\">\n",
              "    <button class=\"colab-df-convert\" onclick=\"convertToInteractive('df-f5deb5b2-5eeb-425e-80a9-abd776661e40')\"\n",
              "            title=\"Convert this dataframe to an interactive table.\"\n",
              "            style=\"display:none;\">\n",
              "\n",
              "  <svg xmlns=\"http://www.w3.org/2000/svg\" height=\"24px\" viewBox=\"0 -960 960 960\">\n",
              "    <path d=\"M120-120v-720h720v720H120Zm60-500h600v-160H180v160Zm220 220h160v-160H400v160Zm0 220h160v-160H400v160ZM180-400h160v-160H180v160Zm440 0h160v-160H620v160ZM180-180h160v-160H180v160Zm440 0h160v-160H620v160Z\"/>\n",
              "  </svg>\n",
              "    </button>\n",
              "\n",
              "  <style>\n",
              "    .colab-df-container {\n",
              "      display:flex;\n",
              "      gap: 12px;\n",
              "    }\n",
              "\n",
              "    .colab-df-convert {\n",
              "      background-color: #E8F0FE;\n",
              "      border: none;\n",
              "      border-radius: 50%;\n",
              "      cursor: pointer;\n",
              "      display: none;\n",
              "      fill: #1967D2;\n",
              "      height: 32px;\n",
              "      padding: 0 0 0 0;\n",
              "      width: 32px;\n",
              "    }\n",
              "\n",
              "    .colab-df-convert:hover {\n",
              "      background-color: #E2EBFA;\n",
              "      box-shadow: 0px 1px 2px rgba(60, 64, 67, 0.3), 0px 1px 3px 1px rgba(60, 64, 67, 0.15);\n",
              "      fill: #174EA6;\n",
              "    }\n",
              "\n",
              "    .colab-df-buttons div {\n",
              "      margin-bottom: 4px;\n",
              "    }\n",
              "\n",
              "    [theme=dark] .colab-df-convert {\n",
              "      background-color: #3B4455;\n",
              "      fill: #D2E3FC;\n",
              "    }\n",
              "\n",
              "    [theme=dark] .colab-df-convert:hover {\n",
              "      background-color: #434B5C;\n",
              "      box-shadow: 0px 1px 3px 1px rgba(0, 0, 0, 0.15);\n",
              "      filter: drop-shadow(0px 1px 2px rgba(0, 0, 0, 0.3));\n",
              "      fill: #FFFFFF;\n",
              "    }\n",
              "  </style>\n",
              "\n",
              "    <script>\n",
              "      const buttonEl =\n",
              "        document.querySelector('#df-f5deb5b2-5eeb-425e-80a9-abd776661e40 button.colab-df-convert');\n",
              "      buttonEl.style.display =\n",
              "        google.colab.kernel.accessAllowed ? 'block' : 'none';\n",
              "\n",
              "      async function convertToInteractive(key) {\n",
              "        const element = document.querySelector('#df-f5deb5b2-5eeb-425e-80a9-abd776661e40');\n",
              "        const dataTable =\n",
              "          await google.colab.kernel.invokeFunction('convertToInteractive',\n",
              "                                                    [key], {});\n",
              "        if (!dataTable) return;\n",
              "\n",
              "        const docLinkHtml = 'Like what you see? Visit the ' +\n",
              "          '<a target=\"_blank\" href=https://colab.research.google.com/notebooks/data_table.ipynb>data table notebook</a>'\n",
              "          + ' to learn more about interactive tables.';\n",
              "        element.innerHTML = '';\n",
              "        dataTable['output_type'] = 'display_data';\n",
              "        await google.colab.output.renderOutput(dataTable, element);\n",
              "        const docLink = document.createElement('div');\n",
              "        docLink.innerHTML = docLinkHtml;\n",
              "        element.appendChild(docLink);\n",
              "      }\n",
              "    </script>\n",
              "  </div>\n",
              "\n",
              "\n",
              "<div id=\"df-63c49a07-76f5-4a38-9f9d-185e6d42a1f2\">\n",
              "  <button class=\"colab-df-quickchart\" onclick=\"quickchart('df-63c49a07-76f5-4a38-9f9d-185e6d42a1f2')\"\n",
              "            title=\"Suggest charts\"\n",
              "            style=\"display:none;\">\n",
              "\n",
              "<svg xmlns=\"http://www.w3.org/2000/svg\" height=\"24px\"viewBox=\"0 0 24 24\"\n",
              "     width=\"24px\">\n",
              "    <g>\n",
              "        <path d=\"M19 3H5c-1.1 0-2 .9-2 2v14c0 1.1.9 2 2 2h14c1.1 0 2-.9 2-2V5c0-1.1-.9-2-2-2zM9 17H7v-7h2v7zm4 0h-2V7h2v10zm4 0h-2v-4h2v4z\"/>\n",
              "    </g>\n",
              "</svg>\n",
              "  </button>\n",
              "\n",
              "<style>\n",
              "  .colab-df-quickchart {\n",
              "      --bg-color: #E8F0FE;\n",
              "      --fill-color: #1967D2;\n",
              "      --hover-bg-color: #E2EBFA;\n",
              "      --hover-fill-color: #174EA6;\n",
              "      --disabled-fill-color: #AAA;\n",
              "      --disabled-bg-color: #DDD;\n",
              "  }\n",
              "\n",
              "  [theme=dark] .colab-df-quickchart {\n",
              "      --bg-color: #3B4455;\n",
              "      --fill-color: #D2E3FC;\n",
              "      --hover-bg-color: #434B5C;\n",
              "      --hover-fill-color: #FFFFFF;\n",
              "      --disabled-bg-color: #3B4455;\n",
              "      --disabled-fill-color: #666;\n",
              "  }\n",
              "\n",
              "  .colab-df-quickchart {\n",
              "    background-color: var(--bg-color);\n",
              "    border: none;\n",
              "    border-radius: 50%;\n",
              "    cursor: pointer;\n",
              "    display: none;\n",
              "    fill: var(--fill-color);\n",
              "    height: 32px;\n",
              "    padding: 0;\n",
              "    width: 32px;\n",
              "  }\n",
              "\n",
              "  .colab-df-quickchart:hover {\n",
              "    background-color: var(--hover-bg-color);\n",
              "    box-shadow: 0 1px 2px rgba(60, 64, 67, 0.3), 0 1px 3px 1px rgba(60, 64, 67, 0.15);\n",
              "    fill: var(--button-hover-fill-color);\n",
              "  }\n",
              "\n",
              "  .colab-df-quickchart-complete:disabled,\n",
              "  .colab-df-quickchart-complete:disabled:hover {\n",
              "    background-color: var(--disabled-bg-color);\n",
              "    fill: var(--disabled-fill-color);\n",
              "    box-shadow: none;\n",
              "  }\n",
              "\n",
              "  .colab-df-spinner {\n",
              "    border: 2px solid var(--fill-color);\n",
              "    border-color: transparent;\n",
              "    border-bottom-color: var(--fill-color);\n",
              "    animation:\n",
              "      spin 1s steps(1) infinite;\n",
              "  }\n",
              "\n",
              "  @keyframes spin {\n",
              "    0% {\n",
              "      border-color: transparent;\n",
              "      border-bottom-color: var(--fill-color);\n",
              "      border-left-color: var(--fill-color);\n",
              "    }\n",
              "    20% {\n",
              "      border-color: transparent;\n",
              "      border-left-color: var(--fill-color);\n",
              "      border-top-color: var(--fill-color);\n",
              "    }\n",
              "    30% {\n",
              "      border-color: transparent;\n",
              "      border-left-color: var(--fill-color);\n",
              "      border-top-color: var(--fill-color);\n",
              "      border-right-color: var(--fill-color);\n",
              "    }\n",
              "    40% {\n",
              "      border-color: transparent;\n",
              "      border-right-color: var(--fill-color);\n",
              "      border-top-color: var(--fill-color);\n",
              "    }\n",
              "    60% {\n",
              "      border-color: transparent;\n",
              "      border-right-color: var(--fill-color);\n",
              "    }\n",
              "    80% {\n",
              "      border-color: transparent;\n",
              "      border-right-color: var(--fill-color);\n",
              "      border-bottom-color: var(--fill-color);\n",
              "    }\n",
              "    90% {\n",
              "      border-color: transparent;\n",
              "      border-bottom-color: var(--fill-color);\n",
              "    }\n",
              "  }\n",
              "</style>\n",
              "\n",
              "  <script>\n",
              "    async function quickchart(key) {\n",
              "      const quickchartButtonEl =\n",
              "        document.querySelector('#' + key + ' button');\n",
              "      quickchartButtonEl.disabled = true;  // To prevent multiple clicks.\n",
              "      quickchartButtonEl.classList.add('colab-df-spinner');\n",
              "      try {\n",
              "        const charts = await google.colab.kernel.invokeFunction(\n",
              "            'suggestCharts', [key], {});\n",
              "      } catch (error) {\n",
              "        console.error('Error during call to suggestCharts:', error);\n",
              "      }\n",
              "      quickchartButtonEl.classList.remove('colab-df-spinner');\n",
              "      quickchartButtonEl.classList.add('colab-df-quickchart-complete');\n",
              "    }\n",
              "    (() => {\n",
              "      let quickchartButtonEl =\n",
              "        document.querySelector('#df-63c49a07-76f5-4a38-9f9d-185e6d42a1f2 button');\n",
              "      quickchartButtonEl.style.display =\n",
              "        google.colab.kernel.accessAllowed ? 'block' : 'none';\n",
              "    })();\n",
              "  </script>\n",
              "</div>\n",
              "\n",
              "    </div>\n",
              "  </div>\n"
            ],
            "application/vnd.google.colaboratory.intrinsic+json": {
              "type": "dataframe",
              "variable_name": "df_cancer"
            }
          },
          "metadata": {},
          "execution_count": 177
        }
      ]
    },
    {
      "cell_type": "markdown",
      "source": [
        "After handling missing values, we used `duplicated()` function to identify rows that are exact copies of one another."
      ],
      "metadata": {
        "id": "vdU7gadG0FFR"
      }
    },
    {
      "cell_type": "code",
      "source": [
        "# Check duplicated rows in dataset 1\n",
        "df_household.duplicated().sum()\n",
        "\n",
        "# -> There are no duplicated rows in dataset 1"
      ],
      "metadata": {
        "colab": {
          "base_uri": "https://localhost:8080/"
        },
        "id": "-PfDGiHXqgSS",
        "outputId": "06b58fe8-72be-4140-b5a7-dd35f49157ac"
      },
      "execution_count": 178,
      "outputs": [
        {
          "output_type": "execute_result",
          "data": {
            "text/plain": [
              "0"
            ]
          },
          "metadata": {},
          "execution_count": 178
        }
      ]
    },
    {
      "cell_type": "code",
      "source": [
        "# Check duplicated rows in dataset 2\n",
        "df_cancer.duplicated().sum()\n",
        "\n",
        "# -> There are no duplicated rows in dataset 2"
      ],
      "metadata": {
        "colab": {
          "base_uri": "https://localhost:8080/"
        },
        "id": "1rodY1ExlUOn",
        "outputId": "82acea84-3b86-4bce-d704-4bbed71da8cf"
      },
      "execution_count": 179,
      "outputs": [
        {
          "output_type": "execute_result",
          "data": {
            "text/plain": [
              "0"
            ]
          },
          "metadata": {},
          "execution_count": 179
        }
      ]
    },
    {
      "cell_type": "markdown",
      "source": [
        "### Data normalization for numerical features"
      ],
      "metadata": {
        "id": "biTjV-TIyV_I"
      }
    },
    {
      "cell_type": "markdown",
      "source": [
        "**Split dataset into features and target:**"
      ],
      "metadata": {
        "id": "sy8IonDkBgks"
      }
    },
    {
      "cell_type": "markdown",
      "source": [
        "In dataset 1, we chose `avghouseholdsize`column as the target and all the remaining columns are features."
      ],
      "metadata": {
        "id": "opixHLszagLW"
      }
    },
    {
      "cell_type": "code",
      "source": [
        "# Split dataset 1 into features and target: (df_household)\n",
        "X1 = df_household.drop(\"avghouseholdsize\",axis='columns')\n",
        "y1 = df_household.avghouseholdsize\n",
        "\n",
        "X1.head()"
      ],
      "metadata": {
        "colab": {
          "base_uri": "https://localhost:8080/",
          "height": 206
        },
        "id": "z8d4n5LNBg_e",
        "outputId": "b493f4e4-44ba-4b1e-8cb8-9ed070910587"
      },
      "execution_count": 180,
      "outputs": [
        {
          "output_type": "execute_result",
          "data": {
            "text/plain": [
              "   statefips  countyfips\n",
              "0          2          13\n",
              "1          2          16\n",
              "2          2          20\n",
              "3          2          50\n",
              "4          2          60"
            ],
            "text/html": [
              "\n",
              "  <div id=\"df-54230d6f-9165-4d65-967a-ad6eea2e5194\" class=\"colab-df-container\">\n",
              "    <div>\n",
              "<style scoped>\n",
              "    .dataframe tbody tr th:only-of-type {\n",
              "        vertical-align: middle;\n",
              "    }\n",
              "\n",
              "    .dataframe tbody tr th {\n",
              "        vertical-align: top;\n",
              "    }\n",
              "\n",
              "    .dataframe thead th {\n",
              "        text-align: right;\n",
              "    }\n",
              "</style>\n",
              "<table border=\"1\" class=\"dataframe\">\n",
              "  <thead>\n",
              "    <tr style=\"text-align: right;\">\n",
              "      <th></th>\n",
              "      <th>statefips</th>\n",
              "      <th>countyfips</th>\n",
              "    </tr>\n",
              "  </thead>\n",
              "  <tbody>\n",
              "    <tr>\n",
              "      <th>0</th>\n",
              "      <td>2</td>\n",
              "      <td>13</td>\n",
              "    </tr>\n",
              "    <tr>\n",
              "      <th>1</th>\n",
              "      <td>2</td>\n",
              "      <td>16</td>\n",
              "    </tr>\n",
              "    <tr>\n",
              "      <th>2</th>\n",
              "      <td>2</td>\n",
              "      <td>20</td>\n",
              "    </tr>\n",
              "    <tr>\n",
              "      <th>3</th>\n",
              "      <td>2</td>\n",
              "      <td>50</td>\n",
              "    </tr>\n",
              "    <tr>\n",
              "      <th>4</th>\n",
              "      <td>2</td>\n",
              "      <td>60</td>\n",
              "    </tr>\n",
              "  </tbody>\n",
              "</table>\n",
              "</div>\n",
              "    <div class=\"colab-df-buttons\">\n",
              "\n",
              "  <div class=\"colab-df-container\">\n",
              "    <button class=\"colab-df-convert\" onclick=\"convertToInteractive('df-54230d6f-9165-4d65-967a-ad6eea2e5194')\"\n",
              "            title=\"Convert this dataframe to an interactive table.\"\n",
              "            style=\"display:none;\">\n",
              "\n",
              "  <svg xmlns=\"http://www.w3.org/2000/svg\" height=\"24px\" viewBox=\"0 -960 960 960\">\n",
              "    <path d=\"M120-120v-720h720v720H120Zm60-500h600v-160H180v160Zm220 220h160v-160H400v160Zm0 220h160v-160H400v160ZM180-400h160v-160H180v160Zm440 0h160v-160H620v160ZM180-180h160v-160H180v160Zm440 0h160v-160H620v160Z\"/>\n",
              "  </svg>\n",
              "    </button>\n",
              "\n",
              "  <style>\n",
              "    .colab-df-container {\n",
              "      display:flex;\n",
              "      gap: 12px;\n",
              "    }\n",
              "\n",
              "    .colab-df-convert {\n",
              "      background-color: #E8F0FE;\n",
              "      border: none;\n",
              "      border-radius: 50%;\n",
              "      cursor: pointer;\n",
              "      display: none;\n",
              "      fill: #1967D2;\n",
              "      height: 32px;\n",
              "      padding: 0 0 0 0;\n",
              "      width: 32px;\n",
              "    }\n",
              "\n",
              "    .colab-df-convert:hover {\n",
              "      background-color: #E2EBFA;\n",
              "      box-shadow: 0px 1px 2px rgba(60, 64, 67, 0.3), 0px 1px 3px 1px rgba(60, 64, 67, 0.15);\n",
              "      fill: #174EA6;\n",
              "    }\n",
              "\n",
              "    .colab-df-buttons div {\n",
              "      margin-bottom: 4px;\n",
              "    }\n",
              "\n",
              "    [theme=dark] .colab-df-convert {\n",
              "      background-color: #3B4455;\n",
              "      fill: #D2E3FC;\n",
              "    }\n",
              "\n",
              "    [theme=dark] .colab-df-convert:hover {\n",
              "      background-color: #434B5C;\n",
              "      box-shadow: 0px 1px 3px 1px rgba(0, 0, 0, 0.15);\n",
              "      filter: drop-shadow(0px 1px 2px rgba(0, 0, 0, 0.3));\n",
              "      fill: #FFFFFF;\n",
              "    }\n",
              "  </style>\n",
              "\n",
              "    <script>\n",
              "      const buttonEl =\n",
              "        document.querySelector('#df-54230d6f-9165-4d65-967a-ad6eea2e5194 button.colab-df-convert');\n",
              "      buttonEl.style.display =\n",
              "        google.colab.kernel.accessAllowed ? 'block' : 'none';\n",
              "\n",
              "      async function convertToInteractive(key) {\n",
              "        const element = document.querySelector('#df-54230d6f-9165-4d65-967a-ad6eea2e5194');\n",
              "        const dataTable =\n",
              "          await google.colab.kernel.invokeFunction('convertToInteractive',\n",
              "                                                    [key], {});\n",
              "        if (!dataTable) return;\n",
              "\n",
              "        const docLinkHtml = 'Like what you see? Visit the ' +\n",
              "          '<a target=\"_blank\" href=https://colab.research.google.com/notebooks/data_table.ipynb>data table notebook</a>'\n",
              "          + ' to learn more about interactive tables.';\n",
              "        element.innerHTML = '';\n",
              "        dataTable['output_type'] = 'display_data';\n",
              "        await google.colab.output.renderOutput(dataTable, element);\n",
              "        const docLink = document.createElement('div');\n",
              "        docLink.innerHTML = docLinkHtml;\n",
              "        element.appendChild(docLink);\n",
              "      }\n",
              "    </script>\n",
              "  </div>\n",
              "\n",
              "\n",
              "<div id=\"df-d7cbb771-a116-499d-bb38-ee8ce9d97de4\">\n",
              "  <button class=\"colab-df-quickchart\" onclick=\"quickchart('df-d7cbb771-a116-499d-bb38-ee8ce9d97de4')\"\n",
              "            title=\"Suggest charts\"\n",
              "            style=\"display:none;\">\n",
              "\n",
              "<svg xmlns=\"http://www.w3.org/2000/svg\" height=\"24px\"viewBox=\"0 0 24 24\"\n",
              "     width=\"24px\">\n",
              "    <g>\n",
              "        <path d=\"M19 3H5c-1.1 0-2 .9-2 2v14c0 1.1.9 2 2 2h14c1.1 0 2-.9 2-2V5c0-1.1-.9-2-2-2zM9 17H7v-7h2v7zm4 0h-2V7h2v10zm4 0h-2v-4h2v4z\"/>\n",
              "    </g>\n",
              "</svg>\n",
              "  </button>\n",
              "\n",
              "<style>\n",
              "  .colab-df-quickchart {\n",
              "      --bg-color: #E8F0FE;\n",
              "      --fill-color: #1967D2;\n",
              "      --hover-bg-color: #E2EBFA;\n",
              "      --hover-fill-color: #174EA6;\n",
              "      --disabled-fill-color: #AAA;\n",
              "      --disabled-bg-color: #DDD;\n",
              "  }\n",
              "\n",
              "  [theme=dark] .colab-df-quickchart {\n",
              "      --bg-color: #3B4455;\n",
              "      --fill-color: #D2E3FC;\n",
              "      --hover-bg-color: #434B5C;\n",
              "      --hover-fill-color: #FFFFFF;\n",
              "      --disabled-bg-color: #3B4455;\n",
              "      --disabled-fill-color: #666;\n",
              "  }\n",
              "\n",
              "  .colab-df-quickchart {\n",
              "    background-color: var(--bg-color);\n",
              "    border: none;\n",
              "    border-radius: 50%;\n",
              "    cursor: pointer;\n",
              "    display: none;\n",
              "    fill: var(--fill-color);\n",
              "    height: 32px;\n",
              "    padding: 0;\n",
              "    width: 32px;\n",
              "  }\n",
              "\n",
              "  .colab-df-quickchart:hover {\n",
              "    background-color: var(--hover-bg-color);\n",
              "    box-shadow: 0 1px 2px rgba(60, 64, 67, 0.3), 0 1px 3px 1px rgba(60, 64, 67, 0.15);\n",
              "    fill: var(--button-hover-fill-color);\n",
              "  }\n",
              "\n",
              "  .colab-df-quickchart-complete:disabled,\n",
              "  .colab-df-quickchart-complete:disabled:hover {\n",
              "    background-color: var(--disabled-bg-color);\n",
              "    fill: var(--disabled-fill-color);\n",
              "    box-shadow: none;\n",
              "  }\n",
              "\n",
              "  .colab-df-spinner {\n",
              "    border: 2px solid var(--fill-color);\n",
              "    border-color: transparent;\n",
              "    border-bottom-color: var(--fill-color);\n",
              "    animation:\n",
              "      spin 1s steps(1) infinite;\n",
              "  }\n",
              "\n",
              "  @keyframes spin {\n",
              "    0% {\n",
              "      border-color: transparent;\n",
              "      border-bottom-color: var(--fill-color);\n",
              "      border-left-color: var(--fill-color);\n",
              "    }\n",
              "    20% {\n",
              "      border-color: transparent;\n",
              "      border-left-color: var(--fill-color);\n",
              "      border-top-color: var(--fill-color);\n",
              "    }\n",
              "    30% {\n",
              "      border-color: transparent;\n",
              "      border-left-color: var(--fill-color);\n",
              "      border-top-color: var(--fill-color);\n",
              "      border-right-color: var(--fill-color);\n",
              "    }\n",
              "    40% {\n",
              "      border-color: transparent;\n",
              "      border-right-color: var(--fill-color);\n",
              "      border-top-color: var(--fill-color);\n",
              "    }\n",
              "    60% {\n",
              "      border-color: transparent;\n",
              "      border-right-color: var(--fill-color);\n",
              "    }\n",
              "    80% {\n",
              "      border-color: transparent;\n",
              "      border-right-color: var(--fill-color);\n",
              "      border-bottom-color: var(--fill-color);\n",
              "    }\n",
              "    90% {\n",
              "      border-color: transparent;\n",
              "      border-bottom-color: var(--fill-color);\n",
              "    }\n",
              "  }\n",
              "</style>\n",
              "\n",
              "  <script>\n",
              "    async function quickchart(key) {\n",
              "      const quickchartButtonEl =\n",
              "        document.querySelector('#' + key + ' button');\n",
              "      quickchartButtonEl.disabled = true;  // To prevent multiple clicks.\n",
              "      quickchartButtonEl.classList.add('colab-df-spinner');\n",
              "      try {\n",
              "        const charts = await google.colab.kernel.invokeFunction(\n",
              "            'suggestCharts', [key], {});\n",
              "      } catch (error) {\n",
              "        console.error('Error during call to suggestCharts:', error);\n",
              "      }\n",
              "      quickchartButtonEl.classList.remove('colab-df-spinner');\n",
              "      quickchartButtonEl.classList.add('colab-df-quickchart-complete');\n",
              "    }\n",
              "    (() => {\n",
              "      let quickchartButtonEl =\n",
              "        document.querySelector('#df-d7cbb771-a116-499d-bb38-ee8ce9d97de4 button');\n",
              "      quickchartButtonEl.style.display =\n",
              "        google.colab.kernel.accessAllowed ? 'block' : 'none';\n",
              "    })();\n",
              "  </script>\n",
              "</div>\n",
              "\n",
              "    </div>\n",
              "  </div>\n"
            ],
            "application/vnd.google.colaboratory.intrinsic+json": {
              "type": "dataframe",
              "variable_name": "X1",
              "summary": "{\n  \"name\": \"X1\",\n  \"rows\": 3220,\n  \"fields\": [\n    {\n      \"column\": \"statefips\",\n      \"properties\": {\n        \"dtype\": \"number\",\n        \"std\": 16,\n        \"min\": 1,\n        \"max\": 72,\n        \"num_unique_values\": 52,\n        \"samples\": [\n          25,\n          45,\n          50\n        ],\n        \"semantic_type\": \"\",\n        \"description\": \"\"\n      }\n    },\n    {\n      \"column\": \"countyfips\",\n      \"properties\": {\n        \"dtype\": \"number\",\n        \"std\": 106,\n        \"min\": 1,\n        \"max\": 840,\n        \"num_unique_values\": 325,\n        \"samples\": [\n          405,\n          161,\n          433\n        ],\n        \"semantic_type\": \"\",\n        \"description\": \"\"\n      }\n    }\n  ]\n}"
            }
          },
          "metadata": {},
          "execution_count": 180
        }
      ]
    },
    {
      "cell_type": "markdown",
      "source": [
        "Likewise, in dataset 2, we chose `target_deathrate`column as the target and all the remaining columns are features."
      ],
      "metadata": {
        "id": "rIoMT9gXaweZ"
      }
    },
    {
      "cell_type": "code",
      "source": [
        "# Split dataset 2 into features and target: (df_cancer)\n",
        "X2 = df_cancer.drop(\"target_deathrate\",axis='columns')\n",
        "y2 = df_cancer.target_deathrate\n",
        "\n",
        "X2.head()"
      ],
      "metadata": {
        "colab": {
          "base_uri": "https://localhost:8080/",
          "height": 255
        },
        "id": "7skFhAn8D3RC",
        "outputId": "9faec37d-69e9-4567-f71e-438be4e003e4"
      },
      "execution_count": 181,
      "outputs": [
        {
          "output_type": "execute_result",
          "data": {
            "text/plain": [
              "   avganncount  avgdeathsperyear  incidencerate  medincome  popest2015  \\\n",
              "0       1397.0               469          489.8      61898      260131   \n",
              "1        173.0                70          411.6      48127       43269   \n",
              "2        102.0                50          349.7      49348       21026   \n",
              "3        427.0               202          430.4      44243       75882   \n",
              "4         57.0                26          350.1      49955       10321   \n",
              "\n",
              "   povertypercent  studypercap  medianage  medianagemale  medianagefemale  \\\n",
              "0            11.2   499.748204       39.3           36.9             41.7   \n",
              "1            18.6    23.111234       33.0           32.2             33.7   \n",
              "2            14.6    47.560164       45.0           44.0             45.8   \n",
              "3            17.1   342.637253       42.8           42.2             43.4   \n",
              "4            12.5     0.000000       48.3           47.8             48.9   \n",
              "\n",
              "   ...  pctprivatecoveragealone  pctempprivcoverage  pctpubliccoverage  \\\n",
              "0  ...                48.453774                41.6               32.9   \n",
              "1  ...                53.800000                43.6               31.1   \n",
              "2  ...                43.500000                34.9               42.1   \n",
              "3  ...                40.300000                35.0               45.3   \n",
              "4  ...                43.900000                35.1               44.0   \n",
              "\n",
              "   pctpubliccoveragealone   pctwhite  pctblack  pctasian  pctotherrace  \\\n",
              "0                    14.0  81.780529  2.594728  4.821857      1.843479   \n",
              "1                    15.3  89.228509  0.969102  2.246233      3.741352   \n",
              "2                    21.1  90.922190  0.739673  0.465898      2.747358   \n",
              "3                    25.0  91.744686  0.782626  1.161359      1.362643   \n",
              "4                    22.7  94.104024  0.270192  0.665830      0.492135   \n",
              "\n",
              "   pctmarriedhouseholds  birthrate  \n",
              "0             52.856076   6.118831  \n",
              "1             45.372500   4.333096  \n",
              "2             54.444868   3.729488  \n",
              "3             51.021514   4.603841  \n",
              "4             54.027460   6.796657  \n",
              "\n",
              "[5 rows x 30 columns]"
            ],
            "text/html": [
              "\n",
              "  <div id=\"df-dd1edfa3-1605-4cc4-aaf6-0e74862b927b\" class=\"colab-df-container\">\n",
              "    <div>\n",
              "<style scoped>\n",
              "    .dataframe tbody tr th:only-of-type {\n",
              "        vertical-align: middle;\n",
              "    }\n",
              "\n",
              "    .dataframe tbody tr th {\n",
              "        vertical-align: top;\n",
              "    }\n",
              "\n",
              "    .dataframe thead th {\n",
              "        text-align: right;\n",
              "    }\n",
              "</style>\n",
              "<table border=\"1\" class=\"dataframe\">\n",
              "  <thead>\n",
              "    <tr style=\"text-align: right;\">\n",
              "      <th></th>\n",
              "      <th>avganncount</th>\n",
              "      <th>avgdeathsperyear</th>\n",
              "      <th>incidencerate</th>\n",
              "      <th>medincome</th>\n",
              "      <th>popest2015</th>\n",
              "      <th>povertypercent</th>\n",
              "      <th>studypercap</th>\n",
              "      <th>medianage</th>\n",
              "      <th>medianagemale</th>\n",
              "      <th>medianagefemale</th>\n",
              "      <th>...</th>\n",
              "      <th>pctprivatecoveragealone</th>\n",
              "      <th>pctempprivcoverage</th>\n",
              "      <th>pctpubliccoverage</th>\n",
              "      <th>pctpubliccoveragealone</th>\n",
              "      <th>pctwhite</th>\n",
              "      <th>pctblack</th>\n",
              "      <th>pctasian</th>\n",
              "      <th>pctotherrace</th>\n",
              "      <th>pctmarriedhouseholds</th>\n",
              "      <th>birthrate</th>\n",
              "    </tr>\n",
              "  </thead>\n",
              "  <tbody>\n",
              "    <tr>\n",
              "      <th>0</th>\n",
              "      <td>1397.0</td>\n",
              "      <td>469</td>\n",
              "      <td>489.8</td>\n",
              "      <td>61898</td>\n",
              "      <td>260131</td>\n",
              "      <td>11.2</td>\n",
              "      <td>499.748204</td>\n",
              "      <td>39.3</td>\n",
              "      <td>36.9</td>\n",
              "      <td>41.7</td>\n",
              "      <td>...</td>\n",
              "      <td>48.453774</td>\n",
              "      <td>41.6</td>\n",
              "      <td>32.9</td>\n",
              "      <td>14.0</td>\n",
              "      <td>81.780529</td>\n",
              "      <td>2.594728</td>\n",
              "      <td>4.821857</td>\n",
              "      <td>1.843479</td>\n",
              "      <td>52.856076</td>\n",
              "      <td>6.118831</td>\n",
              "    </tr>\n",
              "    <tr>\n",
              "      <th>1</th>\n",
              "      <td>173.0</td>\n",
              "      <td>70</td>\n",
              "      <td>411.6</td>\n",
              "      <td>48127</td>\n",
              "      <td>43269</td>\n",
              "      <td>18.6</td>\n",
              "      <td>23.111234</td>\n",
              "      <td>33.0</td>\n",
              "      <td>32.2</td>\n",
              "      <td>33.7</td>\n",
              "      <td>...</td>\n",
              "      <td>53.800000</td>\n",
              "      <td>43.6</td>\n",
              "      <td>31.1</td>\n",
              "      <td>15.3</td>\n",
              "      <td>89.228509</td>\n",
              "      <td>0.969102</td>\n",
              "      <td>2.246233</td>\n",
              "      <td>3.741352</td>\n",
              "      <td>45.372500</td>\n",
              "      <td>4.333096</td>\n",
              "    </tr>\n",
              "    <tr>\n",
              "      <th>2</th>\n",
              "      <td>102.0</td>\n",
              "      <td>50</td>\n",
              "      <td>349.7</td>\n",
              "      <td>49348</td>\n",
              "      <td>21026</td>\n",
              "      <td>14.6</td>\n",
              "      <td>47.560164</td>\n",
              "      <td>45.0</td>\n",
              "      <td>44.0</td>\n",
              "      <td>45.8</td>\n",
              "      <td>...</td>\n",
              "      <td>43.500000</td>\n",
              "      <td>34.9</td>\n",
              "      <td>42.1</td>\n",
              "      <td>21.1</td>\n",
              "      <td>90.922190</td>\n",
              "      <td>0.739673</td>\n",
              "      <td>0.465898</td>\n",
              "      <td>2.747358</td>\n",
              "      <td>54.444868</td>\n",
              "      <td>3.729488</td>\n",
              "    </tr>\n",
              "    <tr>\n",
              "      <th>3</th>\n",
              "      <td>427.0</td>\n",
              "      <td>202</td>\n",
              "      <td>430.4</td>\n",
              "      <td>44243</td>\n",
              "      <td>75882</td>\n",
              "      <td>17.1</td>\n",
              "      <td>342.637253</td>\n",
              "      <td>42.8</td>\n",
              "      <td>42.2</td>\n",
              "      <td>43.4</td>\n",
              "      <td>...</td>\n",
              "      <td>40.300000</td>\n",
              "      <td>35.0</td>\n",
              "      <td>45.3</td>\n",
              "      <td>25.0</td>\n",
              "      <td>91.744686</td>\n",
              "      <td>0.782626</td>\n",
              "      <td>1.161359</td>\n",
              "      <td>1.362643</td>\n",
              "      <td>51.021514</td>\n",
              "      <td>4.603841</td>\n",
              "    </tr>\n",
              "    <tr>\n",
              "      <th>4</th>\n",
              "      <td>57.0</td>\n",
              "      <td>26</td>\n",
              "      <td>350.1</td>\n",
              "      <td>49955</td>\n",
              "      <td>10321</td>\n",
              "      <td>12.5</td>\n",
              "      <td>0.000000</td>\n",
              "      <td>48.3</td>\n",
              "      <td>47.8</td>\n",
              "      <td>48.9</td>\n",
              "      <td>...</td>\n",
              "      <td>43.900000</td>\n",
              "      <td>35.1</td>\n",
              "      <td>44.0</td>\n",
              "      <td>22.7</td>\n",
              "      <td>94.104024</td>\n",
              "      <td>0.270192</td>\n",
              "      <td>0.665830</td>\n",
              "      <td>0.492135</td>\n",
              "      <td>54.027460</td>\n",
              "      <td>6.796657</td>\n",
              "    </tr>\n",
              "  </tbody>\n",
              "</table>\n",
              "<p>5 rows × 30 columns</p>\n",
              "</div>\n",
              "    <div class=\"colab-df-buttons\">\n",
              "\n",
              "  <div class=\"colab-df-container\">\n",
              "    <button class=\"colab-df-convert\" onclick=\"convertToInteractive('df-dd1edfa3-1605-4cc4-aaf6-0e74862b927b')\"\n",
              "            title=\"Convert this dataframe to an interactive table.\"\n",
              "            style=\"display:none;\">\n",
              "\n",
              "  <svg xmlns=\"http://www.w3.org/2000/svg\" height=\"24px\" viewBox=\"0 -960 960 960\">\n",
              "    <path d=\"M120-120v-720h720v720H120Zm60-500h600v-160H180v160Zm220 220h160v-160H400v160Zm0 220h160v-160H400v160ZM180-400h160v-160H180v160Zm440 0h160v-160H620v160ZM180-180h160v-160H180v160Zm440 0h160v-160H620v160Z\"/>\n",
              "  </svg>\n",
              "    </button>\n",
              "\n",
              "  <style>\n",
              "    .colab-df-container {\n",
              "      display:flex;\n",
              "      gap: 12px;\n",
              "    }\n",
              "\n",
              "    .colab-df-convert {\n",
              "      background-color: #E8F0FE;\n",
              "      border: none;\n",
              "      border-radius: 50%;\n",
              "      cursor: pointer;\n",
              "      display: none;\n",
              "      fill: #1967D2;\n",
              "      height: 32px;\n",
              "      padding: 0 0 0 0;\n",
              "      width: 32px;\n",
              "    }\n",
              "\n",
              "    .colab-df-convert:hover {\n",
              "      background-color: #E2EBFA;\n",
              "      box-shadow: 0px 1px 2px rgba(60, 64, 67, 0.3), 0px 1px 3px 1px rgba(60, 64, 67, 0.15);\n",
              "      fill: #174EA6;\n",
              "    }\n",
              "\n",
              "    .colab-df-buttons div {\n",
              "      margin-bottom: 4px;\n",
              "    }\n",
              "\n",
              "    [theme=dark] .colab-df-convert {\n",
              "      background-color: #3B4455;\n",
              "      fill: #D2E3FC;\n",
              "    }\n",
              "\n",
              "    [theme=dark] .colab-df-convert:hover {\n",
              "      background-color: #434B5C;\n",
              "      box-shadow: 0px 1px 3px 1px rgba(0, 0, 0, 0.15);\n",
              "      filter: drop-shadow(0px 1px 2px rgba(0, 0, 0, 0.3));\n",
              "      fill: #FFFFFF;\n",
              "    }\n",
              "  </style>\n",
              "\n",
              "    <script>\n",
              "      const buttonEl =\n",
              "        document.querySelector('#df-dd1edfa3-1605-4cc4-aaf6-0e74862b927b button.colab-df-convert');\n",
              "      buttonEl.style.display =\n",
              "        google.colab.kernel.accessAllowed ? 'block' : 'none';\n",
              "\n",
              "      async function convertToInteractive(key) {\n",
              "        const element = document.querySelector('#df-dd1edfa3-1605-4cc4-aaf6-0e74862b927b');\n",
              "        const dataTable =\n",
              "          await google.colab.kernel.invokeFunction('convertToInteractive',\n",
              "                                                    [key], {});\n",
              "        if (!dataTable) return;\n",
              "\n",
              "        const docLinkHtml = 'Like what you see? Visit the ' +\n",
              "          '<a target=\"_blank\" href=https://colab.research.google.com/notebooks/data_table.ipynb>data table notebook</a>'\n",
              "          + ' to learn more about interactive tables.';\n",
              "        element.innerHTML = '';\n",
              "        dataTable['output_type'] = 'display_data';\n",
              "        await google.colab.output.renderOutput(dataTable, element);\n",
              "        const docLink = document.createElement('div');\n",
              "        docLink.innerHTML = docLinkHtml;\n",
              "        element.appendChild(docLink);\n",
              "      }\n",
              "    </script>\n",
              "  </div>\n",
              "\n",
              "\n",
              "<div id=\"df-9703645c-aa70-4a8f-831c-22fe8f58e1a4\">\n",
              "  <button class=\"colab-df-quickchart\" onclick=\"quickchart('df-9703645c-aa70-4a8f-831c-22fe8f58e1a4')\"\n",
              "            title=\"Suggest charts\"\n",
              "            style=\"display:none;\">\n",
              "\n",
              "<svg xmlns=\"http://www.w3.org/2000/svg\" height=\"24px\"viewBox=\"0 0 24 24\"\n",
              "     width=\"24px\">\n",
              "    <g>\n",
              "        <path d=\"M19 3H5c-1.1 0-2 .9-2 2v14c0 1.1.9 2 2 2h14c1.1 0 2-.9 2-2V5c0-1.1-.9-2-2-2zM9 17H7v-7h2v7zm4 0h-2V7h2v10zm4 0h-2v-4h2v4z\"/>\n",
              "    </g>\n",
              "</svg>\n",
              "  </button>\n",
              "\n",
              "<style>\n",
              "  .colab-df-quickchart {\n",
              "      --bg-color: #E8F0FE;\n",
              "      --fill-color: #1967D2;\n",
              "      --hover-bg-color: #E2EBFA;\n",
              "      --hover-fill-color: #174EA6;\n",
              "      --disabled-fill-color: #AAA;\n",
              "      --disabled-bg-color: #DDD;\n",
              "  }\n",
              "\n",
              "  [theme=dark] .colab-df-quickchart {\n",
              "      --bg-color: #3B4455;\n",
              "      --fill-color: #D2E3FC;\n",
              "      --hover-bg-color: #434B5C;\n",
              "      --hover-fill-color: #FFFFFF;\n",
              "      --disabled-bg-color: #3B4455;\n",
              "      --disabled-fill-color: #666;\n",
              "  }\n",
              "\n",
              "  .colab-df-quickchart {\n",
              "    background-color: var(--bg-color);\n",
              "    border: none;\n",
              "    border-radius: 50%;\n",
              "    cursor: pointer;\n",
              "    display: none;\n",
              "    fill: var(--fill-color);\n",
              "    height: 32px;\n",
              "    padding: 0;\n",
              "    width: 32px;\n",
              "  }\n",
              "\n",
              "  .colab-df-quickchart:hover {\n",
              "    background-color: var(--hover-bg-color);\n",
              "    box-shadow: 0 1px 2px rgba(60, 64, 67, 0.3), 0 1px 3px 1px rgba(60, 64, 67, 0.15);\n",
              "    fill: var(--button-hover-fill-color);\n",
              "  }\n",
              "\n",
              "  .colab-df-quickchart-complete:disabled,\n",
              "  .colab-df-quickchart-complete:disabled:hover {\n",
              "    background-color: var(--disabled-bg-color);\n",
              "    fill: var(--disabled-fill-color);\n",
              "    box-shadow: none;\n",
              "  }\n",
              "\n",
              "  .colab-df-spinner {\n",
              "    border: 2px solid var(--fill-color);\n",
              "    border-color: transparent;\n",
              "    border-bottom-color: var(--fill-color);\n",
              "    animation:\n",
              "      spin 1s steps(1) infinite;\n",
              "  }\n",
              "\n",
              "  @keyframes spin {\n",
              "    0% {\n",
              "      border-color: transparent;\n",
              "      border-bottom-color: var(--fill-color);\n",
              "      border-left-color: var(--fill-color);\n",
              "    }\n",
              "    20% {\n",
              "      border-color: transparent;\n",
              "      border-left-color: var(--fill-color);\n",
              "      border-top-color: var(--fill-color);\n",
              "    }\n",
              "    30% {\n",
              "      border-color: transparent;\n",
              "      border-left-color: var(--fill-color);\n",
              "      border-top-color: var(--fill-color);\n",
              "      border-right-color: var(--fill-color);\n",
              "    }\n",
              "    40% {\n",
              "      border-color: transparent;\n",
              "      border-right-color: var(--fill-color);\n",
              "      border-top-color: var(--fill-color);\n",
              "    }\n",
              "    60% {\n",
              "      border-color: transparent;\n",
              "      border-right-color: var(--fill-color);\n",
              "    }\n",
              "    80% {\n",
              "      border-color: transparent;\n",
              "      border-right-color: var(--fill-color);\n",
              "      border-bottom-color: var(--fill-color);\n",
              "    }\n",
              "    90% {\n",
              "      border-color: transparent;\n",
              "      border-bottom-color: var(--fill-color);\n",
              "    }\n",
              "  }\n",
              "</style>\n",
              "\n",
              "  <script>\n",
              "    async function quickchart(key) {\n",
              "      const quickchartButtonEl =\n",
              "        document.querySelector('#' + key + ' button');\n",
              "      quickchartButtonEl.disabled = true;  // To prevent multiple clicks.\n",
              "      quickchartButtonEl.classList.add('colab-df-spinner');\n",
              "      try {\n",
              "        const charts = await google.colab.kernel.invokeFunction(\n",
              "            'suggestCharts', [key], {});\n",
              "      } catch (error) {\n",
              "        console.error('Error during call to suggestCharts:', error);\n",
              "      }\n",
              "      quickchartButtonEl.classList.remove('colab-df-spinner');\n",
              "      quickchartButtonEl.classList.add('colab-df-quickchart-complete');\n",
              "    }\n",
              "    (() => {\n",
              "      let quickchartButtonEl =\n",
              "        document.querySelector('#df-9703645c-aa70-4a8f-831c-22fe8f58e1a4 button');\n",
              "      quickchartButtonEl.style.display =\n",
              "        google.colab.kernel.accessAllowed ? 'block' : 'none';\n",
              "    })();\n",
              "  </script>\n",
              "</div>\n",
              "\n",
              "    </div>\n",
              "  </div>\n"
            ],
            "application/vnd.google.colaboratory.intrinsic+json": {
              "type": "dataframe",
              "variable_name": "X2"
            }
          },
          "metadata": {},
          "execution_count": 181
        }
      ]
    },
    {
      "cell_type": "markdown",
      "source": [
        "**Apply scaling:**"
      ],
      "metadata": {
        "id": "of2TCKXYB9km"
      }
    },
    {
      "cell_type": "markdown",
      "source": [
        " In this stage, we will employ the `MinMaxScaler` method from the `sklearn.preprocessing` library to fit and transform our data, ensuring that numerical features are normalized to a specified range."
      ],
      "metadata": {
        "id": "hP246SvVW75n"
      }
    },
    {
      "cell_type": "code",
      "source": [
        "#Normalizing data from dataset 1 (df_household)\n",
        "from sklearn.preprocessing import MinMaxScaler\n",
        "\n",
        "# Initialize MinMaxScaler\n",
        "scaler = MinMaxScaler()\n",
        "\n",
        "# Fit scaler on the training data and transform numerical features\n",
        "X1_scaled = scaler.fit_transform(X1)\n",
        "\n",
        "X1_scaled"
      ],
      "metadata": {
        "id": "6lbcK5Qw4qjm",
        "colab": {
          "base_uri": "https://localhost:8080/"
        },
        "outputId": "b05d0be5-01f4-41fb-9440-b7c0c8bddc41"
      },
      "execution_count": 182,
      "outputs": [
        {
          "output_type": "execute_result",
          "data": {
            "text/plain": [
              "array([[0.01408451, 0.01430274],\n",
              "       [0.01408451, 0.01787843],\n",
              "       [0.01408451, 0.02264601],\n",
              "       ...,\n",
              "       [0.77464789, 0.0476758 ],\n",
              "       [0.77464789, 0.05005959],\n",
              "       [0.77464789, 0.05244338]])"
            ]
          },
          "metadata": {},
          "execution_count": 182
        }
      ]
    },
    {
      "cell_type": "code",
      "source": [
        "#Normalizing data from dataset 2 (df_cancer)\n",
        "\n",
        "from sklearn.preprocessing import MinMaxScaler\n",
        "\n",
        "# Initialize MinMaxScaler\n",
        "scaler = MinMaxScaler()\n",
        "\n",
        "# Fit scaler on the training data and transform numerical features\n",
        "X2_scaled = scaler.fit_transform(X2)\n",
        "\n",
        "X2_scaled\n"
      ],
      "metadata": {
        "colab": {
          "base_uri": "https://localhost:8080/"
        },
        "id": "h7AeMrrH04fH",
        "outputId": "686e456a-ea7a-4ab0-c5f1-c1c5237347c4"
      },
      "execution_count": 183,
      "outputs": [
        {
          "output_type": "execute_result",
          "data": {
            "text/plain": [
              "array([[0.03646707, 0.03326908, 0.2868934 , ..., 0.04396536, 0.54215704,\n",
              "        0.28691661],\n",
              "       [0.00437815, 0.00478332, 0.20912888, ..., 0.08922798, 0.40629683,\n",
              "        0.20318213],\n",
              "       [0.00251678, 0.00335547, 0.14757359, ..., 0.0655221 , 0.5710007 ,\n",
              "        0.1748785 ],\n",
              "       ...,\n",
              "       [0.05129687, 0.00306989, 0.25084469, ..., 0.13547987, 0.58387367,\n",
              "        0.3661789 ],\n",
              "       [0.05129687, 0.00349825, 0.25084469, ..., 0.05084135, 0.64433313,\n",
              "        0.35556972],\n",
              "       [0.05129687, 0.00321268, 0.25084469, ..., 0.03235033, 0.59996384,\n",
              "        0.4211598 ]])"
            ]
          },
          "metadata": {},
          "execution_count": 183
        }
      ]
    },
    {
      "cell_type": "markdown",
      "source": [
        "## **Implement PCA**\n",
        "\n"
      ],
      "metadata": {
        "id": "wXTSveJrFB9Z"
      }
    },
    {
      "cell_type": "markdown",
      "source": [
        "### Dataset 1"
      ],
      "metadata": {
        "id": "LZoBCsPRKU5Q"
      }
    },
    {
      "cell_type": "markdown",
      "source": [
        "We employed `scikit-learn` to conduct Principal Component Analysis (PCA) on our preprocessed dataset. Following this, we visualized the principal components to gain insights into the data's structure.\n"
      ],
      "metadata": {
        "id": "cC7DCMP4Jsif"
      }
    },
    {
      "cell_type": "markdown",
      "source": [
        "Because dataset 1 just have 2 features, that means we  explored the dataset using only two principal components for simplified visualization."
      ],
      "metadata": {
        "id": "-eC50m18OW6w"
      }
    },
    {
      "cell_type": "code",
      "source": [
        "from sklearn.decomposition import PCA\n",
        "from matplotlib import pyplot as plt\n",
        "\n",
        "# Initialize PCA with 2 components\n",
        "pca = PCA(n_components =2)\n",
        "\n",
        "X1_pca = pca.fit_transform(X1_scaled)\n",
        "\n",
        "# Explained variance ratio for each principal component\n",
        "print('Explained variance ratio for each principal component:\\n')\n",
        "print('PC1:', pca.explained_variance_ratio_[0])\n",
        "print('\\nPC2:', pca.explained_variance_ratio_[1])"
      ],
      "metadata": {
        "colab": {
          "base_uri": "https://localhost:8080/"
        },
        "id": "yftw6SY9FPbm",
        "outputId": "b633a54b-16dd-4cb4-edca-17322843e903"
      },
      "execution_count": 184,
      "outputs": [
        {
          "output_type": "stream",
          "name": "stdout",
          "text": [
            "Explained variance ratio for each principal component:\n",
            "\n",
            "PC1: 0.770936802886746\n",
            "\n",
            "PC2: 0.22906319711325407\n"
          ]
        }
      ]
    },
    {
      "cell_type": "code",
      "source": [
        "#Visualize the Principal components\n",
        "plt.scatter(X1_pca[:, 0], X1_pca[:, 1], c=y1)\n",
        "plt.xlabel('First principal component')\n",
        "plt.ylabel('Second principal component')\n",
        "plt.title('Exploration with 2 principal components')\n",
        "plt.show()"
      ],
      "metadata": {
        "colab": {
          "base_uri": "https://localhost:8080/",
          "height": 472
        },
        "id": "SqCVUL93T5ik",
        "outputId": "a46340c4-b663-4df0-82e0-ff44bbbefcd3"
      },
      "execution_count": 185,
      "outputs": [
        {
          "output_type": "display_data",
          "data": {
            "text/plain": [
              "<Figure size 640x480 with 1 Axes>"
            ],
            "image/png": "[encoded data removed]"
          },
          "metadata": {}
        }
      ]
    },
    {
      "cell_type": "markdown",
      "source": [
        "### Dataset 2"
      ],
      "metadata": {
        "id": "8Ax9w-6dKcgL"
      }
    },
    {
      "cell_type": "markdown",
      "source": [
        "Likewise, in dataset 2, we also explored the dataset using only two principal components for simplified visualization."
      ],
      "metadata": {
        "id": "axlTLjyucCKC"
      }
    },
    {
      "cell_type": "code",
      "source": [
        "from sklearn.decomposition import PCA\n",
        "from matplotlib import pyplot as plt\n",
        "\n",
        "# Initialize PCA with 2 components\n",
        "pca = PCA(n_components =2)\n",
        "\n",
        "X2_pca = pca.fit_transform(X2_scaled)\n",
        "\n",
        "# Explained variance ratio for each principal component\n",
        "print('Explained variance ratio for each principal component:\\n')\n",
        "print('PC1:', pca.explained_variance_ratio_[0])\n",
        "print('\\nPC2:', pca.explained_variance_ratio_[1])"
      ],
      "metadata": {
        "colab": {
          "base_uri": "https://localhost:8080/"
        },
        "id": "rN0-y-nQcNmY",
        "outputId": "8e8e2be7-4d4c-40aa-927c-1e926567d272"
      },
      "execution_count": 186,
      "outputs": [
        {
          "output_type": "stream",
          "name": "stdout",
          "text": [
            "Explained variance ratio for each principal component:\n",
            "\n",
            "PC1: 0.40932306055260714\n",
            "\n",
            "PC2: 0.19112210628633922\n"
          ]
        }
      ]
    },
    {
      "cell_type": "code",
      "source": [
        "#Visualize the Principal components\n",
        "plt.scatter(X2_pca[:, 0], X2_pca[:, 1], c=y2)\n",
        "plt.xlabel('First principal component')\n",
        "plt.ylabel('Second principal component')\n",
        "plt.title('Exploration with 2 principal components')\n",
        "plt.show()"
      ],
      "metadata": {
        "colab": {
          "base_uri": "https://localhost:8080/",
          "height": 0
        },
        "id": "_d0g2n0ZcN9F",
        "outputId": "5c202388-a644-468c-8aec-ab5ff85f780e"
      },
      "execution_count": 187,
      "outputs": [
        {
          "output_type": "display_data",
          "data": {
            "text/plain": [
              "<Figure size 640x480 with 1 Axes>"
            ],
            "image/png": "[encoded data removed]"
          },
          "metadata": {}
        }
      ]
    },
    {
      "cell_type": "markdown",
      "source": [
        "After that, we explored the dataset using three principal components."
      ],
      "metadata": {
        "id": "3cebdiHucjUB"
      }
    },
    {
      "cell_type": "code",
      "source": [
        "from sklearn.decomposition import PCA\n",
        "from matplotlib import pyplot as plt\n",
        "from mpl_toolkits.mplot3d import Axes3D\n",
        "\n",
        "# Initialize PCA with 3 components\n",
        "pca = PCA(n_components = 3)\n",
        "\n",
        "X2_pca = pca.fit_transform(X2_scaled)\n",
        "\n",
        "# Explained variance ratio for each principal component\n",
        "print('Explained variance ratio for each principal component:\\n')\n",
        "print('PC1:', pca.explained_variance_ratio_[0])\n",
        "print('\\nPC2:', pca.explained_variance_ratio_[1])\n",
        "print('\\nPC3:', pca.explained_variance_ratio_[2])"
      ],
      "metadata": {
        "colab": {
          "base_uri": "https://localhost:8080/"
        },
        "id": "G0cxUzcIcp2I",
        "outputId": "aea37e7b-7874-4fae-b0ca-618cb076a689"
      },
      "execution_count": 188,
      "outputs": [
        {
          "output_type": "stream",
          "name": "stdout",
          "text": [
            "Explained variance ratio for each principal component:\n",
            "\n",
            "PC1: 0.40932306055260415\n",
            "\n",
            "PC2: 0.19112210628490223\n",
            "\n",
            "PC3: 0.06062392938537736\n"
          ]
        }
      ]
    },
    {
      "cell_type": "code",
      "source": [
        "#Visualize the principal components\n",
        "fig = plt.figure(figsize=(8, 6))\n",
        "ax = fig.add_subplot(111, projection='3d')\n",
        "ax.scatter(X2_pca[:, 0], X2_pca[:, 1], X2_pca[:, 2], c=y2, cmap='viridis')\n",
        "ax.set_xlabel('Principal Component 1')\n",
        "ax.set_ylabel('Principal Component 2')\n",
        "ax.set_zlabel('Principal Component 3')\n",
        "ax.set_title('Exploration with Three Principal Components')\n",
        "plt.show()"
      ],
      "metadata": {
        "colab": {
          "base_uri": "https://localhost:8080/",
          "height": 0
        },
        "id": "tqkEbA31c0dh",
        "outputId": "5f5d4ed5-5de9-4ebc-ad39-76f4771aec7e"
      },
      "execution_count": 189,
      "outputs": [
        {
          "output_type": "display_data",
          "data": {
            "text/plain": [
              "<Figure size 800x600 with 1 Axes>"
            ],
            "image/png": "[encoded data removed]"
          },
          "metadata": {}
        }
      ]
    },
    {
      "cell_type": "markdown",
      "source": [
        "Finally, we also conducted experiments with varying numbers of principal components and visualized the cumulative sum of the explained variance ratio captured by each principal component."
      ],
      "metadata": {
        "id": "uf-s6wmLc8oy"
      }
    },
    {
      "cell_type": "code",
      "source": [
        "from sklearn.decomposition import PCA\n",
        "import numpy as np\n",
        "import matplotlib.pyplot as plt\n",
        "\n",
        "# Define a range of numbers of principal components to experiment with\n",
        "n_components_range = [1,2,5,10,15,20,30]\n",
        "\n",
        "# Initialize lists to store variance ratio\n",
        "variance_ratios = []\n",
        "\n",
        "# Iterate over different numbers of principal components\n",
        "for n_components in n_components_range:\n",
        "    pca = PCA(n_components=n_components)\n",
        "    pca.fit(X2_scaled)\n",
        "    variance_ratios.append(np.sum(pca.explained_variance_ratio_))\n",
        "\n",
        "# Plot the explained variance ratio as a function of the number of components\n",
        "plt.plot(n_components_range, variance_ratios, marker='o',label = 'Sum of explained varience ratio')\n",
        "plt.xlabel('Number of Principal Components')\n",
        "plt.ylabel('Variance Ratio')\n",
        "plt.title('Sum of explained Variance Ratio vs. Number of Principal Components')\n",
        "plt.grid(True)\n",
        "plt.legend()\n",
        "plt.show()\n"
      ],
      "metadata": {
        "colab": {
          "base_uri": "https://localhost:8080/",
          "height": 0
        },
        "id": "hqV6QWZXc8UI",
        "outputId": "ba9f449c-3ea8-4b3a-8862-f30f819ae198"
      },
      "execution_count": 190,
      "outputs": [
        {
          "output_type": "display_data",
          "data": {
            "text/plain": [
              "<Figure size 640x480 with 1 Axes>"
            ],
            "image/png": "[encoded data removed]"
          },
          "metadata": {}
        }
      ]
    },
    {
      "cell_type": "markdown",
      "source": [
        "## **Dimensionality Reduction and compare the performance of machine learning models**"
      ],
      "metadata": {
        "id": "BuRf3WfSvqMe"
      }
    },
    {
      "cell_type": "markdown",
      "source": [
        "### Dataset 1"
      ],
      "metadata": {
        "id": "qgkfbIU5H-rF"
      }
    },
    {
      "cell_type": "markdown",
      "source": [
        "To reduce the dimensionality of the dataset and determine an appropriate number of dimensions while retaining the majority of the information, we set a threshold of 0.95. This indicates our aim to retain 95% of the information in dataset 1. By applying PCA with this threshold, we can automatically find the number of principal components necessary."
      ],
      "metadata": {
        "id": "eXgXZK7wvzX4"
      }
    },
    {
      "cell_type": "code",
      "source": [
        "from sklearn.decomposition import PCA\n",
        "\n",
        "threshold = 0.95  # Set the threshold for explained variance ratio\n",
        "\n",
        "pca = PCA(threshold)\n",
        "X1_pca = pca.fit_transform(X1_scaled)\n",
        "\n",
        "n_components = pca.n_components_\n",
        "print('The number of principal components to retain ',threshold*100,'% of the variance in the dataset 1 is: ',n_components)"
      ],
      "metadata": {
        "colab": {
          "base_uri": "https://localhost:8080/"
        },
        "id": "M7rGfvGPwRw4",
        "outputId": "58910b1b-7142-41f4-bbc4-1e02902a1b71"
      },
      "execution_count": 191,
      "outputs": [
        {
          "output_type": "stream",
          "name": "stdout",
          "text": [
            "The number of principal components to retain  95.0 % of the variance in the dataset 1 is:  2\n"
          ]
        }
      ]
    },
    {
      "cell_type": "code",
      "source": [
        "X1_pca.shape"
      ],
      "metadata": {
        "colab": {
          "base_uri": "https://localhost:8080/"
        },
        "id": "muNd8th0xemB",
        "outputId": "ce0b241e-3843-4723-888f-964a988c9c78"
      },
      "execution_count": 192,
      "outputs": [
        {
          "output_type": "execute_result",
          "data": {
            "text/plain": [
              "(3220, 2)"
            ]
          },
          "metadata": {},
          "execution_count": 192
        }
      ]
    },
    {
      "cell_type": "code",
      "source": [
        "X1.shape"
      ],
      "metadata": {
        "colab": {
          "base_uri": "https://localhost:8080/"
        },
        "id": "owVGs0GbxhFz",
        "outputId": "973da959-a4e8-45d9-b894-dd0b25c3e754"
      },
      "execution_count": 193,
      "outputs": [
        {
          "output_type": "execute_result",
          "data": {
            "text/plain": [
              "(3220, 2)"
            ]
          },
          "metadata": {},
          "execution_count": 193
        }
      ]
    },
    {
      "cell_type": "markdown",
      "source": [
        "After that, we compared the performance of machine learning models on both the original and reduced-dimensional datasets."
      ],
      "metadata": {
        "id": "1U_TFIXq0VSk"
      }
    },
    {
      "cell_type": "markdown",
      "source": [
        "First, we built `LinearRegression` model utilizing  original dataset 1."
      ],
      "metadata": {
        "id": "EE_J8iVr0tkB"
      }
    },
    {
      "cell_type": "code",
      "source": [
        "#Splitting the dataset to the ratio 80:20\n",
        "from sklearn.model_selection import train_test_split\n",
        "X1_train,X1_test,y1_train,y1_test = train_test_split(X1,y1,test_size = 0.2,random_state = 30)"
      ],
      "metadata": {
        "id": "cKC7okQA1YFy"
      },
      "execution_count": 194,
      "outputs": []
    },
    {
      "cell_type": "code",
      "source": [
        "from sklearn.linear_model import LinearRegression\n",
        "from sklearn.metrics import r2_score, mean_squared_error\n",
        "import numpy as np\n",
        "\n",
        "# Fit the Linear Regression model to the training data\n",
        "model = LinearRegression()\n",
        "reg_model = model.fit(X1_train, y1_train)\n",
        "\n",
        "y1_pred_test = reg_model.predict(X1_test)\n",
        "\n",
        "#Evaluation metrics\n",
        "mse = mean_squared_error(y1_test,y1_pred_test)\n",
        "print(\"MSE (Mean squared error): \",mse)\n",
        "\n",
        "rmse = np.sqrt(mse)\n",
        "print(\"RMSE (Root mean squared error): \",rmse)\n",
        "\n",
        "r2 = r2_score(y1_test,y1_pred_test)\n",
        "print(\"R2: \",r2)\n",
        "\n",
        "# Evaluate the accuracy of the model on the test data\n",
        "accuracy = model.score(X1_test, y1_test)\n",
        "print('The accuracy of the model on the original test dataset 1 is: ',accuracy)"
      ],
      "metadata": {
        "colab": {
          "base_uri": "https://localhost:8080/"
        },
        "id": "uc9oz3jz1y1A",
        "outputId": "6976bec3-8c2f-4be0-f7bf-d958e9580e3e"
      },
      "execution_count": 195,
      "outputs": [
        {
          "output_type": "stream",
          "name": "stdout",
          "text": [
            "MSE (Mean squared error):  0.071376216468528\n",
            "RMSE (Root mean squared error):  0.26716327679628427\n",
            "R2:  0.0092411080805197\n",
            "The accuracy of the model on the original test dataset 1 is:  0.0092411080805197\n"
          ]
        }
      ]
    },
    {
      "cell_type": "markdown",
      "source": [
        "Then, we built `LinearRegression` model utilizing reduced-dimensional datasets."
      ],
      "metadata": {
        "id": "tn74_I0s4AW8"
      }
    },
    {
      "cell_type": "code",
      "source": [
        "#Splitting the dataset to the ratio 80:20\n",
        "from sklearn.model_selection import train_test_split\n",
        "X1_train_pca,X1_test_pca,y1_train,y1_test = train_test_split(X1_pca, y1, test_size = 0.2, random_state = 30)"
      ],
      "metadata": {
        "id": "flmlsgfZ38eu"
      },
      "execution_count": 196,
      "outputs": []
    },
    {
      "cell_type": "code",
      "source": [
        "from sklearn.linear_model import LinearRegression\n",
        "from sklearn.metrics import r2_score, mean_squared_error\n",
        "import numpy as np\n",
        "\n",
        "# Fit the Linear Regression model to the training data\n",
        "model = LinearRegression()\n",
        "reg_model = model.fit(X1_train_pca, y1_train)\n",
        "\n",
        "y1_pred_test = reg_model.predict(X1_test_pca)\n",
        "\n",
        "#Evaluation metrics\n",
        "mse = mean_squared_error(y1_test,y1_pred_test)\n",
        "print(\"MSE (Mean squared error): \",mse)\n",
        "\n",
        "rmse = np.sqrt(mse)\n",
        "print(\"RMSE (Root mean squared error): \",rmse)\n",
        "\n",
        "r2 = r2_score(y1_test,y1_pred_test)\n",
        "print(\"R2: \",r2)\n",
        "\n",
        "\n",
        "# Evaluate the accuracy of the model on the test data\n",
        "accuracy = model.score(X1_test_pca, y1_test)\n",
        "print('The accuracy of the model on the reduced-dimensional test dataset 1 is: ',accuracy)"
      ],
      "metadata": {
        "colab": {
          "base_uri": "https://localhost:8080/"
        },
        "id": "r4efY_284vgj",
        "outputId": "88ede0e0-0891-43d5-819f-4fb19ec6e943"
      },
      "execution_count": 197,
      "outputs": [
        {
          "output_type": "stream",
          "name": "stdout",
          "text": [
            "MSE (Mean squared error):  0.07137621646852801\n",
            "RMSE (Root mean squared error):  0.26716327679628427\n",
            "R2:  0.009241108080519589\n",
            "The accuracy of the model on the reduced-dimensional test dataset 1 is:  0.009241108080519589\n"
          ]
        }
      ]
    },
    {
      "cell_type": "markdown",
      "source": [
        "An accuracy score of `0.009` for a regression model, whether applied to the original dataset or the PCA-transformed dataset, suggests that the model's predictions deviate substantially from the true values. This indicates poor predictive performance, where the model's output is significantly different from the actual target values."
      ],
      "metadata": {
        "id": "DzelQ-73Gfsz"
      }
    },
    {
      "cell_type": "markdown",
      "source": [
        "### Dataset 2"
      ],
      "metadata": {
        "id": "NaHqOROr-YM2"
      }
    },
    {
      "cell_type": "markdown",
      "source": [
        "Likewise, in dataset 2, we set a threshold of 0.95. This indicates our aim to retain 95% of the information in dataset 2. By applying PCA with this threshold, we can automatically find the number of principal components necessary."
      ],
      "metadata": {
        "id": "M6amfukH-fe9"
      }
    },
    {
      "cell_type": "code",
      "source": [
        "from sklearn.decomposition import PCA\n",
        "\n",
        "threshold = 0.95  # Set the threshold for explained variance ratio\n",
        "\n",
        "pca = PCA(threshold)\n",
        "X2_pca = pca.fit_transform(X2_scaled)\n",
        "\n",
        "n_components = pca.n_components_\n",
        "print('The number of principal components to retain ',threshold*100,'% of the variance in the dataset 1 is: ',n_components)"
      ],
      "metadata": {
        "colab": {
          "base_uri": "https://localhost:8080/"
        },
        "outputId": "50af102c-c9a0-4eed-a06e-d0a6e33c60a5",
        "id": "CO-eGQtf-ffL"
      },
      "execution_count": 198,
      "outputs": [
        {
          "output_type": "stream",
          "name": "stdout",
          "text": [
            "The number of principal components to retain  95.0 % of the variance in the dataset 1 is:  17\n"
          ]
        }
      ]
    },
    {
      "cell_type": "code",
      "source": [
        "X2_pca.shape"
      ],
      "metadata": {
        "colab": {
          "base_uri": "https://localhost:8080/"
        },
        "outputId": "6926f8e5-a25e-40df-9002-57346760814a",
        "id": "o9Q1IfPT-ffL"
      },
      "execution_count": 199,
      "outputs": [
        {
          "output_type": "execute_result",
          "data": {
            "text/plain": [
              "(3047, 17)"
            ]
          },
          "metadata": {},
          "execution_count": 199
        }
      ]
    },
    {
      "cell_type": "code",
      "source": [
        "X2.shape"
      ],
      "metadata": {
        "colab": {
          "base_uri": "https://localhost:8080/"
        },
        "outputId": "329430c2-6ab4-4413-eee6-d14ceb8eae1e",
        "id": "7pAtLLQg-ffL"
      },
      "execution_count": 200,
      "outputs": [
        {
          "output_type": "execute_result",
          "data": {
            "text/plain": [
              "(3047, 30)"
            ]
          },
          "metadata": {},
          "execution_count": 200
        }
      ]
    },
    {
      "cell_type": "markdown",
      "source": [
        "So that means we chose 17 out of 30 principal components to retain 95% of the information of dataset 2."
      ],
      "metadata": {
        "id": "C_H4crSlIGjD"
      }
    },
    {
      "cell_type": "markdown",
      "source": [
        "After that, we also compared the performance of machine learning models on both the original and reduced-dimensional datasets."
      ],
      "metadata": {
        "id": "u5qIXMa6-ffM"
      }
    },
    {
      "cell_type": "markdown",
      "source": [
        "First, we built `LinearRegression` model utilizing  original dataset 2."
      ],
      "metadata": {
        "id": "bZVJuaas-ffM"
      }
    },
    {
      "cell_type": "code",
      "source": [
        "#Splitting the dataset to the ratio 80:20\n",
        "from sklearn.model_selection import train_test_split\n",
        "X2_train,X2_test,y2_train,y2_test = train_test_split(X2,y2,test_size = 0.2,random_state = 30)"
      ],
      "metadata": {
        "id": "yKaBwvk_-ffM"
      },
      "execution_count": 201,
      "outputs": []
    },
    {
      "cell_type": "code",
      "source": [
        "from sklearn.linear_model import LinearRegression\n",
        "from sklearn.metrics import r2_score, mean_squared_error\n",
        "\n",
        "# Fit the Linear Regression model to the training data\n",
        "model = LinearRegression()\n",
        "reg_model = model.fit(X2_train, y2_train)\n",
        "\n",
        "#Evaluation metrics\n",
        "y2_pred_test = reg_model.predict(X2_test)\n",
        "\n",
        "mse = mean_squared_error(y2_test,y2_pred_test)\n",
        "print(\"MSE (Mean squared error): \",mse)\n",
        "\n",
        "rmse = np.sqrt(mse)\n",
        "print(\"RMSE (Root mean squared error): \",rmse)\n",
        "\n",
        "r2 = r2_score(y2_test,y2_pred_test)\n",
        "print(\"R2: \",r2)\n",
        "\n",
        "\n",
        "# Evaluate the accuracy of the model on the test data\n",
        "accuracy = model.score(X2_test, y2_test)\n",
        "print('The accuracy of the model on the original test dataset 2 is: ',accuracy)"
      ],
      "metadata": {
        "colab": {
          "base_uri": "https://localhost:8080/"
        },
        "outputId": "af9d0b68-1c1d-4773-9316-0ea706361a12",
        "id": "x_dGdL3v-ffM"
      },
      "execution_count": 202,
      "outputs": [
        {
          "output_type": "stream",
          "name": "stdout",
          "text": [
            "MSE (Mean squared error):  360.1142452210747\n",
            "RMSE (Root mean squared error):  18.976676348114143\n",
            "R2:  0.5299442909443268\n",
            "The accuracy of the model on the original test dataset 2 is:  0.5299442909443268\n"
          ]
        }
      ]
    },
    {
      "cell_type": "markdown",
      "source": [
        "Then, we built `LinearRegression` model utilizing reduced-dimensional dataset 2."
      ],
      "metadata": {
        "id": "M_W65A1G-ffM"
      }
    },
    {
      "cell_type": "code",
      "source": [
        "#Splitting the dataset to the ratio 80:20\n",
        "from sklearn.model_selection import train_test_split\n",
        "X2_train_pca,X2_test_pca,y2_train,y2_test = train_test_split(X2_pca, y2, test_size = 0.2, random_state = 30)"
      ],
      "metadata": {
        "id": "aURAg73D-ffM"
      },
      "execution_count": 203,
      "outputs": []
    },
    {
      "cell_type": "code",
      "source": [
        "from sklearn.linear_model import LinearRegression\n",
        "from sklearn.metrics import r2_score\n",
        "\n",
        "# Fit the Linear Regression model to the training data\n",
        "model = LinearRegression()\n",
        "reg_model = model.fit(X2_train_pca, y2_train)\n",
        "\n",
        "#Evaluation metrics\n",
        "y2_pred_test = reg_model.predict(X2_test_pca)\n",
        "\n",
        "mse = mean_squared_error(y2_test,y2_pred_test)\n",
        "print(\"MSE (Mean squared error): \",mse)\n",
        "\n",
        "rmse = np.sqrt(mse)\n",
        "print(\"RMSE (Root mean squared error): \",rmse)\n",
        "\n",
        "r2 = r2_score(y2_test,y2_pred_test)\n",
        "print(\"R2: \",r2)\n",
        "\n",
        "# Evaluate the accuracy of the model on the test data\n",
        "accuracy = model.score(X2_test_pca, y2_test)\n",
        "print('The accuracy of the model on the reduced-dimensional test dataset 2 is: ',accuracy)"
      ],
      "metadata": {
        "colab": {
          "base_uri": "https://localhost:8080/"
        },
        "outputId": "2c68972e-cc4d-456f-af1d-bd582c5927e5",
        "id": "EY9cKUsQ-ffM"
      },
      "execution_count": 204,
      "outputs": [
        {
          "output_type": "stream",
          "name": "stdout",
          "text": [
            "MSE (Mean squared error):  456.9566044182568\n",
            "RMSE (Root mean squared error):  21.37654332248918\n",
            "R2:  0.40353634006998695\n",
            "The accuracy of the model on the reduced-dimensional test dataset 2 is:  0.40353634006998695\n"
          ]
        }
      ]
    },
    {
      "cell_type": "markdown",
      "source": [
        "## **Interpretation and Analysis**"
      ],
      "metadata": {
        "id": "IFUSEnjCP4q8"
      }
    },
    {
      "cell_type": "markdown",
      "source": [
        "### Analyze the results obtained from the PCA transformation and dimensionality reduction"
      ],
      "metadata": {
        "id": "EB5ZWVLGP-xn"
      }
    },
    {
      "cell_type": "markdown",
      "source": [
        "To analyze the results obtained from the PCA transformation and dimensionality reduction (utilizing dataset 2 for better analysis), we followed a systematic approach:"
      ],
      "metadata": {
        "id": "WYxIVThjzrqt"
      }
    },
    {
      "cell_type": "markdown",
      "source": [
        "Initially, we initialized PCA with 10 components"
      ],
      "metadata": {
        "id": "J7tpNaXd21nd"
      }
    },
    {
      "cell_type": "code",
      "source": [
        "from sklearn.decomposition import PCA\n",
        "import numpy as np\n",
        "import matplotlib.pyplot as plt\n",
        "\n",
        "# We use dataset 2 for better visualization\n",
        "\n",
        "# Initialize PCA with the number of components\n",
        "pca = PCA(n_components = 10)  # We utilized 10 components\n",
        "\n",
        "X2_pca = pca.fit_transform(X2_scaled)"
      ],
      "metadata": {
        "id": "aRBFZl4-P_cx"
      },
      "execution_count": 205,
      "outputs": []
    },
    {
      "cell_type": "markdown",
      "source": [
        "**1. Variance Explained:** <br>\n",
        "This analysis included calculating the explained variance ratio for each principal component and computing the cumulative explained variance ratio. <br>\n",
        "Subsequently, we generated a plot illustrating  cumulative explained variance ratios across different numbers of principal components, providing insights into the optimal number of components to retain."
      ],
      "metadata": {
        "id": "_naqEk7V1fXg"
      }
    },
    {
      "cell_type": "code",
      "source": [
        "# Variance explained\n",
        "print('Variance explained:\\n')\n",
        "explained_variance_ratio = pca.explained_variance_ratio_\n",
        "cumulative_variance_ratio = np.cumsum(explained_variance_ratio)\n",
        "print(\"Explained Variance Ratio:\", explained_variance_ratio)\n",
        "print(\"Cumulative Explained Variance Ratio:\", cumulative_variance_ratio)\n",
        "\n",
        "# Plot cumulative explained variance ratio\n",
        "plt.plot(range(1, len(cumulative_variance_ratio) + 1), cumulative_variance_ratio, marker='o')\n",
        "plt.xlabel('Number of Principal Components')\n",
        "plt.ylabel('Cumulative Explained Variance Ratio')\n",
        "plt.title('Cumulative Explained Variance Ratio vs. Number of Principal Components')\n",
        "plt.grid(True)\n",
        "plt.show()"
      ],
      "metadata": {
        "colab": {
          "base_uri": "https://localhost:8080/",
          "height": 576
        },
        "id": "moFMaPJrtS73",
        "outputId": "6be448fa-014b-4653-99cc-6deaecfba61e"
      },
      "execution_count": 206,
      "outputs": [
        {
          "output_type": "stream",
          "name": "stdout",
          "text": [
            "Variance explained:\n",
            "\n",
            "Explained Variance Ratio: [0.40932306 0.19112211 0.06062396 0.05774556 0.0484105  0.03220864\n",
            " 0.02344198 0.02148969 0.01771967 0.01670734]\n",
            "Cumulative Explained Variance Ratio: [0.40932306 0.60044517 0.66106913 0.71881468 0.76722518 0.79943383\n",
            " 0.8228758  0.84436549 0.86208516 0.87879251]\n"
          ]
        },
        {
          "output_type": "display_data",
          "data": {
            "text/plain": [
              "<Figure size 640x480 with 1 Axes>"
            ],
            "image/png": "[encoded data removed]"
          },
          "metadata": {}
        }
      ]
    },
    {
      "cell_type": "markdown",
      "source": [
        "In addition, we generated a bar plot illustrating the principal component index along the x-axis and the percentage of variance explained by each component along the y-axis."
      ],
      "metadata": {
        "id": "MerpYxiu-tEw"
      }
    },
    {
      "cell_type": "code",
      "source": [
        "import matplotlib.pyplot as plt\n",
        "\n",
        "# Principal component index\n",
        "component_index = range(1, pca.n_components_ + 1)\n",
        "\n",
        "# Percentage of variance explained\n",
        "variance_explained = pca.explained_variance_ratio_ * 100\n",
        "\n",
        "# Plotting the bar plot\n",
        "plt.figure(figsize=(10, 6))\n",
        "bars = plt.bar(component_index, variance_explained, color='orange')\n",
        "plt.xlabel('Principal Component Index')\n",
        "plt.ylabel('Percentage of Variance Explained (%)')\n",
        "plt.title('Percentage of Variance Explained by Principal Components')\n",
        "plt.legend([bars], ['Percentage of Variance Explained'])\n",
        "\n",
        "# Annotating each bar with the corresponding percentage value\n",
        "for i, bar in enumerate(bars):\n",
        "    plt.text(bar.get_x() + bar.get_width() / 2 - 0.1, bar.get_height() + 0.005,\n",
        "             f'{variance_explained[i]:.2f}%', ha='center', va='bottom')\n",
        "\n",
        "# Setting the tick labels for the x-axis\n",
        "plt.xticks(component_index)\n",
        "\n",
        "plt.show()\n",
        "\n"
      ],
      "metadata": {
        "colab": {
          "base_uri": "https://localhost:8080/",
          "height": 564
        },
        "id": "IyOB8Mra_aEi",
        "outputId": "d0337260-3c41-4fce-f17d-84712c800ce0"
      },
      "execution_count": 207,
      "outputs": [
        {
          "output_type": "display_data",
          "data": {
            "text/plain": [
              "<Figure size 1000x600 with 1 Axes>"
            ],
            "image/png": "[encoded data removed]"
          },
          "metadata": {}
        }
      ]
    },
    {
      "cell_type": "markdown",
      "source": [
        "**2. Comparing Model Accuracy with Various Principal Components**\n",
        "\n",
        "\n"
      ],
      "metadata": {
        "id": "hGnczWQvGJFb"
      }
    },
    {
      "cell_type": "code",
      "source": [
        "from sklearn.decomposition import PCA\n",
        "import numpy as np\n",
        "from sklearn.model_selection import train_test_split\n",
        "from sklearn.linear_model import LinearRegression\n",
        "\n",
        "# Lists to store number of components and corresponding PCA accuracies and accuracy with original dataset\n",
        "n_components_list = []\n",
        "pca_accuracy_list = []\n",
        "original_accuracy_list = []\n",
        "\n",
        "# Range of number of principal components to explore\n",
        "n_components_range  = np.arange(1, 31)\n",
        "\n",
        "print('The accuracy of Linear Regression model using PCA dataset 2 with:\\n')\n",
        "\n",
        "for n_components in n_components_range:\n",
        "    # Transform the dataset using the fitted PCA\n",
        "    pca = PCA(n_components= n_components)\n",
        "    pca.fit(X2_scaled)\n",
        "    X2_pca = pca.fit_transform(X2_scaled)\n",
        "\n",
        "    # Split the transformed dataset into training and testing sets\n",
        "    X2_pca_train, X2_pca_test, y2_train, y2_test = train_test_split(X2_pca,y2,test_size = 0.2,random_state = 42)\n",
        "    model = LinearRegression()\n",
        "\n",
        "     # Train the Linear Regression model on the transformed training data\n",
        "    reg_model = model.fit(X2_pca_train,y2_train)\n",
        "    accuracy = model.score(X2_pca_test,y2_test)\n",
        "\n",
        "    # Print the accuracy for the current number of components\n",
        "    print('*',n_components,' components: Accuracy: ',accuracy)\n",
        "\n",
        "    # Append number of components and accuracy to lists\n",
        "    n_components_list.append(n_components)\n",
        "    pca_accuracy_list.append(accuracy)\n",
        "\n",
        "    # Train and evaluate Linear Regression model using original dataset 2\n",
        "    X2_train, X2_test, y2_train, y2_test = train_test_split(X2_scaled, y2, test_size=0.2, random_state=42)\n",
        "    model = LinearRegression()\n",
        "    reg_model = model.fit(X2_train, y2_train)\n",
        "    original_accuracy = model.score(X2_test, y2_test)\n",
        "\n",
        "    # Append original dataset accuracy to list\n",
        "    original_accuracy_list.append(original_accuracy)"
      ],
      "metadata": {
        "colab": {
          "base_uri": "https://localhost:8080/"
        },
        "id": "XuzTRAlNGVjO",
        "outputId": "803ca985-0abb-44ff-aed1-43ae9d0c7e0c"
      },
      "execution_count": 208,
      "outputs": [
        {
          "output_type": "stream",
          "name": "stdout",
          "text": [
            "The accuracy of Linear Regression model using PCA dataset 2 with:\n",
            "\n",
            "* 1  components: Accuracy:  0.2536357410762211\n",
            "* 2  components: Accuracy:  0.254204189737155\n",
            "* 3  components: Accuracy:  0.3077824829132303\n",
            "* 4  components: Accuracy:  0.33833589880371284\n",
            "* 5  components: Accuracy:  0.37872227571902173\n",
            "* 6  components: Accuracy:  0.3815618420183441\n",
            "* 7  components: Accuracy:  0.38583884818072844\n",
            "* 8  components: Accuracy:  0.38137039790785976\n",
            "* 9  components: Accuracy:  0.38265848858747875\n",
            "* 10  components: Accuracy:  0.38255808680811987\n",
            "* 11  components: Accuracy:  0.40366049034014784\n",
            "* 12  components: Accuracy:  0.4117321536217341\n",
            "* 13  components: Accuracy:  0.4094883688694785\n",
            "* 14  components: Accuracy:  0.41127123242004104\n",
            "* 15  components: Accuracy:  0.4117450005345359\n",
            "* 16  components: Accuracy:  0.4117306480011289\n",
            "* 17  components: Accuracy:  0.4109690008387634\n",
            "* 18  components: Accuracy:  0.4160239399477593\n",
            "* 19  components: Accuracy:  0.41782795691572894\n",
            "* 20  components: Accuracy:  0.42482557346045036\n",
            "* 21  components: Accuracy:  0.4602001963906741\n",
            "* 22  components: Accuracy:  0.4668107801918182\n",
            "* 23  components: Accuracy:  0.4803578557155892\n",
            "* 24  components: Accuracy:  0.4805954758193921\n",
            "* 25  components: Accuracy:  0.4836658706019319\n",
            "* 26  components: Accuracy:  0.4881483644072807\n",
            "* 27  components: Accuracy:  0.4926440470799007\n",
            "* 28  components: Accuracy:  0.492370579706074\n",
            "* 29  components: Accuracy:  0.49522453006140343\n",
            "* 30  components: Accuracy:  0.4948805106091919\n"
          ]
        }
      ]
    },
    {
      "cell_type": "markdown",
      "source": [
        "Then we ploted the number of principal components against the accuracy, adding a line representing the accuracy of the Linear Regression model using the original dataset 2 to the plot,"
      ],
      "metadata": {
        "id": "293rzdJ8LAxE"
      }
    },
    {
      "cell_type": "code",
      "source": [
        "# Plotting\n",
        "plt.plot(n_components_list, pca_accuracy_list, marker='o', label='PCA Accuracy')\n",
        "plt.plot(n_components_list, original_accuracy_list, label='Original Dataset Accuracy')\n",
        "plt.xlabel('Number of Principal Components')\n",
        "plt.ylabel('Accuracy')\n",
        "plt.title('Accuracy vs. Number of Principal Components')\n",
        "plt.grid(True)\n",
        "plt.legend()\n",
        "plt.show()"
      ],
      "metadata": {
        "colab": {
          "base_uri": "https://localhost:8080/",
          "height": 472
        },
        "id": "8OqwzzUwJQ9Z",
        "outputId": "73bb70a2-dde4-4b55-93a8-fb33206577d5"
      },
      "execution_count": 209,
      "outputs": [
        {
          "output_type": "display_data",
          "data": {
            "text/plain": [
              "<Figure size 640x480 with 1 Axes>"
            ],
            "image/png": "[encoded data removed]"
          },
          "metadata": {}
        }
      ]
    },
    {
      "cell_type": "markdown",
      "source": [
        "### Interpret the principal components and their corresponding eigenvectors"
      ],
      "metadata": {
        "id": "qywgJUj2OJEh"
      }
    },
    {
      "cell_type": "markdown",
      "source": [
        "**Interpretation:**\n",
        "*   `Principal components (PCs)` capture the most significant sources of variability in the data. Each principal component represents a different direction in the feature space, with the first principal component explaining the most variance.\n",
        "*   `Eigenvectors` are associated with principal components. By examining the eigenvectors, we can understand the relationships between the original features and the principal components. Larger absolute values in an eigenvector indicate stronger relationships or contributions of the corresponding features to the principal component.\n",
        "*   By identifying the features with the highest absolute values in the eigenvectors, we can understand which features are most influential in defining each principal component.\n",
        "\n",
        "\n",
        "\n",
        "\n"
      ],
      "metadata": {
        "id": "xuvlsfO_OOXJ"
      }
    },
    {
      "cell_type": "markdown",
      "source": [
        "For an in-depth analysis, we utilized PCA to extract the first 5 principal components, representing the majority of the data's variance. Subsequently, we examined the eigenvalues and eigenvectors associated with these components to elucidate their respective contributions and underlying structures."
      ],
      "metadata": {
        "id": "3Y0l1-tTTWfU"
      }
    },
    {
      "cell_type": "code",
      "source": [
        "from sklearn.decomposition import PCA\n",
        "import numpy as np\n",
        "\n",
        "# Initialize PCA with the desired number of components\n",
        "pca = PCA(n_components= 5)  # we utilized 5 components\n",
        "\n",
        "# Fit PCA to the dataset\n",
        "pca.fit(X2_scaled)\n",
        "\n",
        "# Get eigenvalues and eigenvectors\n",
        "eigenvalues = pca.explained_variance_\n",
        "eigenvectors = pca.components_\n",
        "\n",
        "# Display eigenvalues and eigenvectors for each principal component\n",
        "for i in range(len(eigenvalues)):\n",
        "    print(f\"Principal Component {i+1}:\")\n",
        "    print(f\"Eigenvalue: {eigenvalues[i]}\")\n",
        "    print(\"Eigenvector:\")\n",
        "    for j in range(len(eigenvectors[i])):\n",
        "        print(f\"Feature {j+1}: {eigenvectors[i][j]}\")\n",
        "    print(\"\\n\")"
      ],
      "metadata": {
        "colab": {
          "base_uri": "https://localhost:8080/"
        },
        "id": "6F5vVLOwRK4v",
        "outputId": "68d935e3-2624-4ff5-9239-d25214bdf0d6"
      },
      "execution_count": 210,
      "outputs": [
        {
          "output_type": "stream",
          "name": "stdout",
          "text": [
            "Principal Component 1:\n",
            "Eigenvalue: 0.17322374836356377\n",
            "Eigenvector:\n",
            "Feature 1: -0.014704997653779599\n",
            "Feature 2: -0.007925333974785611\n",
            "Feature 3: -0.00013918825899042\n",
            "Feature 4: -0.231064643276373\n",
            "Feature 5: -0.008026837127474281\n",
            "Feature 6: 0.3116916796793487\n",
            "Feature 7: -0.010305715668215955\n",
            "Feature 8: 0.0016687824008656898\n",
            "Feature 9: 0.00013164511522243048\n",
            "Feature 10: 0.02126298379327528\n",
            "Feature 11: -0.1906763124352599\n",
            "Feature 12: 0.1286706640659743\n",
            "Feature 13: 0.07814349038470197\n",
            "Feature 14: -0.034886955584695595\n",
            "Feature 15: -0.10618987398613645\n",
            "Feature 16: 0.12126022478708186\n",
            "Feature 17: -0.22103903742592734\n",
            "Feature 18: -0.25232156461280064\n",
            "Feature 19: 0.20496638921109786\n",
            "Feature 20: -0.33479813066571934\n",
            "Feature 21: -0.29009208746119997\n",
            "Feature 22: -0.33171611907110643\n",
            "Feature 23: 0.28908227720011537\n",
            "Feature 24: 0.30012365675821495\n",
            "Feature 25: -0.23041523965423694\n",
            "Feature 26: 0.21544014236842174\n",
            "Feature 27: -0.034800079770113845\n",
            "Feature 28: 0.010654337355680646\n",
            "Feature 29: -0.1644596787095429\n",
            "Feature 30: 0.0009885926421590089\n",
            "\n",
            "\n",
            "Principal Component 2:\n",
            "Eigenvalue: 0.08088204852503617\n",
            "Eigenvector:\n",
            "Feature 1: 0.03985416392480831\n",
            "Feature 2: 0.04242651516863088\n",
            "Feature 3: 0.012486224359186482\n",
            "Feature 4: 0.09912642467869867\n",
            "Feature 5: 0.03895253890790755\n",
            "Feature 6: 0.08944350754351586\n",
            "Feature 7: 0.013097790446876537\n",
            "Feature 8: -0.023202244981959472\n",
            "Feature 9: -0.3074836199040476\n",
            "Feature 10: -0.2918662127147638\n",
            "Feature 11: -0.3208415379396103\n",
            "Feature 12: -0.09094727450077573\n",
            "Feature 13: -0.1808394717784216\n",
            "Feature 14: 0.05249649100130099\n",
            "Feature 15: 0.09250185291329958\n",
            "Feature 16: -0.3068494831749096\n",
            "Feature 17: 0.21198006531241198\n",
            "Feature 18: 0.08334069297941665\n",
            "Feature 19: 0.09359304755828209\n",
            "Feature 20: 0.016260148471739587\n",
            "Feature 21: 0.10760002713122206\n",
            "Feature 22: 0.14437143023676055\n",
            "Feature 23: -0.1994918549565451\n",
            "Feature 24: -0.03943496305826295\n",
            "Feature 25: -0.46988037671823857\n",
            "Feature 26: 0.36068546520449973\n",
            "Feature 27: 0.09773882342149806\n",
            "Feature 28: 0.06921810128271046\n",
            "Feature 29: -0.21686251808675014\n",
            "Feature 30: -0.01882493939904276\n",
            "\n",
            "\n",
            "Principal Component 3:\n",
            "Eigenvalue: 0.025655796991563812\n",
            "Eigenvector:\n",
            "Feature 1: 0.01597583753963327\n",
            "Feature 2: 0.014321430519775368\n",
            "Feature 3: -0.09621295736035412\n",
            "Feature 4: -0.021589904419603248\n",
            "Feature 5: 0.020200360504054084\n",
            "Feature 6: 0.10219314857960031\n",
            "Feature 7: 0.0011619957670740521\n",
            "Feature 8: -0.03608145409208511\n",
            "Feature 9: -0.28262313180476806\n",
            "Feature 10: -0.31801325124492386\n",
            "Feature 11: 0.0616155220831016\n",
            "Feature 12: 0.11679928653509467\n",
            "Feature 13: -0.19912868326397268\n",
            "Feature 14: 0.046629529047023076\n",
            "Feature 15: -0.026376725330260958\n",
            "Feature 16: -0.4107651310564214\n",
            "Feature 17: 0.11056268239747324\n",
            "Feature 18: 0.04736134158373807\n",
            "Feature 19: -0.004653663734398578\n",
            "Feature 20: -0.266152060657586\n",
            "Feature 21: -0.17629804700318735\n",
            "Feature 22: -0.2279723046733997\n",
            "Feature 23: -0.03377924874755127\n",
            "Feature 24: 0.12842111525151131\n",
            "Feature 25: 0.2245235024806319\n",
            "Feature 26: -0.5066117180741538\n",
            "Feature 27: 0.03912317509553311\n",
            "Feature 28: 0.22261387384897807\n",
            "Feature 29: 0.09797801604628731\n",
            "Feature 30: 0.11916441396544684\n",
            "\n",
            "\n",
            "Principal Component 4:\n",
            "Eigenvalue: 0.024437666079226088\n",
            "Eigenvector:\n",
            "Feature 1: 0.046745431432686904\n",
            "Feature 2: 0.04370286959349436\n",
            "Feature 3: -0.024202271451485204\n",
            "Feature 4: 0.06035543062162044\n",
            "Feature 5: 0.033876698977494284\n",
            "Feature 6: -0.07146993457163865\n",
            "Feature 7: 0.015836496521580243\n",
            "Feature 8: 0.04496076921154559\n",
            "Feature 9: 0.4312127229103878\n",
            "Feature 10: 0.4241359048723441\n",
            "Feature 11: 0.006863313200395037\n",
            "Feature 12: -0.07221018502993012\n",
            "Feature 13: -0.23106212924862568\n",
            "Feature 14: 0.044140268115205446\n",
            "Feature 15: 0.1916029642140754\n",
            "Feature 16: -0.4481778442494103\n",
            "Feature 17: 0.38734494455722135\n",
            "Feature 18: -0.06282604638635662\n",
            "Feature 19: 0.009715417534428727\n",
            "Feature 20: 0.04303665846533753\n",
            "Feature 21: -0.1165083455453857\n",
            "Feature 22: -0.23618581459686455\n",
            "Feature 23: 0.22677836078701108\n",
            "Feature 24: 0.01392362573487997\n",
            "Feature 25: -0.028110181830611362\n",
            "Feature 26: 0.03335886144539681\n",
            "Feature 27: 0.0691306004364216\n",
            "Feature 28: -0.019044148888816653\n",
            "Feature 29: -0.13862386633387008\n",
            "Feature 30: -0.12636070647674508\n",
            "\n",
            "\n",
            "Principal Component 5:\n",
            "Eigenvalue: 0.020487107639674273\n",
            "Eigenvector:\n",
            "Feature 1: 0.0013234992101306985\n",
            "Feature 2: 0.006684940346661471\n",
            "Feature 3: 0.10685554616131746\n",
            "Feature 4: -0.20053159976240667\n",
            "Feature 5: -0.001390198638804344\n",
            "Feature 6: 0.1789541293482997\n",
            "Feature 7: 0.03834237207207177\n",
            "Feature 8: -0.012628130653953006\n",
            "Feature 9: -0.07061186395619704\n",
            "Feature 10: -0.06858524833738779\n",
            "Feature 11: -0.31747673328694287\n",
            "Feature 12: -0.508036948187206\n",
            "Feature 13: -0.2045050121371109\n",
            "Feature 14: 0.19387263695728305\n",
            "Feature 15: 0.10404221409776453\n",
            "Feature 16: 0.13405232423292646\n",
            "Feature 17: -0.016676702354797433\n",
            "Feature 18: -0.07895334137425246\n",
            "Feature 19: 0.08581596139598976\n",
            "Feature 20: 0.08764319132142225\n",
            "Feature 21: 0.08278657330976824\n",
            "Feature 22: 0.17359975236201092\n",
            "Feature 23: 0.1477811203713754\n",
            "Feature 24: 0.12160661106677849\n",
            "Feature 25: 0.3817548882101386\n",
            "Feature 26: -0.2146842912498925\n",
            "Feature 27: -0.0197364517373268\n",
            "Feature 28: -0.16607927605151532\n",
            "Feature 29: -0.2932799955258306\n",
            "Feature 30: -0.19207601601481464\n",
            "\n",
            "\n"
          ]
        }
      ]
    },
    {
      "cell_type": "markdown",
      "source": [
        "In addition, we utilized a scree plot with the number of eigenvalues on the x-axis and their corresponding sizes on the y-axis. This visualization provides valuable insights into the significance of each principal component in capturing the variability within the dataset."
      ],
      "metadata": {
        "id": "APtRXg39GI4M"
      }
    },
    {
      "cell_type": "code",
      "source": [
        "from sklearn.decomposition import PCA\n",
        "import matplotlib.pyplot as plt\n",
        "\n",
        "\n",
        "pca = PCA()\n",
        "X2_pca = pca.fit_transform(X2_scaled)\n",
        "\n",
        "# Get explained variance ratios\n",
        "explained_variance = pca.explained_variance_ratio_\n",
        "\n",
        "# Plot scree plot\n",
        "plt.plot(explained_variance, marker='o', label = 'Explained variance ratio')\n",
        "plt.xlabel(\"Eigenvalue number\")\n",
        "plt.ylabel(\"Eigenvalue size\")\n",
        "plt.title(\"Variance Explained by Principal Components\")\n",
        "plt.legend()\n",
        "plt.show()"
      ],
      "metadata": {
        "colab": {
          "base_uri": "https://localhost:8080/",
          "height": 472
        },
        "id": "7ZugRBNpFvRA",
        "outputId": "2e643857-cedb-437f-a794-459a01866342"
      },
      "execution_count": 211,
      "outputs": [
        {
          "output_type": "display_data",
          "data": {
            "text/plain": [
              "<Figure size 640x480 with 1 Axes>"
            ],
            "image/png": "[encoded data removed]"
          },
          "metadata": {}
        }
      ]
    },
    {
      "cell_type": "markdown",
      "source": [
        "### Trade-offs between Dimensionality Reduction and Model Performance"
      ],
      "metadata": {
        "id": "JuAcDRsYT0sE"
      }
    },
    {
      "cell_type": "markdown",
      "source": [
        "**Advantages:**\n",
        "*   By reducing the number of features, dimensionality reduction techniques help combat overfitting.\n",
        "*   Reduced dimensions can make the data more interpretable and easier to visualize.\n",
        "\n",
        "**Disadvantages:**\n",
        "\n",
        "*   Dimensionality reduction inevitably leads to some loss of information.\n",
        "*  The loss of information during dimensionality reduction impacts the interpretability and performance of downstream tasks.\n",
        "\n",
        "\n",
        "\n",
        "\n"
      ],
      "metadata": {
        "id": "ttRI3NDeUG_H"
      }
    },
    {
      "cell_type": "markdown",
      "source": [
        "##**Conclusion**"
      ],
      "metadata": {
        "id": "mTuZHlQCLXkv"
      }
    },
    {
      "cell_type": "markdown",
      "source": [
        "In summary, PCA plays a pivotal role in dimensionality reduction, offering numerous benefits such as effective data compression, interpretability, noise reduction, and improved model performance. Its implications for real-world data analysis are far-reaching, empowering analysts and data scientists to extract actionable insights from complex datasets and make informed decisions in various domains."
      ],
      "metadata": {
        "id": "2k4tzNo7XdTn"
      }
    }
  ]
}