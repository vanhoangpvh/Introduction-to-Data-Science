{
  "nbformat": 4,
  "nbformat_minor": 0,
  "metadata": {
    "colab": {
      "provenance": []
    },
    "kernelspec": {
      "name": "python3",
      "display_name": "Python 3"
    },
    "language_info": {
      "name": "python"
    }
  },
  "cells": [
    {
      "cell_type": "markdown",
      "source": [
        "# Introduction to Data Science - 22KDL\n",
        "## Lab01: Python fundamentals:\n"
      ],
      "metadata": {
        "id": "q23vSTg18BZM"
      }
    },
    {
      "cell_type": "markdown",
      "source": [
        "## Preliminaries\n",
        "Taking user input from the keyboard in Python:"
      ],
      "metadata": {
        "id": "T9jEKhg1JbaJ"
      }
    },
    {
      "cell_type": "code",
      "source": [
        "# Execute this cell and then type your name inside the box\n",
        "name = input(\"Please enter your names: \")\n",
        "print(name)"
      ],
      "metadata": {
        "colab": {
          "base_uri": "https://localhost:8080/"
        },
        "id": "eL84CH7_KPrU",
        "outputId": "ea4a3ac8-4201-44a8-d0d1-d4b233d05ecd"
      },
      "execution_count": 1,
      "outputs": [
        {
          "output_type": "stream",
          "name": "stdout",
          "text": [
            "Please enter your name: Phan Van Hoang\n",
            "Phan Van Hoang\n"
          ]
        }
      ]
    },
    {
      "cell_type": "markdown",
      "source": [
        "*Note* that everything from the user's keyboard input will be considered as a string. If you want to input an integer (same as float, etc), let's use `int()` to convert it into a correspoinding data type."
      ],
      "metadata": {
        "id": "UqKzvlN2LzZ0"
      }
    },
    {
      "cell_type": "markdown",
      "source": [
        "## Exercises"
      ],
      "metadata": {
        "id": "Hv6nWa66KtDM"
      }
    },
    {
      "cell_type": "markdown",
      "source": [
        "### Variable Exercises:\n",
        "**Q1:** Write a program that asks the user for their name and age, then prints out a message that says \"Hello `[name]`, you are `[age]` years old!\"\n",
        "Write a program that takes a user input number and prints out whether the number is odd or even."
      ],
      "metadata": {
        "id": "9mtZxwGw8ZHo"
      }
    },
    {
      "cell_type": "code",
      "source": [
        "# Your code starts here\n",
        "name = input('Enter name: ') #input your name\n",
        "age = input('Enter age: ') #input your age\n",
        "print('Hello ' + name + ', you are '+age +' years old!') #print name and age"
      ],
      "metadata": {
        "id": "PkAEFuJQtJeS"
      },
      "execution_count": null,
      "outputs": []
    },
    {
      "cell_type": "markdown",
      "source": [
        "\n",
        "**Q2:** Write a program that takes a user input number and prints out whether the number is odd or even."
      ],
      "metadata": {
        "id": "BpocBEVV9HBv"
      }
    },
    {
      "cell_type": "code",
      "source": [
        "# Your code starts here\n",
        "number = input('Enter a number: ') #input the number\n",
        "\n",
        "if int(number) % 2 == 0: # the number is even\n",
        "    print('The number ' + str(number) + ' is even')\n",
        "else: # the number is odd\n",
        "    print('The number ' + str(number) + ' is odd')\n",
        "\n"
      ],
      "metadata": {
        "id": "DFVcRPpK9HVz"
      },
      "execution_count": null,
      "outputs": []
    },
    {
      "cell_type": "markdown",
      "source": [
        "### Loop Exercises:\n",
        "**Q3:** Write a program that prints out the numbers from 1 to 10 using a for loop."
      ],
      "metadata": {
        "id": "yqvc5Ja49cSK"
      }
    },
    {
      "cell_type": "code",
      "source": [
        "# Your code starts from here\n",
        "for i in range(1,11):\n",
        "    print(i)"
      ],
      "metadata": {
        "id": "kD-3iVGZ9k9q"
      },
      "execution_count": null,
      "outputs": []
    },
    {
      "cell_type": "markdown",
      "source": [
        "**Q4:** Write a program that asks the user to input a number, then prints out all the even numbers between 0 and the user input number using a while loop."
      ],
      "metadata": {
        "id": "Nmvi45ry9mah"
      }
    },
    {
      "cell_type": "code",
      "source": [
        "# Your code starts from here\n",
        "number =  input('Enter number: ') # input the number\n",
        "i = 0\n",
        "while (i <= int(number)):\n",
        "    if(i % 2 == 0):\n",
        "        print(i) # print the number which is even\n",
        "\n",
        "    i = i + 1\n",
        "\n"
      ],
      "metadata": {
        "id": "7eWg6Tb39q5k"
      },
      "execution_count": null,
      "outputs": []
    },
    {
      "cell_type": "markdown",
      "source": [
        "### List Exercises:\n",
        "**Q5:** Write a program that takes the last 5 elements of a list `numbers`"
      ],
      "metadata": {
        "id": "SLkSRDHs_XvQ"
      }
    },
    {
      "cell_type": "code",
      "source": [
        "numbers = [5, 1, 7, 7, 8, 10, -2, 6, 8, 9, -5, 11, 20]\n",
        "\n",
        "# Your code starts from here:\n",
        "print(numbers[-5:]) #Take last 5 elements in the list"
      ],
      "metadata": {
        "id": "x4A2CEal_sW8",
        "colab": {
          "base_uri": "https://localhost:8080/"
        },
        "outputId": "6e974561-f67d-4024-c6d1-2dadad390edc"
      },
      "execution_count": null,
      "outputs": [
        {
          "output_type": "stream",
          "name": "stdout",
          "text": [
            "[8, 9, -5, 11, 20]\n"
          ]
        }
      ]
    },
    {
      "cell_type": "markdown",
      "source": [
        "**Q6:** Write a program that takes a list of `numbers` from 1 to 10 and returns a new list containing only the even numbers. (Recommend to use list comprehension)"
      ],
      "metadata": {
        "id": "Jtj9oyRe-cjV"
      }
    },
    {
      "cell_type": "code",
      "source": [
        "numbers = [1,2,3,4,5,6,7,8,9,10]\n",
        "even_numbers = []\n",
        "for x in numbers:\n",
        "    if x %2 == 0:\n",
        "        even_numbers.append(x)\n",
        "\n",
        "print(even_numbers)"
      ],
      "metadata": {
        "id": "zgie8u2_-1BJ"
      },
      "execution_count": null,
      "outputs": []
    },
    {
      "cell_type": "markdown",
      "source": [
        "### Dictionary Exercises:\n",
        "**Q7:** Write a program that takes a dictionary of names and ages and returns a new dictionary containing only the names of people who are over 18 years old."
      ],
      "metadata": {
        "id": "cb0mKps4BnSW"
      }
    },
    {
      "cell_type": "code",
      "source": [
        "name_to_age = {'John': 19,\n",
        "                'Tom': 15,\n",
        "                'James': 30,\n",
        "                'Danny': 18,\n",
        "                'Lisa': 19,\n",
        "                'Rose': 17,\n",
        "                'Jisoo': 16,\n",
        "                'Jennie': 20}\n",
        "\n",
        "# Your code starts from here\n",
        "result = {}\n",
        "for key, value in name_to_age.items():\n",
        "    if value > 18:\n",
        "     result.update({key:value})\n",
        "\n",
        "print(result)"
      ],
      "metadata": {
        "id": "uyRz6j1kB-5S",
        "colab": {
          "base_uri": "https://localhost:8080/"
        },
        "outputId": "1acfe8f4-836e-4914-d50a-8b6848b53d9d"
      },
      "execution_count": null,
      "outputs": [
        {
          "output_type": "stream",
          "name": "stdout",
          "text": [
            "{'John': 19, 'James': 30, 'Lisa': 19, 'Jennie': 20}\n"
          ]
        }
      ]
    },
    {
      "cell_type": "markdown",
      "source": [
        "### Function Exercises:\n",
        "**Q8:** Write a function `calc_sum()` that takes a list of numbers `nums` as input and returns the sum of the numbers.\n"
      ],
      "metadata": {
        "id": "o4nZs67W9rj6"
      }
    },
    {
      "cell_type": "code",
      "source": [
        "def calc_sum(nums):\n",
        "    result = 0\n",
        "    for x in nums:\n",
        "        result = result + x\n",
        "    return result\n",
        "\n",
        "nums = [5, 3, -2, 4, -1]\n",
        "calc_sum(nums)"
      ],
      "metadata": {
        "id": "qYELBffHJJrW",
        "colab": {
          "base_uri": "https://localhost:8080/"
        },
        "outputId": "ffa14b19-af22-44bd-8592-32f523da98f4"
      },
      "execution_count": null,
      "outputs": [
        {
          "output_type": "stream",
          "name": "stdout",
          "text": [
            "9\n"
          ]
        }
      ]
    },
    {
      "cell_type": "markdown",
      "source": [
        "**Q9:** Write a function that takes a string as input and returns a dictionary containing the frequency of each character in the string."
      ],
      "metadata": {
        "id": "dXXLPMzk-JNi"
      }
    },
    {
      "cell_type": "code",
      "source": [
        "def count_char_freq(input_string):\n",
        "    my_dict = {}\n",
        "    for ch in string:\n",
        "        if ch not in my_dict:\n",
        "            my_dict.update({ch:1})\n",
        "        else:\n",
        "            my_dict[ch] += 1\n",
        "    return my_dict\n",
        "\n",
        "string = \"abcaccdefeef\"\n",
        "char_freq = count_char_freq(string)"
      ],
      "metadata": {
        "id": "kqtL-abJ-L7I"
      },
      "execution_count": null,
      "outputs": []
    },
    {
      "cell_type": "markdown",
      "source": [
        "### Pandas Exercises:\n",
        "Let's use dataset available at https://www.kaggle.com/datasets/shivamb/netflix-shows to complete the following exercises:\n",
        "\n",
        "**Q10:** Load a CSV file `netflix_titles.csv` into a pandas DataFrame and print out the first 10 rows."
      ],
      "metadata": {
        "id": "DdNrfKtyFzyz"
      }
    },
    {
      "cell_type": "code",
      "source": [
        "import pandas as pd\n",
        "\n",
        "df = pd.read_csv('netflix_titles.csv')\n",
        "print(df.head(10))"
      ],
      "metadata": {
        "id": "jbXzWA0WMHex",
        "colab": {
          "base_uri": "https://localhost:8080/"
        },
        "outputId": "c988e8f6-1c06-4d20-ef2b-1ff699c6e2fc"
      },
      "execution_count": null,
      "outputs": [
        {
          "output_type": "stream",
          "name": "stdout",
          "text": [
            "  show_id     type                             title  \\\n",
            "0      s1    Movie              Dick Johnson Is Dead   \n",
            "1      s2  TV Show                     Blood & Water   \n",
            "2      s3  TV Show                         Ganglands   \n",
            "3      s4  TV Show             Jailbirds New Orleans   \n",
            "4      s5  TV Show                      Kota Factory   \n",
            "5      s6  TV Show                     Midnight Mass   \n",
            "6      s7    Movie  My Little Pony: A New Generation   \n",
            "7      s8    Movie                           Sankofa   \n",
            "8      s9  TV Show     The Great British Baking Show   \n",
            "9     s10    Movie                      The Starling   \n",
            "\n",
            "                        director  \\\n",
            "0                Kirsten Johnson   \n",
            "1                            NaN   \n",
            "2                Julien Leclercq   \n",
            "3                            NaN   \n",
            "4                            NaN   \n",
            "5                  Mike Flanagan   \n",
            "6  Robert Cullen, José Luis Ucha   \n",
            "7                   Haile Gerima   \n",
            "8                Andy Devonshire   \n",
            "9                 Theodore Melfi   \n",
            "\n",
            "                                                cast  \\\n",
            "0                                                NaN   \n",
            "1  Ama Qamata, Khosi Ngema, Gail Mabalane, Thaban...   \n",
            "2  Sami Bouajila, Tracy Gotoas, Samuel Jouy, Nabi...   \n",
            "3                                                NaN   \n",
            "4  Mayur More, Jitendra Kumar, Ranjan Raj, Alam K...   \n",
            "5  Kate Siegel, Zach Gilford, Hamish Linklater, H...   \n",
            "6  Vanessa Hudgens, Kimiko Glenn, James Marsden, ...   \n",
            "7  Kofi Ghanaba, Oyafunmike Ogunlano, Alexandra D...   \n",
            "8  Mel Giedroyc, Sue Perkins, Mary Berry, Paul Ho...   \n",
            "9  Melissa McCarthy, Chris O'Dowd, Kevin Kline, T...   \n",
            "\n",
            "                                             country          date_added  \\\n",
            "0                                      United States  September 25, 2021   \n",
            "1                                       South Africa  September 24, 2021   \n",
            "2                                                NaN  September 24, 2021   \n",
            "3                                                NaN  September 24, 2021   \n",
            "4                                              India  September 24, 2021   \n",
            "5                                                NaN  September 24, 2021   \n",
            "6                                                NaN  September 24, 2021   \n",
            "7  United States, Ghana, Burkina Faso, United Kin...  September 24, 2021   \n",
            "8                                     United Kingdom  September 24, 2021   \n",
            "9                                      United States  September 24, 2021   \n",
            "\n",
            "   release_year rating   duration  \\\n",
            "0          2020  PG-13     90 min   \n",
            "1          2021  TV-MA  2 Seasons   \n",
            "2          2021  TV-MA   1 Season   \n",
            "3          2021  TV-MA   1 Season   \n",
            "4          2021  TV-MA  2 Seasons   \n",
            "5          2021  TV-MA   1 Season   \n",
            "6          2021     PG     91 min   \n",
            "7          1993  TV-MA    125 min   \n",
            "8          2021  TV-14  9 Seasons   \n",
            "9          2021  PG-13    104 min   \n",
            "\n",
            "                                           listed_in  \\\n",
            "0                                      Documentaries   \n",
            "1    International TV Shows, TV Dramas, TV Mysteries   \n",
            "2  Crime TV Shows, International TV Shows, TV Act...   \n",
            "3                             Docuseries, Reality TV   \n",
            "4  International TV Shows, Romantic TV Shows, TV ...   \n",
            "5                 TV Dramas, TV Horror, TV Mysteries   \n",
            "6                           Children & Family Movies   \n",
            "7   Dramas, Independent Movies, International Movies   \n",
            "8                       British TV Shows, Reality TV   \n",
            "9                                   Comedies, Dramas   \n",
            "\n",
            "                                         description  \n",
            "0  As her father nears the end of his life, filmm...  \n",
            "1  After crossing paths at a party, a Cape Town t...  \n",
            "2  To protect his family from a powerful drug lor...  \n",
            "3  Feuds, flirtations and toilet talk go down amo...  \n",
            "4  In a city of coaching centers known to train I...  \n",
            "5  The arrival of a charismatic young priest brin...  \n",
            "6  Equestria's divided. But a bright-eyed hero be...  \n",
            "7  On a photo shoot in Ghana, an American model s...  \n",
            "8  A talented batch of amateur bakers face off in...  \n",
            "9  A woman adjusting to life after a loss contend...  \n"
          ]
        }
      ]
    },
    {
      "cell_type": "markdown",
      "source": [
        "**Q11:** Show movies that were released between 2016 and 2020 (i.e, including 2016 and 2020). *Hint: you might be interested in `release_year`."
      ],
      "metadata": {
        "id": "switI7YdMH_M"
      }
    },
    {
      "cell_type": "code",
      "source": [
        "import pandas as pd\n",
        "\n",
        "df = pd.read_csv('netflix_titles.csv')\n",
        "\n",
        "bool =(df['release_year'] >= 2016) & (df['release_year'] <= 2020)\n",
        "print(df[bool])"
      ],
      "metadata": {
        "id": "CHprGj-fMIdO",
        "colab": {
          "base_uri": "https://localhost:8080/"
        },
        "outputId": "61918d1d-f365-4c14-c8c0-288bb04739e7"
      },
      "execution_count": null,
      "outputs": [
        {
          "output_type": "stream",
          "name": "stdout",
          "text": [
            "     show_id     type                                              title  \\\n",
            "0         s1    Movie                               Dick Johnson Is Dead   \n",
            "16       s17    Movie  Europe's Most Dangerous Man: Otto Skorzeny in ...   \n",
            "17       s18  TV Show                                    Falsa identidad   \n",
            "21       s22  TV Show                             Resurrection: Ertugrul   \n",
            "32       s33  TV Show                                      Sex Education   \n",
            "...      ...      ...                                                ...   \n",
            "8787   s8788    Movie                          You Can’t Fight Christmas   \n",
            "8794   s8795    Movie                                             اشتباك   \n",
            "8796   s8797  TV Show                                         Yunus Emre   \n",
            "8797   s8798  TV Show                                          Zak Storm   \n",
            "8803   s8804  TV Show                                        Zombie Dumb   \n",
            "\n",
            "                                           director  \\\n",
            "0                                   Kirsten Johnson   \n",
            "16    Pedro de Echave García, Pablo Azorín Williams   \n",
            "17                                              NaN   \n",
            "21                                              NaN   \n",
            "32                                              NaN   \n",
            "...                                             ...   \n",
            "8787                                    Kenny Young   \n",
            "8794                                   Mohamed Diab   \n",
            "8796                                            NaN   \n",
            "8797                                            NaN   \n",
            "8803                                            NaN   \n",
            "\n",
            "                                                   cast  \\\n",
            "0                                                   NaN   \n",
            "16                                                  NaN   \n",
            "17    Luis Ernesto Franco, Camila Sodi, Sergio Goyri...   \n",
            "21    Engin Altan Düzyatan, Serdar Gökhan, Hülya Dar...   \n",
            "32    Asa Butterfield, Gillian Anderson, Ncuti Gatwa...   \n",
            "...                                                 ...   \n",
            "8787  Brely Evans, Andra Fuller, Persia White, Porsc...   \n",
            "8794  Nelly Karim, Hany Adel, Tarek Abdel Aziz, Ahme...   \n",
            "8796  Gökhan Atalay, Payidar Tüfekçioglu, Baran Akbu...   \n",
            "8797  Michael Johnston, Jessica Gee-George, Christin...   \n",
            "8803                                                NaN   \n",
            "\n",
            "                                            country          date_added  \\\n",
            "0                                     United States  September 25, 2021   \n",
            "16                                              NaN  September 22, 2021   \n",
            "17                                           Mexico  September 22, 2021   \n",
            "21                                           Turkey  September 22, 2021   \n",
            "32                                   United Kingdom  September 17, 2021   \n",
            "...                                             ...                 ...   \n",
            "8787                                  United States   December 19, 2017   \n",
            "8794                                  Egypt, France    October 11, 2018   \n",
            "8796                                         Turkey    January 17, 2017   \n",
            "8797  United States, France, South Korea, Indonesia  September 13, 2018   \n",
            "8803                                            NaN        July 1, 2019   \n",
            "\n",
            "      release_year rating   duration  \\\n",
            "0             2020  PG-13     90 min   \n",
            "16            2020  TV-MA     67 min   \n",
            "17            2020  TV-MA  2 Seasons   \n",
            "21            2018  TV-14  5 Seasons   \n",
            "32            2020  TV-MA  3 Seasons   \n",
            "...            ...    ...        ...   \n",
            "8787          2017  TV-PG     85 min   \n",
            "8794          2016  TV-14     98 min   \n",
            "8796          2016  TV-PG  2 Seasons   \n",
            "8797          2016  TV-Y7  3 Seasons   \n",
            "8803          2018  TV-Y7  2 Seasons   \n",
            "\n",
            "                                              listed_in  \\\n",
            "0                                         Documentaries   \n",
            "16                  Documentaries, International Movies   \n",
            "17    Crime TV Shows, Spanish-Language TV Shows, TV ...   \n",
            "21    International TV Shows, TV Action & Adventure,...   \n",
            "32    British TV Shows, International TV Shows, TV C...   \n",
            "...                                                 ...   \n",
            "8787                          Comedies, Romantic Movies   \n",
            "8794   Dramas, Independent Movies, International Movies   \n",
            "8796                  International TV Shows, TV Dramas   \n",
            "8797                                           Kids' TV   \n",
            "8803             Kids' TV, Korean TV Shows, TV Comedies   \n",
            "\n",
            "                                            description  \n",
            "0     As her father nears the end of his life, filmm...  \n",
            "16    Declassified documents reveal the post-WWII li...  \n",
            "17    Strangers Diego and Isabel flee their home in ...  \n",
            "21    When a good deed unwittingly endangers his cla...  \n",
            "32    Insecure Otis has all the answers when it come...  \n",
            "...                                                 ...  \n",
            "8787  After stepping in to revitalize his family's h...  \n",
            "8794  Amid the tumult following Egyptian President M...  \n",
            "8796  During the Mongol invasions, Yunus Emre leaves...  \n",
            "8797  Teen surfer Zak Storm is mysteriously transpor...  \n",
            "8803  While living alone in a spooky town, a young g...  \n",
            "\n",
            "[5064 rows x 12 columns]\n"
          ]
        }
      ]
    }
  ]
}
